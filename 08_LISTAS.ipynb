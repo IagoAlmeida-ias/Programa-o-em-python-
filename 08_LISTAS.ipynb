{
  "nbformat": 4,
  "nbformat_minor": 0,
  "metadata": {
    "colab": {
      "provenance": [],
      "authorship_tag": "ABX9TyN4Kvc2dsewqiIL7FMTVZrd",
      "include_colab_link": true
    },
    "kernelspec": {
      "name": "python3",
      "display_name": "Python 3"
    },
    "language_info": {
      "name": "python"
    }
  },
  "cells": [
    {
      "cell_type": "markdown",
      "metadata": {
        "id": "view-in-github",
        "colab_type": "text"
      },
      "source": [
        "<a href=\"https://colab.research.google.com/github/IagoAlmeida-ias/Programa-o-em-python-/blob/main/08_LISTAS.ipynb\" target=\"_parent\"><img src=\"https://colab.research.google.com/assets/colab-badge.svg\" alt=\"Open In Colab\"/></a>"
      ]
    },
    {
      "cell_type": "markdown",
      "source": [
        "# 08 LISTAS"
      ],
      "metadata": {
        "id": "LuxN7lhuN-fY"
      }
    },
    {
      "cell_type": "code",
      "execution_count": null,
      "metadata": {
        "colab": {
          "base_uri": "https://localhost:8080/"
        },
        "id": "qOOBKArCN6tn",
        "outputId": "b5658400-47f3-47fa-f9a9-9e248d6aaeec"
      },
      "outputs": [
        {
          "output_type": "stream",
          "name": "stdout",
          "text": [
            "<class 'list'>\n",
            "<class 'list'>\n"
          ]
        }
      ],
      "source": [
        "# CRIAR LISTA VAZIA\n",
        "\n",
        "\n",
        "lista1 = []\n",
        "lista2 = list()\n",
        "\n",
        "\n",
        "print(type(lista1))\n",
        "print(type(lista2))"
      ]
    },
    {
      "cell_type": "code",
      "source": [
        "# MANIPULAÇÃO DE LISTAS\n",
        "\n",
        "\n",
        "bancos = ['Banco do Brasil', 'CEF', 'Santander']\n",
        "print(bancos)\n",
        "print(bancos[1])\n",
        "\n",
        "\n",
        "# SUBSTITUIR ITEM DA LISTA\n",
        "bancos[1] = 'Itaú'\n",
        "print(bancos)\n",
        "\n",
        "\n",
        "# SUBSTITUIR ÚLTIMO ITEM DA LISTA\n",
        "bancos[-1] = 'C6'\n",
        "print(bancos)\n",
        "\n",
        "\n",
        "# AGREGAR ITENS A LISTA\n",
        "bancos = bancos + ['Safra']\n",
        "print(bancos)\n",
        "\n",
        "\n",
        "# AGREGAR ITENS A LISTA (Operador de atribuição)\n",
        "bancos += ['Bradesco', 'Nubank']\n",
        "print(bancos)"
      ],
      "metadata": {
        "colab": {
          "base_uri": "https://localhost:8080/"
        },
        "id": "HAkNRre0ODcz",
        "outputId": "7fa6f6ae-1d20-4369-bb86-fd77481173f6"
      },
      "execution_count": null,
      "outputs": [
        {
          "output_type": "stream",
          "name": "stdout",
          "text": [
            "['Banco do Brasil', 'CEF', 'Santander']\n",
            "CEF\n",
            "['Banco do Brasil', 'Itaú', 'Santander']\n",
            "['Banco do Brasil', 'Itaú', 'C6']\n",
            "['Banco do Brasil', 'Itaú', 'C6', 'Safra']\n",
            "['Banco do Brasil', 'Itaú', 'C6', 'Safra', 'Bradesco', 'Nubank']\n"
          ]
        }
      ]
    },
    {
      "cell_type": "code",
      "source": [
        "# MÉTODOS PARA LISTAS\n",
        "\n",
        "\n",
        "lista = [4, 5, 3, 5]\n",
        "print(lista)\n",
        "\n",
        "\n",
        "# ADICIONAR ITENS A LISTA\n",
        "lista.append(2)\n",
        "print(lista)\n",
        "\n",
        "\n",
        "# ADICIONAR VALOR NO ÍNDICE ESPECÍFICO\n",
        "lista.insert(2, -3)\n",
        "print(lista)\n",
        "\n",
        "\n",
        "# CONTAR VALORES\n",
        "print(lista.count(5))\n",
        "\n",
        "\n",
        "# VERIFICAR TAMANHO DA LISTA\n",
        "print(len(lista))\n",
        "\n",
        "\n",
        "# OBTER ÍNDICE DO ITEM DA LISTA\n",
        "print(lista.index(5))\n",
        "\n",
        "\n",
        "# REVERTER ITENS DA LISTA\n",
        "lista.reverse() # Não atribuir a uma variável\n",
        "print(lista)\n",
        "\n",
        "\n",
        "# ORDENAR A LISTA\n",
        "lista.sort() # Não atribuir a uma variável\n",
        "print(lista)\n",
        "\n",
        "\n",
        "# REMOVER ITEM ATRAVÉS DO VALOR\n",
        "lista.remove(5)\n",
        "print(lista)\n",
        "\n",
        "\n",
        "# REMOVER ÚLTIMO ITEM DA LISTA (recebe valor removido)\n",
        "removeu = lista.pop()\n",
        "print(removeu)\n",
        "print(lista)\n",
        "\n",
        "\n",
        "# REMOVER INTERVALO OU ÍNDICE\n",
        "del lista[1:3]\n",
        "print(lista)\n",
        "\n",
        "\n",
        "# LIMPAR LISTA\n",
        "lista.clear()\n",
        "print(lista)"
      ],
      "metadata": {
        "colab": {
          "base_uri": "https://localhost:8080/"
        },
        "id": "J3CMDh6WOGjq",
        "outputId": "f1dd6579-5b89-4951-a91b-9895c044886a"
      },
      "execution_count": null,
      "outputs": [
        {
          "output_type": "stream",
          "name": "stdout",
          "text": [
            "[4, 5, 3, 5]\n",
            "[4, 5, 3, 5, 2]\n",
            "[4, 5, -3, 3, 5, 2]\n",
            "2\n",
            "6\n",
            "1\n",
            "[2, 5, 3, -3, 5, 4]\n",
            "[-3, 2, 3, 4, 5, 5]\n",
            "[-3, 2, 3, 4, 5]\n",
            "5\n",
            "[-3, 2, 3, 4]\n",
            "[-3, 4]\n",
            "[]\n"
          ]
        }
      ]
    },
    {
      "cell_type": "code",
      "source": [
        "# LISTA DENTRO DE LISTA\n",
        "\n",
        "\n",
        "compras = [10.2, 3.35, 16.3, ['Tomate', 'Cebola', 'Pimentão']]\n",
        "print(compras)\n",
        "print(compras[3])\n",
        "print(compras[3][1])"
      ],
      "metadata": {
        "colab": {
          "base_uri": "https://localhost:8080/"
        },
        "id": "beZQD27uOHrk",
        "outputId": "141eda4a-69bf-4e6c-d99f-5660e06cf11c"
      },
      "execution_count": null,
      "outputs": [
        {
          "output_type": "stream",
          "name": "stdout",
          "text": [
            "[10.2, 3.35, 16.3, ['Tomate', 'Cebola', 'Pimentão']]\n",
            "['Tomate', 'Cebola', 'Pimentão']\n",
            "Cebola\n"
          ]
        }
      ]
    },
    {
      "cell_type": "code",
      "source": [
        "# EXEMPLO\n",
        "\n",
        "\n",
        "\n",
        "compras = [10.2, 3.35, 16.3, ['Tomate', 'Cebola', 'Pimentão']]\n",
        "\n",
        "print(f\"O \\033[31m{compras[3][0]}\\033[0m custa R$: {compras[0]:,.2f}\")\n",
        "print(f\"O \\033[35m{compras[3][1]}\\033[0m custa R$: {compras[1]:,.2f}\")\n",
        "print(f\"O \\033[32m{compras[3][2]}\\033[0m custa R$: {compras[2]:,.2f}\")\n",
        "print(f\"A compra deu R$: {compras[0]+compras[2]+compras[1]:,.2f}\")"
      ],
      "metadata": {
        "colab": {
          "base_uri": "https://localhost:8080/"
        },
        "id": "C2I8u3kwOJCY",
        "outputId": "7ab6e0ef-275f-4c27-f9a7-f89a4b9fd1ee"
      },
      "execution_count": null,
      "outputs": [
        {
          "output_type": "stream",
          "name": "stdout",
          "text": [
            "O \u001b[31mTomate\u001b[0m custa R$: 10.20\n",
            "O \u001b[35mCebola\u001b[0m custa R$: 3.35\n",
            "O \u001b[32mPimentão\u001b[0m custa R$: 16.30\n",
            "A compra deu R$: 29.85\n"
          ]
        }
      ]
    },
    {
      "cell_type": "code",
      "source": [
        "# PERCORRER UMA LISTA\n",
        "\n",
        "\n",
        "roupas = ['Camiseta', 'Bermuda', 'Calça', 'Meia']\n",
        "for peca in roupas:\n",
        "    print(peca)"
      ],
      "metadata": {
        "colab": {
          "base_uri": "https://localhost:8080/"
        },
        "id": "5YxMLbfYOJT7",
        "outputId": "271d88ff-c687-4335-b444-bcdccd5b180b"
      },
      "execution_count": null,
      "outputs": [
        {
          "output_type": "stream",
          "name": "stdout",
          "text": [
            "Camiseta\n",
            "Bermuda\n",
            "Calça\n",
            "Meia\n"
          ]
        }
      ]
    },
    {
      "cell_type": "code",
      "source": [
        "# PERCORRER UMA LISTA ATRAVÉS DO ÍNDICE\n",
        "\n",
        "\n",
        "roupas = ['Camiseta', 'Bermuda', 'Calça', 'Meia']\n",
        "for i in range(len(roupas)):\n",
        "    print(i+1, roupas[i])"
      ],
      "metadata": {
        "colab": {
          "base_uri": "https://localhost:8080/"
        },
        "id": "z0aNx49lOJkp",
        "outputId": "cd3a249e-794b-4cbf-80a2-d790d8f198eb"
      },
      "execution_count": null,
      "outputs": [
        {
          "output_type": "stream",
          "name": "stdout",
          "text": [
            "1 Camiseta\n",
            "2 Bermuda\n",
            "3 Calça\n",
            "4 Meia\n"
          ]
        }
      ]
    },
    {
      "cell_type": "code",
      "source": [
        "# PERCORRER UMA LISTA COM ÍNDICE E VALOR\n",
        "\n",
        "\n",
        "roupas = ['Camiseta', 'Bermuda', 'Calça', 'Meia']\n",
        "for i, peca in enumerate(roupas):\n",
        "    print(i+1, peca)\n"
      ],
      "metadata": {
        "colab": {
          "base_uri": "https://localhost:8080/"
        },
        "id": "teqPSDphOJxf",
        "outputId": "74e207e4-0d48-4482-d3bc-8a3344830415"
      },
      "execution_count": null,
      "outputs": [
        {
          "output_type": "stream",
          "name": "stdout",
          "text": [
            "1 Camiseta\n",
            "2 Bermuda\n",
            "3 Calça\n",
            "4 Meia\n"
          ]
        }
      ]
    },
    {
      "cell_type": "code",
      "source": [
        "# VERIFICAR SE UMA LISTA POSSUI ITENS\n",
        "\n",
        "\n",
        "letras = ['a', 'b', 'c', 'd', 'e', 'f']\n",
        "letra = input(\"Digite a letra: \").lower()\n",
        "\n",
        "\n",
        "if letra in letras:\n",
        "    print(\"\\033[32mEstá\")\n",
        "else:\n",
        "    print(\"\\033[31mNão está\")"
      ],
      "metadata": {
        "colab": {
          "base_uri": "https://localhost:8080/"
        },
        "id": "8x7kczfNOKMP",
        "outputId": "ccd26d95-6ac5-4470-e671-5a57035d97cc"
      },
      "execution_count": null,
      "outputs": [
        {
          "output_type": "stream",
          "name": "stdout",
          "text": [
            "Digite a letra: l\n",
            "\u001b[31mNão está\n"
          ]
        }
      ]
    },
    {
      "cell_type": "code",
      "source": [
        "# VERIFICAR SE UMA LISTA NÃO POSSUI ITENS\n",
        "\n",
        "\n",
        "letras = ['a', 'b', 'c', 'd', 'e', 'f']\n",
        "letra = input(\"Digite a letra: \").lower()\n",
        "\n",
        "\n",
        "if letra not in letras:\n",
        "    print(\"\\033[31mNão está\")\n",
        "else:\n",
        "    print(\"\\033[32mEstá\")"
      ],
      "metadata": {
        "colab": {
          "base_uri": "https://localhost:8080/"
        },
        "id": "w_1Du8cCOLFt",
        "outputId": "33111a99-50d5-4406-abeb-15ed9a4d1ad1"
      },
      "execution_count": null,
      "outputs": [
        {
          "output_type": "stream",
          "name": "stdout",
          "text": [
            "Digite a letra: l\n",
            "\u001b[31mNão está\n"
          ]
        }
      ]
    },
    {
      "cell_type": "markdown",
      "source": [
        "DESAFIOS"
      ],
      "metadata": {
        "id": "2CmM5PUPOTwp"
      }
    },
    {
      "cell_type": "code",
      "source": [
        "# DESAFIO 01\n",
        "\n",
        "num = []\n",
        "for i in range(1, 6):\n",
        "    n = int(input(f\"Digite o {i}º numero: \"))\n",
        "    num.append(n)\n",
        "\n",
        "print(f\"maior numero é o {max(num)} e a posisão dele é {num.index(max(num))+1} \")\n",
        "print(f\"menor numero é o {min(num)} e a posisão dele é {num.index(min(num))+1} \")\n"
      ],
      "metadata": {
        "colab": {
          "base_uri": "https://localhost:8080/"
        },
        "id": "CP8Gx6x_OK7r",
        "outputId": "644d4d5f-678e-4353-ef4f-c39296b7f2b5"
      },
      "execution_count": null,
      "outputs": [
        {
          "output_type": "stream",
          "name": "stdout",
          "text": [
            "Digite o 1º numero: 7\n",
            "Digite o 2º numero: 9\n",
            "Digite o 3º numero: 4\n",
            "Digite o 4º numero: 1\n",
            "Digite o 5º numero: 6\n",
            "maior numero é o: 9 e a posisão dele é 2 \n",
            "menor numero é o: 1 e a posisão dele é 4 \n"
          ]
        }
      ]
    },
    {
      "cell_type": "code",
      "source": [
        "# DESAFIO 02\n",
        "\n",
        "nu = []\n",
        "while True:\n",
        "    nume = int(input(\"Digite um nº (0 para sair): \"))\n",
        "    if nume == 0:\n",
        "        print(\"Voce saiu...\")\n",
        "        break\n",
        "    if nume not in nu:\n",
        "       nu.append(nume)\n",
        "\n",
        "\n",
        "    else:\n",
        "        print(f\"\\033[31mO nº {nume} ja foi cadastrado...\\033[0m\")\n",
        "nu.sort()\n",
        "print(nu)"
      ],
      "metadata": {
        "colab": {
          "base_uri": "https://localhost:8080/"
        },
        "id": "y0qzgolPOKyb",
        "outputId": "6e96623f-13ca-4a69-888e-43472ac6977b"
      },
      "execution_count": null,
      "outputs": [
        {
          "output_type": "stream",
          "name": "stdout",
          "text": [
            "Digite o 1º numero: 7\n",
            "Digite o 2º numero: 6\n",
            "Digite o 3º numero: 5\n",
            "Digite o 4º numero: 4\n",
            "Digite o 5º numero: 7\n",
            "[4, 5, 6, 7]\n"
          ]
        }
      ]
    },
    {
      "cell_type": "code",
      "source": [
        "# DESAFIO 03\n",
        "qt = 0\n",
        "nume = []\n",
        "while True:\n",
        "    no = int(input(\"Digite um nº (0 para sair): \"))\n",
        "    if no == 0:\n",
        "       print(\"\\nVoce saiu...\")\n",
        "       break\n",
        "    nume.append(no)\n",
        "    qt += 1\n",
        "    if no == 5:\n",
        "       print(f\"\\nO 5 foi digitado\")\n",
        "\n",
        "if 5 not in nume:\n",
        "   print()\n",
        "else:\n",
        "    print(\"\\ntem 5 na lista\")\n",
        "\n",
        "nume.sort()\n",
        "nume.reverse()\n",
        "\n",
        "print(qt)\n",
        "print(nume)"
      ],
      "metadata": {
        "colab": {
          "base_uri": "https://localhost:8080/"
        },
        "id": "Nz3rpQPYOKlb",
        "outputId": "0e4adaed-f332-4644-9501-41abf06e03ee"
      },
      "execution_count": null,
      "outputs": [
        {
          "output_type": "stream",
          "name": "stdout",
          "text": [
            "Digite um nº (0 para sair): 8\n",
            "Digite um nº (0 para sair): 9\n",
            "Digite um nº (0 para sair): 4\n",
            "Digite um nº (0 para sair): 1\n",
            "Digite um nº (0 para sair): 5\n",
            "\n",
            "O 5 foi digitado\n",
            "Digite um nº (0 para sair): 6\n",
            "Digite um nº (0 para sair): 3\n",
            "Digite um nº (0 para sair): 5\n",
            "\n",
            "O 5 foi digitado\n",
            "Digite um nº (0 para sair): 0\n",
            "\n",
            "Voce saiu...\n",
            "\n",
            "tem 5 na lista\n",
            "8\n",
            "[9, 8, 6, 5, 5, 4, 3, 1]\n"
          ]
        }
      ]
    },
    {
      "cell_type": "code",
      "source": [
        "# DESAFIO 04\n",
        "\n",
        "numeros = []\n",
        "numeros_par = []\n",
        "numeros_impar = []\n",
        "\n",
        "while True:\n",
        "    no = int(input(\"Digite um nº (0 para sair): \"))\n",
        "    numeros.append(no)\n",
        "    if no == 0:\n",
        "        print(\"Voce saiu...\")\n",
        "        break\n",
        "    if no%2 == 0:\n",
        "      numeros_par.append(no)\n",
        "      numeros_par.sort()\n",
        "    else:\n",
        "        numeros_impar.append(no)\n",
        "        numeros_impar.sort()\n",
        "\n",
        "print(f\"\\n{numeros}\")\n",
        "print(f\"\\n{numeros_par}\")\n",
        "print(f\"\\n{numeros_impar}\")"
      ],
      "metadata": {
        "colab": {
          "base_uri": "https://localhost:8080/"
        },
        "id": "DykU4KYvTV8L",
        "outputId": "4125859a-ba2f-4e7b-fef0-4d18e2c04fb9"
      },
      "execution_count": null,
      "outputs": [
        {
          "output_type": "stream",
          "name": "stdout",
          "text": [
            "Digite o 5º numero: 0\n",
            "Voce saiu...\n",
            "\n",
            "[0]\n",
            "\n",
            "[]\n",
            "\n",
            "[]\n"
          ]
        }
      ]
    },
    {
      "cell_type": "code",
      "source": [
        "# DESAFIO 05 BÔNUS\n",
        "\n",
        "n = []\n",
        "for x in range(1, 6):\n",
        "    num = int(input(f\"Digite o {x}º número: \"))\n",
        "    n.append(num)\n",
        "\n",
        "\n",
        "for i in range(len(n)):\n",
        "    for j in range(len(n)):\n",
        "        if n[i] < n[j]:\n",
        "            n[i], n[j] = n[j], n[i]\n",
        "            print(n)\n",
        "\n",
        "\n",
        "print(f\"\\nNúmeros em ordem: {n}\")"
      ],
      "metadata": {
        "id": "oGEM0KRAVFuw",
        "colab": {
          "base_uri": "https://localhost:8080/"
        },
        "outputId": "cee14847-e1e9-4e29-a9c2-0349ce51945a",
        "collapsed": true
      },
      "execution_count": null,
      "outputs": [
        {
          "output_type": "stream",
          "name": "stdout",
          "text": [
            "Digite o 1º número: 5\n",
            "Digite o 2º número: 5\n",
            "Digite o 3º número: 4\n",
            "Digite o 4º número: 6\n",
            "Digite o 5º número: 2\n",
            "[6, 5, 4, 5, 2]\n",
            "[5, 6, 4, 5, 2]\n",
            "[4, 6, 5, 5, 2]\n",
            "[4, 5, 6, 5, 2]\n",
            "[4, 5, 5, 6, 2]\n",
            "[2, 5, 5, 6, 4]\n",
            "[2, 4, 5, 6, 5]\n",
            "[2, 4, 5, 5, 6]\n",
            "\n",
            "Números em ordem: [2, 4, 5, 5, 6]\n"
          ]
        }
      ]
    },
    {
      "cell_type": "code",
      "source": [
        "# DESAFIO 06 BÔNUS\n",
        "\n",
        "lista_matrizes = [\n",
        "    [[1, 2, 3], [4, 5, 6], [7, 8, 9]],\n",
        "    [[10, 11, 12], [13, 14, 15], [16, 17, 18]],\n",
        "    [[19, 20, 21], [22, 23, 24], [25, 26, 27]]\n",
        "]\n",
        "lista_junta = []\n",
        "\n",
        "lista_junta.append(lista_matrizes[0][0])\n",
        "lista_junta.append(lista_matrizes[0][1])\n",
        "lista_junta.append(lista_matrizes[0][2])\n",
        "lista_junta.append(lista_matrizes[1][0])\n",
        "lista_junta.append(lista_matrizes[1][1])\n",
        "lista_junta.append(lista_matrizes[1][2])\n",
        "lista_junta.append(lista_matrizes[2][0])\n",
        "lista_junta.append(lista_matrizes[2][1])\n",
        "lista_junta.append(lista_matrizes[2][2])\n",
        "\n",
        "n = lista_junta[0][0]+lista_junta[0][1]+lista_junta[0][2]\n",
        "n1 = lista_junta[1][0]+lista_junta[1][1]+lista_junta[1][2]\n",
        "n2 = lista_junta[2][0]+lista_junta[2][1]+lista_junta[2][2]\n",
        "n3 = lista_junta[3][0]+lista_junta[3][1]+lista_junta[3][2]\n",
        "n4 = lista_junta[4][0]+lista_junta[4][1]+lista_junta[4][2]\n",
        "n5 = lista_junta[5][0]+lista_junta[5][1]+lista_junta[5][2]\n",
        "n6 = lista_junta[6][0]+lista_junta[6][1]+lista_junta[6][2]\n",
        "n7 = lista_junta[7][0]+lista_junta[7][1]+lista_junta[7][2]\n",
        "n8 = lista_junta[8][0]+lista_junta[8][1]+lista_junta[8][2]\n",
        "\n",
        "\n",
        "\n",
        "\n",
        "print(lista_junta)\n",
        "print(n+n1+n2+n3+n4+n5+n6+n7+n8)\n"
      ],
      "metadata": {
        "colab": {
          "base_uri": "https://localhost:8080/"
        },
        "id": "cDHgy5pxcFad",
        "outputId": "31dbcb3c-2478-4e10-bf1b-0149010d75a7"
      },
      "execution_count": null,
      "outputs": [
        {
          "output_type": "stream",
          "name": "stdout",
          "text": [
            "[[1, 2, 3], [4, 5, 6], [7, 8, 9], [10, 11, 12], [13, 14, 15], [16, 17, 18], [19, 20, 21], [22, 23, 24], [25, 26, 27]]\n",
            "378\n"
          ]
        }
      ]
    },
    {
      "cell_type": "code",
      "source": [
        "lista_matrizes = [\n",
        "    [[1, 2, 3], [4, 5, 6], [7, 8, 9]],\n",
        "    [[10, 11, 12], [13, 14, 15], [16, 17, 18]],\n",
        "    [[19, 20, 21], [22, 23, 24], [25, 26, 27]]\n",
        "]\n",
        "\n",
        "\n",
        "soma = 0\n",
        "for matriz in lista_matrizes:\n",
        "    for linha in matriz:\n",
        "        for coluna in linha:\n",
        "            soma += coluna\n",
        "            print(coluna, end=' ')\n",
        "\n",
        "\n",
        "print(f\"\\n\\nSoma: {soma}\")"
      ],
      "metadata": {
        "colab": {
          "base_uri": "https://localhost:8080/"
        },
        "id": "ruj-FHa21Z1q",
        "outputId": "228e840a-fc9e-4ce6-c050-a297cc31d11b"
      },
      "execution_count": null,
      "outputs": [
        {
          "output_type": "stream",
          "name": "stdout",
          "text": [
            "1 2 3 4 5 6 7 8 9 10 11 12 13 14 15 16 17 18 19 20 21 22 23 24 25 26 27 \n",
            "\n",
            "Soma: 378\n"
          ]
        }
      ]
    },
    {
      "cell_type": "code",
      "source": [
        "import random\n",
        "times= [\"Flamengo\", \"Palmeiras\", \"São Paulo\", \"Athletico-PR\", \"Atlético-MG\" ,\"Corinthians\" ,\"Fluminense\", \"Grêmio\", \"Fortaleza\", \"Internacional\", \"Bahia\", \"Botafogo\", \"Red Bull Bragantino\", \"Atlético-GO\", \"Ceará\", \"Cuiabá\",\n",
        "        'Goiás', 'Vasco', 'Juventude', 'Sport', 'CRB', 'Vitória', 'Criciúma', 'Sampaio Corrêa' ,'Operário-PR' ,'Botafogo-SP', 'Brusque', 'Ypiranga-RS', 'América-RN', 'Amazonas', 'Águia de Marabá', 'Sousa-PB']\n",
        "\n",
        "times1 = []\n",
        "times2 = []\n",
        "for i in range(1, 33):\n",
        "        ti = random.choice(times)\n",
        "        if i <= 16 :\n",
        "          times1.append(ti)\n",
        "          times.remove(ti)\n",
        "        else:\n",
        "            times.remove(ti)\n",
        "            times2.append(ti)\n",
        "\n",
        "print(times1)\n",
        "print(times2)\n"
      ],
      "metadata": {
        "colab": {
          "base_uri": "https://localhost:8080/"
        },
        "id": "FPt3h2r36C-k",
        "outputId": "288163e9-360d-4b58-9067-b424c35e6000"
      },
      "execution_count": null,
      "outputs": [
        {
          "output_type": "stream",
          "name": "stdout",
          "text": [
            "['Internacional', 'Atlético-GO', 'Corinthians', 'Vasco', 'Sampaio Corrêa', 'Cuiabá', 'Red Bull Bragantino', 'Ypiranga-RS', 'Águia de Marabá', 'Fortaleza', 'Atlético-MG', 'CRB', 'Flamengo', 'Bahia', 'Goiás', 'Sport']\n",
            "['Juventude', 'América-RN', 'Operário-PR', 'Brusque', 'Grêmio', 'Criciúma', 'Botafogo', 'Palmeiras', 'Ceará', 'Vitória', 'Sousa-PB', 'Fluminense', 'Botafogo-SP', 'Athletico-PR', 'Amazonas', 'São Paulo']\n"
          ]
        }
      ]
    },
    {
      "cell_type": "code",
      "source": [
        "import random\n",
        "times=[\"Flamengo\", \"Palmeiras\", \"São Paulo\", \"Athletico-PR\", \"Atlético-MG\" ,\"Corinthians\" ,\"Fluminense\", \"Grêmio\", \"Fortaleza\", \"Internacional\", \"Bahia\", \"Botafogo\", \"Red Bull Bragantino\", \"Atlético-GO\", \"Ceará\", \"Cuiabá\",\n",
        "        'Goiás', 'Vasco', 'Juventude', 'Sport', 'CRB', 'Vitória', 'Criciúma', 'Sampaio Corrêa' ,'Operário-PR' ,'Botafogo-SP', 'Brusque', 'Ypiranga-RS', 'América-RN', 'Amazonas', 'Águia de Marabá', 'Sousa-PB']\n",
        "timesA = []\n",
        "timesB = []\n",
        "for time in range(len(times)):\n",
        "    sorteio = random.choice(times)\n",
        "    if len(times)%2 == 1:\n",
        "        timesA.append(sorteio)\n",
        "    else:\n",
        "        timesB.append(sorteio)\n",
        "    times.remove(sorteio)\n",
        "\n",
        "\n",
        "print(timesA)\n",
        "print(timesB)"
      ],
      "metadata": {
        "id": "riHlqHFYv8eu",
        "outputId": "a2a81bb1-6d48-4e28-e242-88c30f1caa7c",
        "colab": {
          "base_uri": "https://localhost:8080/"
        }
      },
      "execution_count": null,
      "outputs": [
        {
          "output_type": "stream",
          "name": "stdout",
          "text": [
            "  0   1   2   3   4   5   6   7   8   9  10 \n",
            "  1   2   3   4   5   6   7   8   9  10  11 \n",
            "  2   3   4   5   6   7   8   9  10  11  12 \n",
            "  3   4   5   6   7   8   9  10  11  12  13 \n",
            "  4   5   6   7   8   9  10  11  12  13  14 \n",
            "  5   6   7   8   9  10  11  12  13  14  15 \n",
            "  6   7   8   9  10  11  12  13  14  15  16 \n",
            "  7   8   9  10  11  12  13  14  15  16  17 \n",
            "  8   9  10  11  12  13  14  15  16  17  18 \n",
            "  9  10  11  12  13  14  15  16  17  18  19 \n",
            " 10  11  12  13  14  15  16  17  18  19  20 \n"
          ]
        }
      ]
    }
  ]
}