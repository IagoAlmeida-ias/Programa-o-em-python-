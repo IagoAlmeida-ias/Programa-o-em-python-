{
  "nbformat": 4,
  "nbformat_minor": 0,
  "metadata": {
    "colab": {
      "provenance": [],
      "authorship_tag": "ABX9TyM3MXU9FxRqHUipzEbSYJbx",
      "include_colab_link": true
    },
    "kernelspec": {
      "name": "python3",
      "display_name": "Python 3"
    },
    "language_info": {
      "name": "python"
    }
  },
  "cells": [
    {
      "cell_type": "markdown",
      "metadata": {
        "id": "view-in-github",
        "colab_type": "text"
      },
      "source": [
        "<a href=\"https://colab.research.google.com/github/IagoAlmeida-ias/Programa-o-em-python-/blob/main/01_INTRODU%C3%87%C3%83O.ipynb\" target=\"_parent\"><img src=\"https://colab.research.google.com/assets/colab-badge.svg\" alt=\"Open In Colab\"/></a>"
      ]
    },
    {
      "cell_type": "code",
      "execution_count": null,
      "metadata": {
        "colab": {
          "base_uri": "https://localhost:8080/"
        },
        "id": "P9sR7_v8TfpL",
        "outputId": "b92d5e7f-26c0-49d5-8e98-15b0555ee429"
      },
      "outputs": [
        {
          "output_type": "stream",
          "name": "stdout",
          "text": [
            "Olá, Mundo!\n"
          ]
        }
      ],
      "source": [
        "print(\"Olá, Mundo!\")"
      ]
    },
    {
      "cell_type": "code",
      "source": [
        "print(\"Iago Almeida\")"
      ],
      "metadata": {
        "colab": {
          "base_uri": "https://localhost:8080/"
        },
        "id": "fPnJRrn6__3q",
        "outputId": "929a3162-b713-4324-928e-c64b3600065f"
      },
      "execution_count": null,
      "outputs": [
        {
          "output_type": "stream",
          "name": "stdout",
          "text": [
            "Iago Almeida\n"
          ]
        }
      ]
    },
    {
      "cell_type": "markdown",
      "source": [
        "ALGORITMO LANCHE\n",
        "\n",
        "\n",
        "Passo 1: Pegar o pacote de pão\n",
        "\n",
        "Passo 2: Abrir o pacote de pão\n",
        "\n",
        "Passo 3: Pegar a segunda e a terceira fatia de pão\n",
        "\n",
        "Passo 4: Abrir a geladeira\n",
        "\n",
        "Passo 5: Achar e pegar a manteiga\n",
        "\n",
        "Passo 6: Abrir a gaveta do armario e pegar uma faca\n",
        "\n",
        "Passo 7: Abra a manteiga\n",
        "\n",
        "Passo 8: Passe a ponta da faca no conteudo da manteiga\n",
        "\n",
        "Passo 9: Pegue uma das fatias que foi retirada\n",
        "\n",
        "Passo 10: Passe no centro do pão a mateiga que ficou na faca\n",
        "\n",
        "Passo 11: Repita o passo 8 e 10 na outra fatia\n",
        "\n",
        "Passo 12: Coloque uma das fatia numa bancada com a parte da manteiga para cima\n",
        "\n",
        "Passo 13: Coloque uma fatia de alface no centro dela\n",
        "\n",
        "Passo 14: Coloque 3 rodelas de tomate por cima do alface\n",
        "\n",
        "Passo 15: Coloque uma fatia de queijo por cima do tomate\n",
        "\n",
        "Passo 16: Coloque uma fatia de presunto por cima do queijo\n",
        "\n",
        "Passo 17: Coloque a ultima fatia de pão."
      ],
      "metadata": {
        "id": "4R1Vt-DmCzGo"
      }
    },
    {
      "cell_type": "markdown",
      "source": [
        "Abstração lógica: Cafeteira\n",
        "\n",
        "\n",
        "Recipiente de vidro: Armazenar o grão de café\n",
        "\n",
        "Recipiente de vidro: Armazenar o café\n",
        "\n",
        "Motor: Ligar o triturador e esquentar a água\n",
        "\n",
        "Triturador: Transforma o grão em pó."
      ],
      "metadata": {
        "id": "ELPb0qbGNGjf"
      }
    },
    {
      "cell_type": "markdown",
      "source": [
        "LÓGICA BARRIL\n",
        "\n",
        "\n",
        "Passo 1: Barril A recebe Barril C (3 litros)\n",
        "\n",
        "Passo 2: Barril A recebe Barril B (1 litro)\n"
      ],
      "metadata": {
        "id": "sWuJHBKjZxKf"
      }
    },
    {
      "cell_type": "code",
      "source": [
        "# Desafio troca de variáveis\n",
        "\n",
        "a = 5\n",
        "b = 2\n",
        "c = 0\n",
        "\n",
        "c = a\n",
        "a = b\n",
        "b = c\n",
        "\n",
        "print(a)\n",
        "print(b)"
      ],
      "metadata": {
        "colab": {
          "base_uri": "https://localhost:8080/"
        },
        "id": "uzY5NzAiduv_",
        "outputId": "a4e9b9dd-9322-44d2-bc7a-d04cd8518a70"
      },
      "execution_count": null,
      "outputs": [
        {
          "output_type": "stream",
          "name": "stdout",
          "text": [
            "2\n",
            "5\n"
          ]
        }
      ]
    },
    {
      "cell_type": "code",
      "source": [
        "# Desafio troca de variáveis (Simultâneo)\n",
        "\n",
        "a = 5\n",
        "b = 2\n",
        "c = 0\n",
        "\n",
        "a, b = b, a\n",
        "\n",
        "print(a)\n",
        "print(b)"
      ],
      "metadata": {
        "colab": {
          "base_uri": "https://localhost:8080/"
        },
        "id": "LTV6tzTpLWQT",
        "outputId": "03368cbc-64fb-4606-d078-ddbf9212c584"
      },
      "execution_count": null,
      "outputs": [
        {
          "output_type": "stream",
          "name": "stdout",
          "text": [
            "2\n",
            "5\n"
          ]
        }
      ]
    },
    {
      "cell_type": "code",
      "source": [
        "# Atribuição em uma linha\n",
        "\n",
        "nome, idade, sexo = 'Iago', 22, 'M'\n",
        "\n",
        "print('Nome:', nome)\n",
        "print('Idade:', idade)\n",
        "print('Sexo:', sexo)"
      ],
      "metadata": {
        "colab": {
          "base_uri": "https://localhost:8080/"
        },
        "id": "eNB2ZEnaMFgD",
        "outputId": "cbed83c3-75cb-4ca9-c8bb-7b878859f1ef"
      },
      "execution_count": null,
      "outputs": [
        {
          "output_type": "stream",
          "name": "stdout",
          "text": [
            "Nome: Iago\n",
            "Idade: 22\n",
            "Sexo: M\n"
          ]
        }
      ]
    },
    {
      "cell_type": "code",
      "source": [
        "# Teste de mesa\n",
        "\n",
        "a = 10\n",
        "b = 5\n",
        "c = a + b\n",
        "print(c)"
      ],
      "metadata": {
        "colab": {
          "base_uri": "https://localhost:8080/"
        },
        "id": "3y8D5V9kOuHy",
        "outputId": "0e608b9d-9d4c-4f21-9405-4bb25c4c68f8"
      },
      "execution_count": null,
      "outputs": [
        {
          "output_type": "stream",
          "name": "stdout",
          "text": [
            "15\n"
          ]
        }
      ]
    },
    {
      "cell_type": "code",
      "source": [
        "# Teste de mesa\n",
        "\n",
        "x = 2\n",
        "y = 3\n",
        "z = x * y + y\n",
        "print(z)"
      ],
      "metadata": {
        "colab": {
          "base_uri": "https://localhost:8080/"
        },
        "id": "NvxpcjwfRejQ",
        "outputId": "64e23b62-1127-4f1b-a96b-9ad086667465"
      },
      "execution_count": null,
      "outputs": [
        {
          "output_type": "stream",
          "name": "stdout",
          "text": [
            "9\n"
          ]
        }
      ]
    },
    {
      "cell_type": "code",
      "source": [
        "# Diagrama Média\n",
        "\n",
        "nota1 = 0\n",
        "nota2 = 0\n",
        "media = 0\n",
        "\n",
        "nota1 = float(input(\"Digite a 1° nota: \"))\n",
        "nota2 = float(input(\"Digite a 2° nota: \"))\n",
        "media = (nota1+nota2)/2\n",
        "\n",
        "if media >=5:\n",
        "    print(\"Aprovado\")\n",
        "else:\n",
        "    print(\"Reprovado\")"
      ],
      "metadata": {
        "colab": {
          "base_uri": "https://localhost:8080/"
        },
        "id": "sJi1Q-_Ega7T",
        "outputId": "773280f5-be30-4006-c2b1-ca7f4df308f8"
      },
      "execution_count": null,
      "outputs": [
        {
          "output_type": "stream",
          "name": "stdout",
          "text": [
            "Digite a 1° nota: 5\n",
            "Digite a 2° nota: 2\n",
            "Aprovado\n"
          ]
        }
      ]
    },
    {
      "cell_type": "code",
      "source": [
        "# Operadores aritméticos\n",
        "\n",
        "\n",
        "a = 10\n",
        "b = 3\n",
        "\n",
        "\n",
        "print(a +  b)     # 13      (adição)\n",
        "print(a -  b)     # 7       (subtração)\n",
        "print(a *  b)     # 30      (multiplicação)\n",
        "print(a /  b)     # 3.3333  (divisão)\n",
        "print(a // b)     # 3       (divisão inteira)\n",
        "print(a %  b)     # 1       (módulo/resto da divisão)\n",
        "print(a ** b)     # 1000    (exponenciação)\n",
        "\n",
        "print(a ** (1/b)) # 2.15    (radiciação)"
      ],
      "metadata": {
        "id": "_TL-HgnXm1iA",
        "outputId": "1e42002c-d4f4-4597-f6fb-fbf5603ad7bc",
        "colab": {
          "base_uri": "https://localhost:8080/"
        }
      },
      "execution_count": null,
      "outputs": [
        {
          "output_type": "stream",
          "name": "stdout",
          "text": [
            "13\n",
            "7\n",
            "30\n",
            "3.3333333333333335\n",
            "3\n",
            "1\n",
            "1000\n",
            "2.154434690031884\n"
          ]
        }
      ]
    },
    {
      "cell_type": "code",
      "source": [
        "# Operadores relacionais ou de comparação\n",
        "\n",
        "\n",
        "a = 10\n",
        "b = 3\n",
        "\n",
        "\n",
        "print(a == b)  # False  Igual\n",
        "print(a != b)  # True   Diferente\n",
        "print(a >  b)  # True   Maior\n",
        "print(a <  b)  # False  Menor\n",
        "print(a >= b)  # True   Maior ou igual\n",
        "print(a <= b)  # False  Menor ou igual"
      ],
      "metadata": {
        "colab": {
          "base_uri": "https://localhost:8080/"
        },
        "id": "11zptSqIMtzt",
        "outputId": "1e1869c3-b5d6-4229-e1d4-19189d2c8359"
      },
      "execution_count": null,
      "outputs": [
        {
          "output_type": "stream",
          "name": "stdout",
          "text": [
            "False\n",
            "True\n",
            "True\n",
            "False\n",
            "True\n",
            "False\n"
          ]
        }
      ]
    },
    {
      "cell_type": "code",
      "source": [
        "# Operadores lógicos\n",
        "\n",
        "\n",
        "a = True\n",
        "b = False\n",
        "\n",
        "\n",
        "print(a and b)  # False\n",
        "print(a or b)   # True\n",
        "print(not a)    # False"
      ],
      "metadata": {
        "colab": {
          "base_uri": "https://localhost:8080/"
        },
        "id": "b6RIpOxgOJb2",
        "outputId": "756189c3-3555-476a-8614-e792425f861e"
      },
      "execution_count": null,
      "outputs": [
        {
          "output_type": "stream",
          "name": "stdout",
          "text": [
            "False\n",
            "True\n",
            "False\n"
          ]
        }
      ]
    },
    {
      "cell_type": "code",
      "source": [
        "# Operadores de atribuição\n",
        "\n",
        "\n",
        "a = 10\n",
        "a += 2  # a = a + 2\n",
        "print(a) # 12\n",
        "\n",
        "\n",
        "b = 10\n",
        "b -= 2  # b = b - 2\n",
        "print(b) # 8\n",
        "\n",
        "\n",
        "c = 10\n",
        "c *= c  # c = c * c\n",
        "print(c) # 100\n",
        "\n",
        "\n",
        "d = 10\n",
        "d /= 2 # d = d / 2\n",
        "print(d) # 5.0\n",
        "\n",
        "\n",
        "d = 10\n",
        "d **= 2 # d = d ** 2\n",
        "print(d) # 100\n",
        "\n",
        "\n",
        "d = 10\n",
        "d //= 2\n",
        "print(d) # 5\n",
        "\n",
        "\n",
        "d = 10\n",
        "d %= 2\n",
        "print(d)  # 0"
      ],
      "metadata": {
        "colab": {
          "base_uri": "https://localhost:8080/"
        },
        "id": "Z5IRJlkbP7wT",
        "outputId": "cf0eec36-0bc8-427e-990e-1358f8800588"
      },
      "execution_count": null,
      "outputs": [
        {
          "output_type": "stream",
          "name": "stdout",
          "text": [
            "12\n",
            "8\n",
            "100\n",
            "5.0\n",
            "100\n",
            "5\n",
            "0\n"
          ]
        }
      ]
    },
    {
      "cell_type": "code",
      "source": [
        "# EXPRESSÕES\n",
        "\"\"\"\n",
        "1) PARÊNTESES\n",
        "2) POTÊNCIA E RAIZ\n",
        "3) MULTIPLICAÇÃO E DIVISÃO\n",
        "4) ADIÇÃO E SUBTRAÇÃO\n",
        "\"\"\"\n",
        "print(2+2*5**2)\n",
        "print((2+2)*5**2)\n",
        "print(((2+2)*5)**2)"
      ],
      "metadata": {
        "colab": {
          "base_uri": "https://localhost:8080/"
        },
        "id": "UXujnuhaRH4t",
        "outputId": "3a563088-0992-4d99-9917-eeb151febda7"
      },
      "execution_count": null,
      "outputs": [
        {
          "output_type": "stream",
          "name": "stdout",
          "text": [
            "52\n",
            "100\n",
            "400\n"
          ]
        }
      ]
    },
    {
      "cell_type": "code",
      "source": [
        "# REFATORAÇÃO DE CÓDIGO\n",
        "\n",
        "\n",
        "# ORIGINAL\n",
        "a = 10\n",
        "b = 20\n",
        "c = a+b\n",
        "print('Original', c)\n",
        "\n",
        "\n",
        "# REFATORADO\n",
        "def soma(x, y):\n",
        "    return x+y\n",
        "\n",
        "\n",
        "print('Refatorado', soma(45, 48))"
      ],
      "metadata": {
        "colab": {
          "base_uri": "https://localhost:8080/"
        },
        "id": "vL_wqt7tXQi7",
        "outputId": "8103f482-3a58-47ab-fde3-a9e1c1da65af"
      },
      "execution_count": null,
      "outputs": [
        {
          "output_type": "stream",
          "name": "stdout",
          "text": [
            "Original 30\n",
            "Refatorado 93\n"
          ]
        }
      ]
    }
  ]
}