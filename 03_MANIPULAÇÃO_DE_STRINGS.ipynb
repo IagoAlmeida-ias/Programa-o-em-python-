{
  "nbformat": 4,
  "nbformat_minor": 0,
  "metadata": {
    "colab": {
      "provenance": [],
      "authorship_tag": "ABX9TyMwJKg+Jpx2xpFdpjJDJA0l",
      "include_colab_link": true
    },
    "kernelspec": {
      "name": "python3",
      "display_name": "Python 3"
    },
    "language_info": {
      "name": "python"
    }
  },
  "cells": [
    {
      "cell_type": "markdown",
      "metadata": {
        "id": "view-in-github",
        "colab_type": "text"
      },
      "source": [
        "<a href=\"https://colab.research.google.com/github/IagoAlmeida-ias/Programa-o-em-python-/blob/main/03_MANIPULA%C3%87%C3%83O_DE_STRINGS.ipynb\" target=\"_parent\"><img src=\"https://colab.research.google.com/assets/colab-badge.svg\" alt=\"Open In Colab\"/></a>"
      ]
    },
    {
      "cell_type": "markdown",
      "source": [
        "# 03 MANIPULAÇÃO DE STRINGS"
      ],
      "metadata": {
        "id": "h6X2BBRPe5t8"
      }
    },
    {
      "cell_type": "code",
      "execution_count": null,
      "metadata": {
        "colab": {
          "base_uri": "https://localhost:8080/"
        },
        "id": "dLa8AmgPexHD",
        "outputId": "1e450f41-64fb-40ce-8054-a531bb39e9fd"
      },
      "outputs": [
        {
          "output_type": "stream",
          "name": "stdout",
          "text": [
            "d\n",
            "Python\n",
            "Pto\n",
            "Curso\n",
            "Python\n",
            "nohtyP ed osruC\n",
            "n\n"
          ]
        }
      ],
      "source": [
        "# FATIAMENTO DE STRINGS\n",
        "\n",
        "\n",
        "texto = \"Curso de Python\"\n",
        "\n",
        "\n",
        "print(texto[6])          # 7º caracterer\n",
        "print(texto[9:15])       # 10º ao 15º caracterer\n",
        "print(texto[9:15:2])     # 10º ao 15º caracterer de 2 em 2\n",
        "print(texto[:5])         # Até o 5º caracterer\n",
        "print(texto[9:])         # 10º caracterer em diante\n",
        "print(texto[::-1])       # Inverter o texto\n",
        "print(texto[-1])         # Último caracter"
      ]
    },
    {
      "cell_type": "code",
      "source": [
        "# ANÁLISE DE STRINGS\n",
        "\n",
        "\n",
        "frase = \"SENAI Ary Torres\"\n",
        "\n",
        "\n",
        "# tamanho da string\n",
        "print(len(frase))\n",
        "\n",
        "\n",
        "# contar caracteres\n",
        "print(frase.count('r'))\n",
        "\n",
        "\n",
        "# encontrar índice (retorna -1 se não encontrar)\n",
        "print(frase.find('z'))\n",
        "\n",
        "\n",
        "# encontrar índice (a partir da direita)\n",
        "print(frase.rfind('s'))\n",
        "\n",
        "\n",
        "# encontrar índice (gera erro se não encontrar)\n",
        "print(frase.index('r'))\n",
        "\n",
        "\n",
        "# verificar pertinência\n",
        "print('Ary' in frase)"
      ],
      "metadata": {
        "id": "8KuAq6vxhuyM",
        "outputId": "07510261-9e7b-4ee1-deaf-dd70680bb2b2",
        "colab": {
          "base_uri": "https://localhost:8080/"
        }
      },
      "execution_count": null,
      "outputs": [
        {
          "output_type": "stream",
          "name": "stdout",
          "text": [
            "16\n",
            "3\n",
            "-1\n",
            "15\n",
            "7\n",
            "True\n"
          ]
        }
      ]
    },
    {
      "cell_type": "code",
      "source": [
        "# TRANSFORMAÇÃO DE STRINGS\n",
        "frase = \"SENAI Ary Torres\"\n",
        "\n",
        "# maiúscula\n",
        "print(frase.upper())\n",
        "\n",
        "\n",
        "# minúscula\n",
        "print(frase.lower())\n",
        "\n",
        "\n",
        "# primeira da frase em maiúscula\n",
        "print(frase.capitalize())\n",
        "\n",
        "\n",
        "# primeira letra de cada palavra em maiúscula\n",
        "print(frase.title())"
      ],
      "metadata": {
        "colab": {
          "base_uri": "https://localhost:8080/"
        },
        "id": "G4jfZEAtH2U3",
        "outputId": "d6debb0e-7c8a-423c-e70e-ee50404b6791"
      },
      "execution_count": null,
      "outputs": [
        {
          "output_type": "stream",
          "name": "stdout",
          "text": [
            "SENAI ARY TORRES\n",
            "senai ary torres\n",
            "Senai ary torres\n",
            "Senai Ary Torres\n"
          ]
        }
      ]
    },
    {
      "cell_type": "code",
      "source": [
        "# TRANSFORMAÇÃO DE STRINGS 2\n",
        "\n",
        "\n",
        "# substituir palavras\n",
        "print(frase.replace('SENAI', 'ESCOLA'))\n",
        "print(frase)\n",
        "frase = frase.replace('SENAI', 'ESCOLA')\n",
        "print(frase)\n",
        "\n",
        "\n",
        "frase2 = \"   oi    SENAI   Ary Torres oi  \"\n",
        "\n",
        "\n",
        "# retirada/limpeza\n",
        "print(frase2.strip())\n",
        "frase2 = frase2.strip() # limpar espaços antes e depois\n",
        "\n",
        "\n",
        "print(frase2.strip('oi'),)\n",
        "\n",
        "\n",
        "url = 'https://google.com/h'\n",
        "print(url.rstrip('h'))\n",
        "print(url.replace('google', ''))\n",
        "\n",
        "\n",
        "print(url.lstrip('https://'))"
      ],
      "metadata": {
        "colab": {
          "base_uri": "https://localhost:8080/"
        },
        "id": "5FYo0JlMI7kv",
        "outputId": "2499ac5c-78a6-4bb7-fbbd-8fefa33c3aa6"
      },
      "execution_count": null,
      "outputs": [
        {
          "output_type": "stream",
          "name": "stdout",
          "text": [
            "ESCOLA Ary Torres\n",
            "ESCOLA Ary Torres\n",
            "ESCOLA Ary Torres\n",
            "oi    SENAI   Ary Torres oi\n",
            "    SENAI   Ary Torres \n",
            "https://google.com/\n",
            "https://.com/h\n",
            "google.com/h\n"
          ]
        }
      ]
    },
    {
      "cell_type": "code",
      "source": [
        "# JUNÇÃO E DIVISÃO DE STRINGS\n",
        "\n",
        "\n",
        "texto = \"SENAI Ary Torres\"\n",
        "\n",
        "\n",
        "# juntar caracteres com delimitador\n",
        "print('.'.join(texto))\n",
        "\n",
        "\n",
        "# dividir palavras em lista\n",
        "print(texto.split())\n",
        "print(texto.split()[0])   # primeira palavra\n",
        "print(texto.split()[-1])  # última palavra\n",
        "print(texto.split()[1])\n",
        "\n",
        "\n",
        "lista = texto.split()\n",
        "print(', '.join(lista))"
      ],
      "metadata": {
        "colab": {
          "base_uri": "https://localhost:8080/"
        },
        "id": "bTtNWxjhMk2m",
        "outputId": "34ddb1f4-7e00-4e73-defb-255bbfe98a13"
      },
      "execution_count": null,
      "outputs": [
        {
          "output_type": "stream",
          "name": "stdout",
          "text": [
            "S.E.N.A.I. .A.r.y. .T.o.r.r.e.s\n",
            "['SENAI', 'Ary', 'Torres']\n",
            "SENAI\n",
            "Torres\n",
            "Ary\n",
            "SENAI, Ary, Torres\n"
          ]
        }
      ]
    },
    {
      "cell_type": "code",
      "source": [
        "# EXEMPLO DE SANITIZAÇÃO DE FRASE\n",
        "\n",
        "\n",
        "frase2 = \"   oi    SENAI   Ary Torres oi  \".strip()\n",
        "frase2 = frase2.strip('oi')\n",
        "frase2 = frase2.split()\n",
        "frase2 = ' '.join(frase2)\n",
        "print(frase2)\n",
        "print(type(frase2))"
      ],
      "metadata": {
        "colab": {
          "base_uri": "https://localhost:8080/"
        },
        "id": "aZaBzpfcPadO",
        "outputId": "6c5b9e12-1905-47e8-b8ff-87de1ad29f06"
      },
      "execution_count": null,
      "outputs": [
        {
          "output_type": "stream",
          "name": "stdout",
          "text": [
            "SENAI Ary Torres\n",
            "<class 'str'>\n"
          ]
        }
      ]
    },
    {
      "cell_type": "code",
      "source": [
        "# EXEMPLO DE SANITIZAÇÃO DE FRASE v2\n",
        "\n",
        "\n",
        "frase2 = ' '.join(\"   oi    SENAI   Ary Torres oi  \".strip().strip('oi').split())\n",
        "print(frase2)"
      ],
      "metadata": {
        "colab": {
          "base_uri": "https://localhost:8080/"
        },
        "id": "oV8MTnAXQePd",
        "outputId": "6d916b8f-7c7f-4403-b370-216bfeca259a"
      },
      "execution_count": null,
      "outputs": [
        {
          "output_type": "stream",
          "name": "stdout",
          "text": [
            "SENAI Ary Torres\n"
          ]
        }
      ]
    },
    {
      "cell_type": "code",
      "source": [
        "# EXEMPLO DE SANITIZAÇÃO DE FRASE v3\n",
        "\n",
        "\n",
        "print(' '.join(\"   oi    SENAI   Ary Torres oi  \".strip().strip('oi').upper().split()))"
      ],
      "metadata": {
        "colab": {
          "base_uri": "https://localhost:8080/"
        },
        "id": "sXEDptBFQh7M",
        "outputId": "ab401c1e-3f61-4052-971d-313644b8420c"
      },
      "execution_count": null,
      "outputs": [
        {
          "output_type": "stream",
          "name": "stdout",
          "text": [
            "SENAI ARY TORRES\n"
          ]
        }
      ]
    },
    {
      "cell_type": "code",
      "source": [
        "# EXEMPLO EXIBIR O DOMÍNIO DO E-MAIL\n",
        "\n",
        "\n",
        "email = 'leandro@gmail.com'.split('@')\n",
        "print(email)\n",
        "email_1_parte = email[0]\n",
        "print(email_1_parte)\n",
        "print(email[-1])"
      ],
      "metadata": {
        "colab": {
          "base_uri": "https://localhost:8080/"
        },
        "id": "DUARxVAmRwL9",
        "outputId": "5fb554ec-5c6d-46c3-f278-6df419f9801b"
      },
      "execution_count": null,
      "outputs": [
        {
          "output_type": "stream",
          "name": "stdout",
          "text": [
            "['leandro', 'gmail.com']\n",
            "leandro\n",
            "gmail.com\n"
          ]
        }
      ]
    },
    {
      "cell_type": "markdown",
      "source": [
        "# DESAFIOS"
      ],
      "metadata": {
        "id": "3rVY7ldLULZm"
      }
    },
    {
      "cell_type": "code",
      "source": [
        "# DESAFIO 01\n",
        "\n",
        "nome =(input(\"Escreva seu nome: \"))\n",
        "\n",
        "print(nome.upper())\n",
        "print(nome.lower())\n",
        "print(len(nome.split()[0]))\n",
        "print(len(nome.replace(' ','')))\n",
        "\n"
      ],
      "metadata": {
        "colab": {
          "base_uri": "https://localhost:8080/"
        },
        "id": "-15F5QWRUIY8",
        "outputId": "2834beea-0adc-4ec2-cf2f-a148100b57f7"
      },
      "execution_count": null,
      "outputs": [
        {
          "output_type": "stream",
          "name": "stdout",
          "text": [
            "Escreva seu nome: Iago Almeida\n",
            "IAGO ALMEIDA\n",
            "iago almeida\n",
            "4\n",
            "11\n"
          ]
        }
      ]
    },
    {
      "cell_type": "code",
      "source": [
        "numero = input(\"digite um numero entre 1000 a 9999: \")\n",
        "print(\"\\nUnidade\",numero[-1])\n",
        "print(\"\\nDezena\",numero[-2])\n",
        "print(\"\\nCentena\",numero[-3])\n",
        "print(\"\\nMilhar\",numero[-4])"
      ],
      "metadata": {
        "colab": {
          "base_uri": "https://localhost:8080/"
        },
        "id": "iTshmSzJbQbb",
        "outputId": "fb466b53-3bae-47ca-921d-61c126272860"
      },
      "execution_count": null,
      "outputs": [
        {
          "output_type": "stream",
          "name": "stdout",
          "text": [
            "digite um numero entre 1000 a 9999: 8600\n",
            "\n",
            "Unidade 0\n",
            "\n",
            "Dezena 0\n",
            "\n",
            "Centena 6\n",
            "\n",
            "Milhar 8\n"
          ]
        }
      ]
    },
    {
      "cell_type": "code",
      "source": [
        "# DESAFIO 03\n",
        "\n",
        "nome =input(\"Escreva uma frase: \")\n",
        "\n",
        "print(nome.count(\"a\"))\n",
        "print(nome.find('a'))\n",
        "print(nome.rfind('a'))"
      ],
      "metadata": {
        "colab": {
          "base_uri": "https://localhost:8080/"
        },
        "id": "sri1G7RGjDtY",
        "outputId": "3aed93ea-2fe0-4287-925f-c7e27dcfe256"
      },
      "execution_count": null,
      "outputs": [
        {
          "output_type": "stream",
          "name": "stdout",
          "text": [
            "Escreva uma frase: qko cneji \n",
            "0\n",
            "-1\n",
            "-1\n"
          ]
        }
      ]
    },
    {
      "cell_type": "code",
      "source": [
        "# DESAFIO 03 v2\n",
        "\n",
        "nome =input(\"Escreva uma frase: \").upper()\n",
        "\n",
        "print(f\"\\nA letra A aparece {nome.count('A')} vezes\"\n",
        "      f\"\\nposição aparece primeiro {nome.find('A')}\"\n",
        "      f\"\\nposição aparece por ultimo {nome.rfind('A')}\")"
      ],
      "metadata": {
        "colab": {
          "base_uri": "https://localhost:8080/"
        },
        "id": "EdU5uZ0yPoRq",
        "outputId": "1310bc22-f7c5-4fdf-d609-875a94d9efc1"
      },
      "execution_count": null,
      "outputs": [
        {
          "output_type": "stream",
          "name": "stdout",
          "text": [
            "Escreva uma frase: oknoinb\n",
            "\n",
            "A letra A aparece 0 vezes\n",
            "posição aparece primeiro -1\n",
            "posição aparece por ultimo 0\n"
          ]
        }
      ]
    },
    {
      "cell_type": "code",
      "source": [
        "# DESAFIO 04\n",
        "\n",
        "nome =(input(\"Escreva seu nome: \"))\n",
        "\n",
        "print(\"\\nPrimeriro nome: \", nome.split()[0])\n",
        "print(\"\\nÚltimo nome: \", nome.split()[-1])"
      ],
      "metadata": {
        "colab": {
          "base_uri": "https://localhost:8080/"
        },
        "id": "Pn2_V6Ahk8gB",
        "outputId": "1b86848f-783c-41c9-cb30-f4a60ebd4eed"
      },
      "execution_count": null,
      "outputs": [
        {
          "output_type": "stream",
          "name": "stdout",
          "text": [
            "Escreva seu nome: Iago Almeida\n",
            "\n",
            "Primeriro nome:  Iago\n",
            "\n",
            "Último nome:  Almeida\n"
          ]
        }
      ]
    },
    {
      "cell_type": "code",
      "source": [
        "# DESAFIO 05\n",
        "\n",
        "frase = input(\"Escreva uma frase: \").replace(' ','')\n",
        "\n",
        "letra = input(\"EScreva uma letra: \")\n",
        "\n",
        "print(\"\\nquantas letras tem:\",frase.count(letra))\n",
        "print(\"\\nposição ela aparece primeiro:\",frase.find(letra))\n",
        "print(\"\\nposição ela aparece a última vez:\",frase.rfind(letra))"
      ],
      "metadata": {
        "colab": {
          "base_uri": "https://localhost:8080/"
        },
        "id": "oRQIfj88l3on",
        "outputId": "0af8f409-ac95-440f-bdb7-f21cb9d2b60c"
      },
      "execution_count": null,
      "outputs": [
        {
          "output_type": "stream",
          "name": "stdout",
          "text": [
            "Escreva uma frase: IAGO aLMEIDA\n",
            "EScreva uma letra: A\n",
            "\n",
            "quantas letras tem: 2\n",
            "\n",
            "posição ela aparece primeiro: 1\n",
            "\n",
            "posição ela aparece a última vez: 10\n"
          ]
        }
      ]
    }
  ]
}