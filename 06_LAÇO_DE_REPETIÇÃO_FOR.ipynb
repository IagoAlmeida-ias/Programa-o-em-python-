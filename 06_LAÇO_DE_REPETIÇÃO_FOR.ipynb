{
  "nbformat": 4,
  "nbformat_minor": 0,
  "metadata": {
    "colab": {
      "provenance": [],
      "authorship_tag": "ABX9TyObnDy+Ma42kSbUwAJrmodL",
      "include_colab_link": true
    },
    "kernelspec": {
      "name": "python3",
      "display_name": "Python 3"
    },
    "language_info": {
      "name": "python"
    }
  },
  "cells": [
    {
      "cell_type": "markdown",
      "metadata": {
        "id": "view-in-github",
        "colab_type": "text"
      },
      "source": [
        "<a href=\"https://colab.research.google.com/github/IagoAlmeida-ias/Programa-o-em-python-/blob/main/06_LA%C3%87O_DE_REPETI%C3%87%C3%83O_FOR.ipynb\" target=\"_parent\"><img src=\"https://colab.research.google.com/assets/colab-badge.svg\" alt=\"Open In Colab\"/></a>"
      ]
    },
    {
      "cell_type": "markdown",
      "source": [
        "# LAÇO DE REPETIÇÃO FOR"
      ],
      "metadata": {
        "id": "veo9wMUNsbTy"
      }
    },
    {
      "cell_type": "code",
      "execution_count": null,
      "metadata": {
        "colab": {
          "base_uri": "https://localhost:8080/"
        },
        "id": "sSRI232isar1",
        "outputId": "cb025ce4-261a-4f64-db31-fb3f4a811827"
      },
      "outputs": [
        {
          "output_type": "stream",
          "name": "stdout",
          "text": [
            "1 2 3 4 5 "
          ]
        }
      ],
      "source": [
        "# EXEMPLO 01\n",
        "\n",
        "for i in range(1, 6):\n",
        "    print(i, end=' ')"
      ]
    },
    {
      "cell_type": "code",
      "source": [
        "# EXEMPLO 02\n",
        "# range(inicio, fim, salto)\n",
        "\n",
        "for i in range( 1, 10, 2):\n",
        "   print(i, end=' ')"
      ],
      "metadata": {
        "colab": {
          "base_uri": "https://localhost:8080/"
        },
        "id": "c5b7oG04Sx0s",
        "outputId": "08c734d4-2b90-400e-f828-9caaab9d1f97"
      },
      "execution_count": null,
      "outputs": [
        {
          "output_type": "stream",
          "name": "stdout",
          "text": [
            "1 3 5 7 9 "
          ]
        }
      ]
    },
    {
      "cell_type": "code",
      "source": [
        "# EXEMPLO 03\n",
        "inicio, fim, salto = 5, 0, -1\n",
        "\n",
        "\n",
        "for i in range(inicio, fim, salto):\n",
        "    print(i, end=' ')"
      ],
      "metadata": {
        "colab": {
          "base_uri": "https://localhost:8080/"
        },
        "id": "C8XBla02Wbnr",
        "outputId": "0af4fcc1-a631-488b-ab09-4abe83c7f41c"
      },
      "execution_count": null,
      "outputs": [
        {
          "output_type": "stream",
          "name": "stdout",
          "text": [
            "5 4 3 2 1 "
          ]
        }
      ]
    },
    {
      "cell_type": "code",
      "source": [
        "# EXEMPLO 04\n",
        "\n",
        "\n",
        "for i in range(5):\n",
        "    print(f\"{i+1} | SENAI\")"
      ],
      "metadata": {
        "colab": {
          "base_uri": "https://localhost:8080/"
        },
        "id": "22gjur_7XXXB",
        "outputId": "8ab0d8d6-f3cb-4cec-8c30-5eda0730f87e"
      },
      "execution_count": null,
      "outputs": [
        {
          "output_type": "stream",
          "name": "stdout",
          "text": [
            "1 | SENAI\n",
            "2 | SENAI\n",
            "3 | SENAI\n",
            "4 | SENAI\n",
            "5 | SENAI\n"
          ]
        }
      ]
    },
    {
      "cell_type": "code",
      "source": [
        "# EXEMPLO 04 v2\n",
        "\n",
        "\n",
        "for _ in range(5):\n",
        "    print(f\"{1} | SENAI\")"
      ],
      "metadata": {
        "colab": {
          "base_uri": "https://localhost:8080/"
        },
        "id": "2gIilogUaHqS",
        "outputId": "e352d3e4-0aad-4635-e4af-54bd018e7da3"
      },
      "execution_count": null,
      "outputs": [
        {
          "output_type": "stream",
          "name": "stdout",
          "text": [
            "1 | SENAI\n",
            "1 | SENAI\n",
            "1 | SENAI\n",
            "1 | SENAI\n",
            "1 | SENAI\n"
          ]
        }
      ]
    },
    {
      "cell_type": "code",
      "source": [
        "# EXEMPLO 05\n",
        "\n",
        "\n",
        "texto = 'Python'\n",
        "\n",
        "\n",
        "for letra in texto:\n",
        "    # pass\n",
        "    print('\\033[31m', letra.upper(), end='   ')"
      ],
      "metadata": {
        "colab": {
          "base_uri": "https://localhost:8080/"
        },
        "id": "WbEAQnUzY4-A",
        "outputId": "5338d87c-5e79-411a-a0e2-a8b8bb9a473e"
      },
      "execution_count": null,
      "outputs": [
        {
          "output_type": "stream",
          "name": "stdout",
          "text": [
            "\u001b[31m P   \u001b[31m Y   \u001b[31m T   \u001b[31m H   \u001b[31m O   \u001b[31m N   "
          ]
        }
      ]
    },
    {
      "cell_type": "code",
      "source": [
        "# EXEMPLO 06\n",
        "\n",
        "\n",
        "frase = ['PYTHON', 'É', 'FANTÁSTICO']\n",
        "\n",
        "\n",
        "for palavra in frase:\n",
        "    print(palavra)"
      ],
      "metadata": {
        "colab": {
          "base_uri": "https://localhost:8080/"
        },
        "id": "vI0AGqmwaTlB",
        "outputId": "793021ee-5493-43cf-e52a-e2724ddc2b03"
      },
      "execution_count": null,
      "outputs": [
        {
          "output_type": "stream",
          "name": "stdout",
          "text": [
            "PYTHON\n",
            "É\n",
            "FANTÁSTICO\n"
          ]
        }
      ]
    },
    {
      "cell_type": "code",
      "source": [
        "# EXEMPLO 07\n",
        "\"\"\" continue pula a iteração \"\"\"\n",
        "\n",
        "\n",
        "lista = [1, 10, 20, 30, 40, 50]\n",
        "\n",
        "\n",
        "for numero in lista:\n",
        "    if numero == 30:\n",
        "        continue #volta pro começo\n",
        "    print(numero, end=' ')"
      ],
      "metadata": {
        "colab": {
          "base_uri": "https://localhost:8080/"
        },
        "id": "9_t0WIeLbj6W",
        "outputId": "7e180c1f-9df7-4609-ecf3-982fa106bb87"
      },
      "execution_count": null,
      "outputs": [
        {
          "output_type": "stream",
          "name": "stdout",
          "text": [
            "1 10 20 40 50 "
          ]
        }
      ]
    },
    {
      "cell_type": "code",
      "source": [
        "# EXEMPLO 08\n",
        "\"\"\" break finaliza o laço \"\"\"\n",
        "\n",
        "\n",
        "for i in range(50):\n",
        "    if i >= 10:\n",
        "       break # Para o programa\n",
        "    print(i+1, end=' ')"
      ],
      "metadata": {
        "colab": {
          "base_uri": "https://localhost:8080/"
        },
        "id": "HAMcJ41QcRK6",
        "outputId": "f846a8de-9669-4dae-f078-3f7e80c4ea36"
      },
      "execution_count": null,
      "outputs": [
        {
          "output_type": "stream",
          "name": "stdout",
          "text": [
            "1 2 3 4 5 6 7 8 9 10 "
          ]
        }
      ]
    },
    {
      "cell_type": "code",
      "source": [
        "# EXEMPLO 09\n",
        "\n",
        "\n",
        "frase = ['PYTHON', 'É', 'FANTÁSTICO!']\n",
        "\n",
        "\n",
        "for i in range(len(frase)):   # esta lendo a frase por parte para consegui puxar so uma que quiser\n",
        "    print(frase[i])\n"
      ],
      "metadata": {
        "colab": {
          "base_uri": "https://localhost:8080/"
        },
        "id": "WowxYLcfdXRX",
        "outputId": "c16872c5-8e7f-4d02-e42f-e23e396f9ce4"
      },
      "execution_count": null,
      "outputs": [
        {
          "output_type": "stream",
          "name": "stdout",
          "text": [
            "PYTHON\n",
            "É\n",
            "FANTÁSTICO!\n"
          ]
        }
      ]
    },
    {
      "cell_type": "code",
      "source": [
        "# EXEMPLO 10\n",
        "\n",
        "\n",
        "frase = ['PYTHON', 'É', 'FANTÁSTICO!']\n",
        "\n",
        "                                           # i = a enumerate\n",
        "for i, palavra in enumerate(frase):        # palavra = frase\n",
        "    print(i, palavra)"
      ],
      "metadata": {
        "colab": {
          "base_uri": "https://localhost:8080/"
        },
        "id": "Oy0FqarSeA3m",
        "outputId": "fd6ce5c8-e607-43e7-93ea-5df8f056a82a"
      },
      "execution_count": null,
      "outputs": [
        {
          "output_type": "stream",
          "name": "stdout",
          "text": [
            "0 PYTHON\n",
            "1 É\n",
            "2 FANTÁSTICO!\n"
          ]
        }
      ]
    },
    {
      "cell_type": "code",
      "source": [
        "# EXEMPLO 11\n",
        "\n",
        "\n",
        "for i in range(1, 11):\n",
        "    for j in range(1, 11):\n",
        "        print(f\"{i*j}\".rjust(3), end=' ')\n",
        "    print()"
      ],
      "metadata": {
        "colab": {
          "base_uri": "https://localhost:8080/"
        },
        "id": "B7YyfXfleuqR",
        "outputId": "9e8efcff-6576-4c60-a4ac-999d6a7afa5e"
      },
      "execution_count": null,
      "outputs": [
        {
          "output_type": "stream",
          "name": "stdout",
          "text": [
            "  1   2   3   4   5   6   7   8   9  10 \n",
            "  2   4   6   8  10  12  14  16  18  20 \n",
            "  3   6   9  12  15  18  21  24  27  30 \n",
            "  4   8  12  16  20  24  28  32  36  40 \n",
            "  5  10  15  20  25  30  35  40  45  50 \n",
            "  6  12  18  24  30  36  42  48  54  60 \n",
            "  7  14  21  28  35  42  49  56  63  70 \n",
            "  8  16  24  32  40  48  56  64  72  80 \n",
            "  9  18  27  36  45  54  63  72  81  90 \n",
            " 10  20  30  40  50  60  70  80  90 100 \n"
          ]
        }
      ]
    },
    {
      "cell_type": "code",
      "source": [
        "# EXEMPLO 12\n",
        "\n",
        "\n",
        "for i in range(0, 11):\n",
        "    for j in range(0, 11):\n",
        "        print(f\"{i+j}\".rjust(3), end=' ')\n",
        "    print()"
      ],
      "metadata": {
        "colab": {
          "base_uri": "https://localhost:8080/"
        },
        "id": "UdEv614IgOR-",
        "outputId": "1ba4b2ca-b326-49f4-d362-6d2b0e87ac7c"
      },
      "execution_count": null,
      "outputs": [
        {
          "output_type": "stream",
          "name": "stdout",
          "text": [
            "  0   1   2   3   4   5   6   7   8   9  10 \n",
            "  1   2   3   4   5   6   7   8   9  10  11 \n",
            "  2   3   4   5   6   7   8   9  10  11  12 \n",
            "  3   4   5   6   7   8   9  10  11  12  13 \n",
            "  4   5   6   7   8   9  10  11  12  13  14 \n",
            "  5   6   7   8   9  10  11  12  13  14  15 \n",
            "  6   7   8   9  10  11  12  13  14  15  16 \n",
            "  7   8   9  10  11  12  13  14  15  16  17 \n",
            "  8   9  10  11  12  13  14  15  16  17  18 \n",
            "  9  10  11  12  13  14  15  16  17  18  19 \n",
            " 10  11  12  13  14  15  16  17  18  19  20 \n"
          ]
        }
      ]
    },
    {
      "cell_type": "markdown",
      "source": [
        "# DESAFIOS"
      ],
      "metadata": {
        "id": "lVz3FilQgesY"
      }
    },
    {
      "cell_type": "code",
      "source": [
        "# DESAFIO 01\n",
        "\n",
        "for i in range(2, 51, 2):\n",
        "    print(i, end=' ')"
      ],
      "metadata": {
        "colab": {
          "base_uri": "https://localhost:8080/"
        },
        "id": "xeh4Dsv7ghQF",
        "outputId": "4201fffa-957b-4aac-97d1-6a6c9c7797ed"
      },
      "execution_count": null,
      "outputs": [
        {
          "output_type": "stream",
          "name": "stdout",
          "text": [
            "2 4 6 8 10 12 14 16 18 20 22 24 26 28 30 32 34 36 38 40 42 44 46 48 50 "
          ]
        }
      ]
    },
    {
      "cell_type": "code",
      "source": [
        "# DESAFIO 01 v2\n",
        "\n",
        "\n",
        "for numero in range(1, 51):\n",
        "    if numero%2 == 0:\n",
        "        print(numero, end=' ')"
      ],
      "metadata": {
        "colab": {
          "base_uri": "https://localhost:8080/"
        },
        "id": "X1UUixviln_f",
        "outputId": "2263c37b-d1a4-418c-da03-e29beb9f84db"
      },
      "execution_count": null,
      "outputs": [
        {
          "output_type": "stream",
          "name": "stdout",
          "text": [
            "2 4 6 8 10 12 14 16 18 20 22 24 26 28 30 32 34 36 38 40 42 44 46 48 50 "
          ]
        }
      ]
    },
    {
      "cell_type": "code",
      "source": [
        "# DESAFIO 02\n",
        "\n",
        "soma = 0\n",
        "for i in range(0,501,3):\n",
        "    if i%2 != 0:\n",
        "       soma += i\n",
        "print(f\"{soma}\", end=' ')"
      ],
      "metadata": {
        "colab": {
          "base_uri": "https://localhost:8080/"
        },
        "id": "vm3w4Zl9g1YG",
        "outputId": "e19be8e8-8098-4a2a-fc63-1c1df421d435"
      },
      "execution_count": null,
      "outputs": [
        {
          "output_type": "stream",
          "name": "stdout",
          "text": [
            "20667 "
          ]
        }
      ]
    },
    {
      "cell_type": "code",
      "source": [
        "# DESAFIO 03\n",
        "num = int(input(\"Digite o numero: \"))\n",
        "for i in range(1,11):\n",
        "    print(f\"{num*i}\".rjust(3), end=' ')"
      ],
      "metadata": {
        "colab": {
          "base_uri": "https://localhost:8080/"
        },
        "id": "f0gz2R74jOvP",
        "outputId": "53f120bd-7d18-40d9-99f7-0a375efe3e4a"
      },
      "execution_count": null,
      "outputs": [
        {
          "output_type": "stream",
          "name": "stdout",
          "text": [
            "Digite o numero: 5\n",
            "  5  10  15  20  25  30  35  40  45  50 "
          ]
        }
      ]
    },
    {
      "cell_type": "code",
      "source": [
        "# DESAFIO 04\n",
        "import time\n",
        "\n",
        "for i in range(10,-1,-1):\n",
        "   time.sleep(1)\n",
        "   print(f\"{i}\",end=' ')\n"
      ],
      "metadata": {
        "colab": {
          "base_uri": "https://localhost:8080/"
        },
        "id": "EaBshxQhuLGd",
        "outputId": "76680221-3021-4195-9178-7a95de2eb3fe"
      },
      "execution_count": null,
      "outputs": [
        {
          "output_type": "stream",
          "name": "stdout",
          "text": [
            "10 9 8 7 6 5 4 3 2 1 0 "
          ]
        }
      ]
    },
    {
      "cell_type": "code",
      "source": [
        "# DESAFIO 05\n",
        "\n",
        "soma = 0\n",
        "\n",
        "for i in range(1,7):\n",
        "    if i%2 != 0:\n",
        "       continue\n",
        "    soma += i\n",
        "\n",
        "print(f\"{soma}\", end=' ')\n"
      ],
      "metadata": {
        "colab": {
          "base_uri": "https://localhost:8080/"
        },
        "id": "cyGE2LdOxqP0",
        "outputId": "08417fba-77c5-416c-8665-70895a203ab9"
      },
      "execution_count": null,
      "outputs": [
        {
          "output_type": "stream",
          "name": "stdout",
          "text": [
            "12 "
          ]
        }
      ]
    },
    {
      "cell_type": "code",
      "source": [
        "# DESAFIO 06\n",
        "ter = int(input(\"Digite o numero pra começar: \"))\n",
        "razao = int(input(\"Digite o numero o quanto pra pular: \"))\n",
        "\n",
        "\n",
        "for i in range(0, 10):\n",
        "   print(f\"{ter+(razao*i)}\", end=' ')\n"
      ],
      "metadata": {
        "colab": {
          "base_uri": "https://localhost:8080/"
        },
        "id": "9A4THD5fzGNT",
        "outputId": "88edb039-3994-4a6c-8e38-5edf47b1e229"
      },
      "execution_count": null,
      "outputs": [
        {
          "output_type": "stream",
          "name": "stdout",
          "text": [
            "Digite o numero pra começar: 5\n",
            "Digite o numero o quanto pra pular: 6\n",
            "5 11 17 23 29 35 41 47 53 59 "
          ]
        }
      ]
    },
    {
      "cell_type": "code",
      "source": [
        "# DESAFIO 07\n",
        "\n",
        "peso1 = float(input(\"Digite o peso da 1º pessoa: \"))\n",
        "peso2 = float(input(\"Digite o peso da 2º pessoa: \"))\n",
        "peso3 = float(input(\"Digite o peso da 3º pessoa: \"))\n",
        "peso4 = float(input(\"Digite o peso da 4º pessoa: \"))\n",
        "peso5 = float(input(\"Digite o peso da 5º pessoa: \"))\n",
        "\n",
        "print(f\"peso maior: \", max({peso1,peso2,peso3,peso4,peso5}))\n",
        "print(f\"peso menor: \", min(peso1,peso2,peso3,peso4,peso5))"
      ],
      "metadata": {
        "colab": {
          "base_uri": "https://localhost:8080/"
        },
        "id": "JSPnfEkS8UXw",
        "outputId": "a75ea855-6274-4a42-cca1-ad6ac486ff2c"
      },
      "execution_count": null,
      "outputs": [
        {
          "output_type": "stream",
          "name": "stdout",
          "text": [
            "Digite o peso da 1º pessoa: 55\n",
            "Digite o peso da 2º pessoa: 44\n",
            "Digite o peso da 3º pessoa: 99\n",
            "Digite o peso da 4º pessoa: 66\n",
            "Digite o peso da 5º pessoa: 44.1\n",
            "peso maior:  99.0\n",
            "peso maior:  44.0\n"
          ]
        }
      ]
    },
    {
      "cell_type": "code",
      "source": [
        "# DESAFIO 08\n",
        "menor = 0\n",
        "maior = 0\n",
        "nasc1 = 2025-int(input(\"Digite seu ano de nascimento: \"))\n",
        "nasc2 = 2025-int(input(\"Digite seu ano de nascimento: \"))\n",
        "nasc3 = 2025-int(input(\"Digite seu ano de nascimento: \"))\n",
        "nasc4 = 2025-int(input(\"Digite seu ano de nascimento: \"))\n",
        "nasc5 = 2025-int(input(\"Digite seu ano de nascimento: \"))\n",
        "nasc6 = 2025-int(input(\"Digite seu ano de nascimento: \"))\n",
        "nasc7 = 2025-int(input(\"Digite seu ano de nascimento: \"))\n",
        "idade = nasc1, nasc2, nasc3, nasc4, nasc5, nasc6, nasc7\n",
        "\n",
        "for num in idade:\n",
        "    if  num >= 18:\n",
        "       maior += 1\n",
        "    if num < 18:\n",
        "       menor += 1\n",
        "\n",
        "print(maior)\n",
        "print(menor)\n",
        "\n"
      ],
      "metadata": {
        "colab": {
          "base_uri": "https://localhost:8080/"
        },
        "id": "RLC6CP1SKchX",
        "outputId": "14031eb8-1dab-4305-dd50-8cebc7b11954"
      },
      "execution_count": null,
      "outputs": [
        {
          "output_type": "stream",
          "name": "stdout",
          "text": [
            "Digite seu ano de nascimento: 2002\n",
            "Digite seu ano de nascimento: 2002\n",
            "Digite seu ano de nascimento: 2002\n",
            "Digite seu ano de nascimento: 2010\n",
            "Digite seu ano de nascimento: 2010\n",
            "Digite seu ano de nascimento: 2010\n",
            "Digite seu ano de nascimento: 2007\n",
            "4\n",
            "3\n"
          ]
        }
      ]
    },
    {
      "cell_type": "code",
      "source": [
        "# DESAFIO 08 v2\n",
        "\n",
        "\n",
        "maior_de_idade = 0\n",
        "menor_de_idade = 0\n",
        "\n",
        "\n",
        "for i in range(1, 8):\n",
        "    idade = 2025-int(input(f\"Digite o {i}º ano de nascimento: \"))\n",
        "    if idade >= 18:\n",
        "        maior_de_idade += 1\n",
        "    else:\n",
        "        menor_de_idade += 1\n",
        "\n",
        "\n",
        "print(f\"\\n{maior_de_idade} pessoa(as) são maior de idade.\")\n",
        "print(f\"{menor_de_idade} pessoa(as) são menor de idade.\")"
      ],
      "metadata": {
        "id": "XhPUdiE2IfBD"
      },
      "execution_count": null,
      "outputs": []
    },
    {
      "cell_type": "code",
      "source": [
        "# DESAFIO 09\n",
        "maior = float('-inf')\n",
        "menor = float('inf')\n",
        "homen = \"Nenhum homen cadastrado\"\n",
        "mu = 0\n",
        "qt = 0\n",
        "soma = 0\n",
        "for x in range(1, 5):\n",
        "    no = input(f\"Digite o {x}º nome: \")\n",
        "    ida = float(input(f\"Digite o {x}º idade: \"))\n",
        "    sex = input(f\"Digite o {x}º sexo (M,F): \").upper()\n",
        "    qt += 1\n",
        "    soma += ida\n",
        "    if sex == 'M' and ida > maior:\n",
        "       homen = no\n",
        "\n",
        "    if  sex == \"F\" and ida < 20 :\n",
        "       mu += 1\n",
        "\n",
        "\n",
        "print(f\"{soma/qt:,.1f}\")\n",
        "print(f\"{homen}\")\n",
        "print(f\"Nenhuma mulher -20 cadastrada\"\n",
        "      if mu == 0 else\n",
        "      f\"{mu} mulher(es) cadastradas\")\n"
      ],
      "metadata": {
        "colab": {
          "base_uri": "https://localhost:8080/"
        },
        "id": "jPrGfwC8FJ5a",
        "outputId": "f22a1974-c5eb-4ca0-cbc3-73c85bb53850"
      },
      "execution_count": null,
      "outputs": [
        {
          "output_type": "stream",
          "name": "stdout",
          "text": [
            "Digite o 1º nome: i\n",
            "Digite o 1º idade: 2\n",
            "Digite o 1º sexo (M,F): m\n",
            "Digite o 2º nome: d\n",
            "Digite o 2º idade: 2\n",
            "Digite o 2º sexo (M,F): f\n",
            "Digite o 3º nome: e\n",
            "Digite o 3º idade: 1\n",
            "Digite o 3º sexo (M,F): f\n",
            "Digite o 4º nome: b\n",
            "Digite o 4º idade: 14\n",
            "Digite o 4º sexo (M,F): m\n",
            "4.8\n",
            "b\n",
            "2 mulher(es) cadastradas\n"
          ]
        }
      ]
    },
    {
      "cell_type": "code",
      "source": [
        "# DESAFIO 10\n",
        "cont = 0\n",
        "num = int(input(\"Digite uma numero: \"))\n",
        "\n",
        "for i in range(1,num):\n",
        "    if num%i == 0:\n",
        "        cont+=1\n",
        "    if cont > i :\n",
        "        break\n",
        "\n",
        "if cont > 1:\n",
        "    print(\"\\nNão é primo 👎\")\n",
        "\n",
        "else:\n",
        "    print(\"\\nÉ primo 👍\")"
      ],
      "metadata": {
        "colab": {
          "base_uri": "https://localhost:8080/"
        },
        "id": "cjPg1LHhGt_b",
        "outputId": "599e029f-86aa-4623-ee25-30679496136c"
      },
      "execution_count": null,
      "outputs": [
        {
          "output_type": "stream",
          "name": "stdout",
          "text": [
            "Digite uma numero: 15\n",
            "15 é um numero primo\n"
          ]
        }
      ]
    }
  ]
}