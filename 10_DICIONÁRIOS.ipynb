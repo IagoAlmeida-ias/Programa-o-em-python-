{
  "nbformat": 4,
  "nbformat_minor": 0,
  "metadata": {
    "colab": {
      "provenance": [],
      "authorship_tag": "ABX9TyOLuu8aDKi0wD0rWWvs9/yF",
      "include_colab_link": true
    },
    "kernelspec": {
      "name": "python3",
      "display_name": "Python 3"
    },
    "language_info": {
      "name": "python"
    }
  },
  "cells": [
    {
      "cell_type": "markdown",
      "metadata": {
        "id": "view-in-github",
        "colab_type": "text"
      },
      "source": [
        "<a href=\"https://colab.research.google.com/github/IagoAlmeida-ias/Programa-o-em-python-/blob/main/10_DICION%C3%81RIOS.ipynb\" target=\"_parent\"><img src=\"https://colab.research.google.com/assets/colab-badge.svg\" alt=\"Open In Colab\"/></a>"
      ]
    },
    {
      "cell_type": "markdown",
      "source": [
        "#  10 DICIONÁRIOS"
      ],
      "metadata": {
        "id": "U_hZuLPIOQr_"
      }
    },
    {
      "cell_type": "code",
      "execution_count": null,
      "metadata": {
        "colab": {
          "base_uri": "https://localhost:8080/"
        },
        "id": "KgArM1NsOMJI",
        "outputId": "34757519-9660-4016-992f-e530558747d6"
      },
      "outputs": [
        {
          "output_type": "stream",
          "name": "stdout",
          "text": [
            "<class 'dict'>\n",
            "{'comida': 'Lanche', 'bebida': 'Água', 'sobremesa': 'Pudim'}\n",
            "Lanche\n"
          ]
        }
      ],
      "source": [
        "# EXEMPLO 01 (JSON)\n",
        "\n",
        "\n",
        "almoco = {'comida': 'Lanche', 'bebida': 'Água', 'sobremesa': 'Pudim'}\n",
        "print(type(almoco))\n",
        "print(almoco)\n",
        "print(almoco['comida'])"
      ]
    },
    {
      "cell_type": "code",
      "source": [
        "# EXEMPLO 01 v2\n",
        "\n",
        "\n",
        "almoco = {'comida': 'Lanche', 'bebida': 'Água', 'sobremesa': ['Pudim', 'Mousse']}\n",
        "print(almoco['sobremesa'][1])"
      ],
      "metadata": {
        "colab": {
          "base_uri": "https://localhost:8080/"
        },
        "id": "OHeaUBe2QbV0",
        "outputId": "239fac27-61d4-4a48-d6c0-75fffc6cdfed"
      },
      "execution_count": null,
      "outputs": [
        {
          "output_type": "stream",
          "name": "stdout",
          "text": [
            "Mousse\n"
          ]
        }
      ]
    },
    {
      "cell_type": "code",
      "source": [
        "# EXEMPLO 02 ITENS (FORMATO JSON)\n",
        "\n",
        "\n",
        "almoco = {\n",
        "    'comida': 'Lanche',\n",
        "    'bebida': 'Água',\n",
        "    'sobremesa': 'Pudim'\n",
        "    }\n",
        "\n",
        "\n",
        "print(almoco.items())"
      ],
      "metadata": {
        "colab": {
          "base_uri": "https://localhost:8080/"
        },
        "id": "wg1WxManQwzG",
        "outputId": "b253ba1b-c7b8-48f2-fdfa-b6bd581f9b5c"
      },
      "execution_count": null,
      "outputs": [
        {
          "output_type": "stream",
          "name": "stdout",
          "text": [
            "dict_items([('comida', 'Lanche'), ('bebida', 'Água'), ('sobremesa', 'Pudim')])\n"
          ]
        }
      ]
    },
    {
      "cell_type": "code",
      "source": [
        "# EXEMPLO 03 CHAVES\n",
        "\n",
        "\n",
        "print(almoco.keys())"
      ],
      "metadata": {
        "colab": {
          "base_uri": "https://localhost:8080/"
        },
        "id": "3g07amEwTAyF",
        "outputId": "07b1b8dd-d388-4b02-ec30-dfa3e0b4f2a4"
      },
      "execution_count": null,
      "outputs": [
        {
          "output_type": "stream",
          "name": "stdout",
          "text": [
            "dict_keys(['comida', 'bebida', 'sobremesa'])\n"
          ]
        }
      ]
    },
    {
      "cell_type": "code",
      "source": [
        "# EXEMPLO 04 VALORES\n",
        "\n",
        "\n",
        "print(almoco.values())"
      ],
      "metadata": {
        "colab": {
          "base_uri": "https://localhost:8080/"
        },
        "id": "4YjslEHKTJ4N",
        "outputId": "b8c189b7-da5e-4d02-9c3d-2f0490d44549"
      },
      "execution_count": null,
      "outputs": [
        {
          "output_type": "stream",
          "name": "stdout",
          "text": [
            "dict_values(['Lanche', 'Água', 'Pudim'])\n"
          ]
        }
      ]
    },
    {
      "cell_type": "code",
      "source": [
        "# EXEMPLO 05\n",
        "\n",
        "\n",
        "for chave, valor in almoco.items():\n",
        "    print(f\"{chave:12} | {valor:>12}\")"
      ],
      "metadata": {
        "colab": {
          "base_uri": "https://localhost:8080/"
        },
        "id": "U1fffbj5TP0b",
        "outputId": "f1d30fe5-7a3e-4d14-c2bf-186764aed3d9"
      },
      "execution_count": null,
      "outputs": [
        {
          "output_type": "stream",
          "name": "stdout",
          "text": [
            "comida       |       Lanche\n",
            "bebida       |         Água\n",
            "sobremesa    |        Pudim\n"
          ]
        }
      ]
    },
    {
      "cell_type": "code",
      "source": [
        "# EXEMPLO 06 (Alterar valores do dicionário)\n",
        "\n",
        "\n",
        "almoco['bebida'] = 'Suco de laranja'\n",
        "for chave, valor in almoco.items():\n",
        "    print(f\"{chave:12} | {valor:>15}\")"
      ],
      "metadata": {
        "colab": {
          "base_uri": "https://localhost:8080/"
        },
        "id": "E5YxZIU2Ts4V",
        "outputId": "e32ab03f-3572-41e0-d1c2-d5fed6c14adc"
      },
      "execution_count": null,
      "outputs": [
        {
          "output_type": "stream",
          "name": "stdout",
          "text": [
            "comida       |          Lanche\n",
            "bebida       | Suco de laranja\n",
            "sobremesa    |           Pudim\n"
          ]
        }
      ]
    },
    {
      "cell_type": "code",
      "source": [
        "# EXEMPLO 07 (Remover valores do dicionário)\n",
        "\n",
        "\n",
        "del almoco['sobremesa']\n",
        "for chave, valor in almoco.items():\n",
        "    print(f\"{chave:12} | {valor:12}\")"
      ],
      "metadata": {
        "colab": {
          "base_uri": "https://localhost:8080/"
        },
        "id": "FnH9W22oT5BL",
        "outputId": "a79761f7-45d7-43d3-ae67-2260494a04d6"
      },
      "execution_count": null,
      "outputs": [
        {
          "output_type": "stream",
          "name": "stdout",
          "text": [
            "comida       | Lanche      \n",
            "bebida       | Suco de laranja\n"
          ]
        }
      ]
    },
    {
      "cell_type": "code",
      "source": [
        "# EXEMPLO 08 (Criar chave e valor para o dicionário)\n",
        "\n",
        "\n",
        "almoco['sorvete'] = 'Chocolate'\n",
        "for chave, valor in almoco.items():\n",
        "    print(f\"{chave:12} | {valor:12}\")"
      ],
      "metadata": {
        "colab": {
          "base_uri": "https://localhost:8080/"
        },
        "id": "Uo8Q08lpaKdi",
        "outputId": "08912f53-73a5-4a1a-dfa3-1273ca3481b8"
      },
      "execution_count": null,
      "outputs": [
        {
          "output_type": "stream",
          "name": "stdout",
          "text": [
            "comida       | Lanche      \n",
            "bebida       | Suco de laranja\n",
            "sorvete      | Chocolate   \n"
          ]
        }
      ]
    },
    {
      "cell_type": "code",
      "source": [
        "# EXEMPLO 09\n",
        "\n",
        "\n",
        "estado = {}\n",
        "brasil = []\n",
        "\n",
        "\n",
        "for _ in range(2):\n",
        "    estado['uf']    = input(\"Digite a unidade federativa: \")\n",
        "    estado['sigla'] = input(\"Digite a sigla do estado: \")\n",
        "    brasil.append(estado.copy())\n",
        "\n",
        "\n",
        "print(brasil)\n",
        "print(brasil[0]['sigla'])"
      ],
      "metadata": {
        "colab": {
          "base_uri": "https://localhost:8080/"
        },
        "id": "XfMEm0RvaddB",
        "outputId": "e453d53b-f03f-465e-d753-9f3d465e8dc2"
      },
      "execution_count": null,
      "outputs": [
        {
          "output_type": "stream",
          "name": "stdout",
          "text": [
            "Digite a unidade federativa: São paulo\n",
            "Digite a sigla do estado: sp\n",
            "Digite a unidade federativa: rio de janeiro\n",
            "Digite a sigla do estado: rj\n",
            "[{'uf': 'São paulo', 'sigla': 'sp'}, {'uf': 'rio de janeiro', 'sigla': 'rj'}]\n",
            "sp\n"
          ]
        }
      ]
    },
    {
      "cell_type": "code",
      "source": [
        "# EXEMPLO 10\n",
        "\n",
        "\n",
        "for e in brasil:\n",
        "    for valor in e.values():\n",
        "        print(valor)"
      ],
      "metadata": {
        "colab": {
          "base_uri": "https://localhost:8080/"
        },
        "id": "kuYsKe_VcKuy",
        "outputId": "a5ba54f5-bc5b-489e-f1e2-93899479b18d"
      },
      "execution_count": null,
      "outputs": [
        {
          "output_type": "stream",
          "name": "stdout",
          "text": [
            "aaaaa\n",
            "aa\n",
            "ffffffffffff\n",
            "ff\n"
          ]
        }
      ]
    },
    {
      "cell_type": "markdown",
      "source": [
        "# DESAFIOS\n"
      ],
      "metadata": {
        "id": "zRSJIqe2cXYN"
      }
    },
    {
      "cell_type": "code",
      "source": [
        "# DESAFIO 01\n",
        "\n",
        "almoco = [\n",
        "    {\"nome\":\"Leandro\", \"comida\": \"Lanche\", \"bebida\": \"Suco de Laranja\"},\n",
        "    {\"nome\":\"Celia\", \"comida\": \"Lasanha\", \"bebida\": \"Suco de uva\"},\n",
        "    {\"nome\":\"Catarina\", \"comida\": \"Pizza\", \"bebida\": \"Coca-Cola\"}\n",
        "]\n",
        "print(almoco[2]['comida'])"
      ],
      "metadata": {
        "colab": {
          "base_uri": "https://localhost:8080/"
        },
        "id": "QWuvohB2cc_6",
        "outputId": "aca205c9-ec22-4178-b93c-0dba693fe48e"
      },
      "execution_count": null,
      "outputs": [
        {
          "output_type": "stream",
          "name": "stdout",
          "text": [
            "Pizza\n"
          ]
        }
      ]
    },
    {
      "cell_type": "code",
      "source": [
        "# DESAFIO 02\n",
        "\n",
        "for e in almoco:\n",
        "    print(e['nome'])\n",
        "    print(e['comida'])"
      ],
      "metadata": {
        "colab": {
          "base_uri": "https://localhost:8080/"
        },
        "id": "lnfZV2EyelGq",
        "outputId": "2300e0ef-5f7b-495b-8802-5386d078149b"
      },
      "execution_count": null,
      "outputs": [
        {
          "output_type": "stream",
          "name": "stdout",
          "text": [
            "Leandro\n",
            "Lanche\n",
            "Celia\n",
            "Lasanha\n",
            "Catarina\n",
            "Pizza\n"
          ]
        }
      ]
    },
    {
      "cell_type": "code",
      "source": [
        "# DESAFIO 02 v1 proff\n",
        "\n",
        "for d in almoco:\n",
        "    print(f\"{d['nome']} come {d['comida']} e bebe {d['bebida']}.\")"
      ],
      "metadata": {
        "colab": {
          "base_uri": "https://localhost:8080/"
        },
        "id": "D65Cnv3skqQB",
        "outputId": "ea90cf7a-1c52-42ba-e127-3298472c2a78"
      },
      "execution_count": null,
      "outputs": [
        {
          "output_type": "stream",
          "name": "stdout",
          "text": [
            "Leandro come Lanche e bebe Suco de Laranja.\n",
            "Celia come Lasanha e bebe Suco de uva.\n",
            "Catarina come Pizza e bebe Coca-Cola.\n"
          ]
        }
      ]
    },
    {
      "cell_type": "code",
      "source": [
        "# DESAFIO 02 v2 (com busca por nome) proff\n",
        "\n",
        "\n",
        "cont = 0\n",
        "pessoa = input(\"Digite o nome da pessoa: \")\n",
        "for i in range(len(almoco)):\n",
        "    if pessoa.lower() == almoco[i]['nome'].lower():\n",
        "        cont += 1\n",
        "        print(f\"{almoco[i]['nome']} come {almoco[i]['comida']} e bebe {almoco[i]['bebida']}\")\n",
        "if cont == 0:\n",
        "    print(\"\\nNenhum registro encontrado...\")"
      ],
      "metadata": {
        "colab": {
          "base_uri": "https://localhost:8080/"
        },
        "id": "wQVfFAbzkl9p",
        "outputId": "e8ede568-842a-4f61-acbf-983b8fac1826"
      },
      "execution_count": null,
      "outputs": [
        {
          "output_type": "stream",
          "name": "stdout",
          "text": [
            "Digite o nome da pessoa: leandro\n",
            "Leandro come Lanche e bebe Suco de Laranja\n"
          ]
        }
      ]
    },
    {
      "cell_type": "code",
      "source": [
        "# DESAFIO 03\n",
        "dia = {}\n",
        "\n",
        "dia['nome'] = input(\"Digite o nome do aluno: \")\n",
        "dia['media'] = float(input(\"Digite a media do aluno: \"))\n",
        "\n",
        "match dia['media']:\n",
        "    case _ if dia['media'] < 5:\n",
        "        dia['situacao'] = 'Reprovado'\n",
        "    case _ if dia['media'] < 7:\n",
        "        dia['situacao'] = 'Exame'\n",
        "    case _ if dia['media'] > 7:\n",
        "        dia['situacao'] = 'Aprovado'\n",
        "\n",
        "print(dia)\n",
        "\n"
      ],
      "metadata": {
        "colab": {
          "base_uri": "https://localhost:8080/"
        },
        "id": "nmfB5uufgBa8",
        "outputId": "2bcd89d8-be51-4424-c070-1c585bde10ad"
      },
      "execution_count": null,
      "outputs": [
        {
          "output_type": "stream",
          "name": "stdout",
          "text": [
            "Digite o nome do aluno: iago\n",
            "Digite a media do aluno: 5.8\n",
            "{'nome': 'iago', 'media': 5.8, 'situacao': 'Exame'}\n"
          ]
        }
      ]
    },
    {
      "cell_type": "code",
      "source": [
        "# DESAFIO 04 BÔNUS\n",
        "\n",
        "dia = []\n",
        "di = {}\n",
        "n = int(input(\"digite a quantidade de alunos: \"))\n",
        "\n",
        "for _ in range(n):\n",
        "    di['nome'] = input(\"Digite o nome do aluno: \")\n",
        "    di['media'] = float(input(\"Digite a media do aluno: \"))\n",
        "\n",
        "    match di['media']:\n",
        "        case _ if di['media'] < 5:\n",
        "            di['situacao'] = 'Reprovado'\n",
        "        case _ if di['media'] < 7:\n",
        "            di['situacao'] = 'Exame'\n",
        "        case _ if di['media'] > 7:\n",
        "            di['situacao'] = 'Aprovado'\n",
        "\n",
        "\n",
        "    dia.append(di.copy())\n",
        "\n",
        "\n",
        "print(dia)\n"
      ],
      "metadata": {
        "colab": {
          "base_uri": "https://localhost:8080/"
        },
        "id": "149AeEFYNYL6",
        "outputId": "bbf490a3-cfad-4522-ec3a-91117dc77774"
      },
      "execution_count": null,
      "outputs": [
        {
          "output_type": "stream",
          "name": "stdout",
          "text": [
            "digite a quantidade de alunos: 2\n",
            "Digite o nome do aluno: iago\n",
            "Digite a media do aluno: 5\n",
            "Digite o nome do aluno: joao\n",
            "Digite a media do aluno: 9\n",
            "[{'nome': 'iago', 'media': 5.0, 'situacao': 'Exame'}, {'nome': 'joao', 'media': 9.0, 'situacao': 'Aprovado'}]\n",
            "joao...... 9.0 ..Aprovado\n"
          ]
        }
      ]
    },
    {
      "cell_type": "code",
      "source": [
        "# DESAFIO 04 BÔNUS\n",
        "\n",
        "dia = []\n",
        "di = {}\n",
        "\n",
        "n = int(input(\"digite a quantidade de alunos: \"))\n",
        "\n",
        "\n",
        "for _ in range(n):\n",
        "    di['nome'] = input(\"Digite o nome do aluno: \")\n",
        "    di['media'] = float(input(\"Digite a media do aluno: \"))\n",
        "\n",
        "    match di['media']:\n",
        "        case _ if di['media'] < 5:\n",
        "            di['situacao'] = 'Reprovado'\n",
        "        case _ if di['media'] < 7:\n",
        "            di['situacao'] = 'Exame'\n",
        "        case _ if di['media'] >= 7:\n",
        "            di['situacao'] = 'Aprovado'\n",
        "\n",
        "\n",
        "    dia.append(di.copy())\n",
        "print(dia)\n",
        "for di in dia:\n",
        "    print(di['nome'].ljust(15, '.'), di['media'], di['situacao'].rjust(15, '.'))\n",
        "\n"
      ],
      "metadata": {
        "colab": {
          "base_uri": "https://localhost:8080/"
        },
        "id": "SQuMfG3SW-M2",
        "outputId": "c0dd706a-e4ef-482f-8de6-40aca97f136e"
      },
      "execution_count": null,
      "outputs": [
        {
          "output_type": "stream",
          "name": "stdout",
          "text": [
            "[{'nome': 'iago', 'media': 5.0, 'situacao': 'Exame'}]\n",
            "iago........... 5.0 ..........Exame\n"
          ]
        }
      ]
    },
    {
      "cell_type": "code",
      "source": [
        "# DESAFIO 04 BÔNUS dica do prof\n",
        "from google.colab import output\n",
        "dia = []\n",
        "di = {}\n",
        "\n",
        "n = int(input(\"digite a quantidade de alunos: \"))\n",
        "\n",
        "for _ in range(n):\n",
        "    output.clear()\n",
        "    di['nome'] = input(\"Digite o nome do aluno: \")\n",
        "    di['media'] = float(input(\"Digite a media do aluno: \"))\n",
        "\n",
        "    match di['media']:\n",
        "        case _ if di['media'] < 5:\n",
        "            di['situacao'] = 'Reprovado'\n",
        "        case _ if di['media'] < 7:\n",
        "            di['situacao'] = 'Exame'\n",
        "        case _ if di['media'] >= 7:\n",
        "            di['situacao'] = 'Aprovado'\n",
        "\n",
        "\n",
        "    dia.append(di.copy())\n",
        "output.clear()\n",
        "print(dia)\n",
        "for di in dia:\n",
        "    print(f\"\\033[0;30;47m {di['nome'].ljust(15, '.')}, {di['media']}, {di['situacao'].rjust(15, '.')}\")\n"
      ],
      "metadata": {
        "colab": {
          "base_uri": "https://localhost:8080/"
        },
        "id": "pjIJiBxfXnis",
        "outputId": "bd75968d-69a9-4a09-8873-9421545e0fed"
      },
      "execution_count": null,
      "outputs": [
        {
          "output_type": "stream",
          "name": "stdout",
          "text": [
            "[{'nome': 'iago', 'media': 5.0, 'situacao': 'Exame'}]\n",
            "\u001b[0;30;47m iago..........., 5.0, ..........Exame\n"
          ]
        }
      ]
    }
  ]
}