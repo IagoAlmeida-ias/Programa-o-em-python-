{
  "nbformat": 4,
  "nbformat_minor": 0,
  "metadata": {
    "colab": {
      "provenance": [],
      "authorship_tag": "ABX9TyNb30urHN2Kqpsqr442siOU",
      "include_colab_link": true
    },
    "kernelspec": {
      "name": "python3",
      "display_name": "Python 3"
    },
    "language_info": {
      "name": "python"
    }
  },
  "cells": [
    {
      "cell_type": "markdown",
      "metadata": {
        "id": "view-in-github",
        "colab_type": "text"
      },
      "source": [
        "<a href=\"https://colab.research.google.com/github/IagoAlmeida-ias/Programa-o-em-python-/blob/main/09_TUPLAS.ipynb\" target=\"_parent\"><img src=\"https://colab.research.google.com/assets/colab-badge.svg\" alt=\"Open In Colab\"/></a>"
      ]
    },
    {
      "cell_type": "markdown",
      "source": [
        "# 09 TUPLAS"
      ],
      "metadata": {
        "id": "fqMXHlkRweKm"
      }
    },
    {
      "cell_type": "code",
      "execution_count": null,
      "metadata": {
        "colab": {
          "base_uri": "https://localhost:8080/"
        },
        "id": "G2w2y54Hwc-8",
        "outputId": "71254492-50a6-4a83-b81d-8326414c13fa"
      },
      "outputs": [
        {
          "output_type": "stream",
          "name": "stdout",
          "text": [
            "('Assembly', 'JAVA', 'Python', 'C#')\n",
            "('Assembly', 'JAVA', 'Python', 'C#')\n",
            "<class 'tuple'>\n"
          ]
        }
      ],
      "source": [
        "# TUPLAS\n",
        "\n",
        "\n",
        "linguagens = ('Assembly', 'JAVA', 'Python', 'C#')\n",
        "print(linguagens)\n",
        "\n",
        "\n",
        "linguagens2 = 'Assembly', 'JAVA', 'Python', 'C#'\n",
        "print(linguagens2)\n",
        "print(type(linguagens2))"
      ]
    },
    {
      "cell_type": "code",
      "source": [
        "# ACESSOS PARA TUPLAS\n",
        "\n",
        "\n",
        "lanches = ('Hamburger', 'Pastel', 'Coxinha', 'Pizza')\n",
        "\n",
        "\n",
        "print(lanches[0])   # Primeiro item\n",
        "print(lanches[-1])  # Último item\n",
        "print(lanches[1:3]) # Dois itens\n",
        "print(lanches[1:])  # A partir do segundo\n",
        "print(lanches[:2])  # Até o segundo\n",
        "print(lanches[:])   # Todos"
      ],
      "metadata": {
        "colab": {
          "base_uri": "https://localhost:8080/"
        },
        "id": "PDDqCWGBxvsN",
        "outputId": "c0591ab8-e042-4cc0-8d70-ccf04122301d"
      },
      "execution_count": null,
      "outputs": [
        {
          "output_type": "stream",
          "name": "stdout",
          "text": [
            "Hamburger\n",
            "Pizza\n",
            "('Pastel', 'Coxinha')\n",
            "('Pastel', 'Coxinha', 'Pizza')\n",
            "('Hamburger', 'Pastel')\n",
            "('Hamburger', 'Pastel', 'Coxinha', 'Pizza')\n"
          ]
        }
      ]
    },
    {
      "cell_type": "code",
      "source": [
        "# GERA ERRO (TUPLA É IMUTÁVEL)\n",
        "\n",
        "\n",
        "lanches = ('Hamburger', 'Pastel', 'Coxinha', 'Pizza')\n",
        "lanches[0] = 'Hotdog'"
      ],
      "metadata": {
        "collapsed": true,
        "id": "XFJXnfqMx00E"
      },
      "execution_count": null,
      "outputs": []
    },
    {
      "cell_type": "code",
      "source": [
        "# PERCORRER UMA TUPLA\n",
        "\n",
        "\n",
        "lanches = ('Hamburger', 'Pastel', 'Coxinha', 'Pizza')\n",
        "\n",
        "\n",
        "for lanche in lanches:\n",
        "    print(lanche)"
      ],
      "metadata": {
        "colab": {
          "base_uri": "https://localhost:8080/"
        },
        "id": "ZSqDKs2myQ2A",
        "outputId": "7e80d766-6bad-421a-d50d-4c9f21ed6370"
      },
      "execution_count": null,
      "outputs": [
        {
          "output_type": "stream",
          "name": "stdout",
          "text": [
            "Hamburger\n",
            "Pastel\n",
            "Coxinha\n",
            "Pizza\n"
          ]
        }
      ]
    },
    {
      "cell_type": "code",
      "source": [
        "# PERCORRER UMA TUPLA POR ÍNDICE\n",
        "\n",
        "\n",
        "lanches = ('Hamburger', 'Pastel', 'Coxinha', 'Pizza')\n",
        "\n",
        "\n",
        "for i in range(len(lanches)):\n",
        "    print(lanches[i])"
      ],
      "metadata": {
        "colab": {
          "base_uri": "https://localhost:8080/"
        },
        "id": "Jhm4rGTUyftM",
        "outputId": "4c9e6fd5-6074-4fcd-daee-d78d6a11c377"
      },
      "execution_count": null,
      "outputs": [
        {
          "output_type": "stream",
          "name": "stdout",
          "text": [
            "Hamburger\n",
            "Pastel\n",
            "Coxinha\n",
            "Pizza\n"
          ]
        }
      ]
    },
    {
      "cell_type": "code",
      "source": [
        "# PERCORRER UMA TUPLA POR ÍNDICE E VALORES\n",
        "\n",
        "\n",
        "lanches = ('Hamburger', 'Pastel', 'Coxinha', 'Pizza')\n",
        "\n",
        "\n",
        "for posicao, lanche in enumerate(lanches):\n",
        "    print(f\"{posicao+1} | {lanche}\")"
      ],
      "metadata": {
        "colab": {
          "base_uri": "https://localhost:8080/"
        },
        "id": "r7suIkv6yi60",
        "outputId": "4cd3b7ee-78a3-433b-83f0-93c0f97fbe5c"
      },
      "execution_count": null,
      "outputs": [
        {
          "output_type": "stream",
          "name": "stdout",
          "text": [
            "1 | Hamburger\n",
            "2 | Pastel\n",
            "3 | Coxinha\n",
            "4 | Pizza\n"
          ]
        }
      ]
    },
    {
      "cell_type": "code",
      "source": [
        "# CONVERTER LISTA EM TUPLA\n",
        "\n",
        "\n",
        "lista = list()\n",
        "lista = [1, 2, 3, 4, 5]\n",
        "\n",
        "\n",
        "tupla = tuple(lista)\n",
        "print(tupla)\n",
        "print(type(tupla))\n",
        "print(lista.index(5))"
      ],
      "metadata": {
        "colab": {
          "base_uri": "https://localhost:8080/"
        },
        "id": "a5-94afQzDc9",
        "outputId": "ef69c669-4bd3-4554-9179-348bf5fd1ff2"
      },
      "execution_count": null,
      "outputs": [
        {
          "output_type": "stream",
          "name": "stdout",
          "text": [
            "(1, 2, 3, 4, 5)\n",
            "<class 'tuple'>\n",
            "4\n"
          ]
        }
      ]
    },
    {
      "cell_type": "code",
      "source": [
        "# MÉTODO SORTED\n",
        "\n",
        "\n",
        "lanches = ('Hamburger', 'Pastel', 'Coxinha', 'Pizza')\n",
        "\n",
        "\n",
        "ordenar = tuple(sorted(lanches))\n",
        "print(ordenar)\n",
        "print(type(ordenar))"
      ],
      "metadata": {
        "colab": {
          "base_uri": "https://localhost:8080/"
        },
        "id": "apBZuxJczkzH",
        "outputId": "e40287e9-9cfc-4df2-f110-0b5743a64b27"
      },
      "execution_count": null,
      "outputs": [
        {
          "output_type": "stream",
          "name": "stdout",
          "text": [
            "('Coxinha', 'Hamburger', 'Pastel', 'Pizza')\n",
            "<class 'tuple'>\n"
          ]
        }
      ]
    },
    {
      "cell_type": "code",
      "source": [
        "# MÉTODO DEL\n",
        "\n",
        "\n",
        "lanches = ('Hamburger', 'Pastel', 'Coxinha', 'Pizza')\n",
        "del(lanches)\n",
        "print(lanches)"
      ],
      "metadata": {
        "id": "oWqHgtir1acE"
      },
      "execution_count": null,
      "outputs": []
    },
    {
      "cell_type": "code",
      "source": [
        "# CONCATENAR TUPLAS\n",
        "\n",
        "\n",
        "lanches = ('Hamburger', 'Pastel', 'Coxinha', 'Pizza')\n",
        "doces = ('Pudim', 'Bolo', 'Sorvete')\n",
        "\n",
        "\n",
        "unificada = lanches + doces\n",
        "\n",
        "\n",
        "print(unificada)"
      ],
      "metadata": {
        "colab": {
          "base_uri": "https://localhost:8080/"
        },
        "id": "t6KalV962DPu",
        "outputId": "b8698334-f085-45bd-92b2-c68b08716139"
      },
      "execution_count": null,
      "outputs": [
        {
          "output_type": "stream",
          "name": "stdout",
          "text": [
            "('Hamburger', 'Pastel', 'Coxinha', 'Pizza', 'Pudim', 'Bolo', 'Sorvete')\n"
          ]
        }
      ]
    },
    {
      "cell_type": "code",
      "source": [
        "# EXEMPLOS PARA INSERÇÃO DE VALORES EM TUPLAS:\n",
        "\n",
        "\n",
        "# Digitação pelo usuário\n",
        "tupla = tuple(int(input(f\"Digite o {i+1} nº: \")) for i in range(5))\n",
        "print(\"\\nDigitados pelo usuário:\", tupla)\n",
        "\n",
        "\n",
        "# Números aleatórios\n",
        "import random\n",
        "tupla = tuple(random.randint(1, 50) for i in range(5))\n",
        "print(\"\\nNúmeros aleatórios:\", tupla)\n",
        "\n",
        "\n",
        "# Contagem\n",
        "tupla = tuple(i for i in range(1, 11))\n",
        "print(\"\\nContagem:\", tupla)\n",
        "\n",
        "\n",
        "# Valores condicionais\n",
        "numeros = (4, 8, 7, 10, -50)\n",
        "pares = tuple(num if num%2==0 else '' for num in numeros)\n",
        "print(\"\\nPares condicionais:\", pares)\n",
        "\n",
        "\n",
        "# Imprimir diretamente uma Tupla\n",
        "print(\"\\nNúmeros pares de 0 a 10:\", tuple(i for i in range(0, 11, 2)))\n"
      ],
      "metadata": {
        "colab": {
          "base_uri": "https://localhost:8080/"
        },
        "id": "rQeB0T7uBDIi",
        "outputId": "a8aae145-9d0e-45a1-9d77-83d2b17d070d"
      },
      "execution_count": null,
      "outputs": [
        {
          "output_type": "stream",
          "name": "stdout",
          "text": [
            "Digite o 1 nº: 4\n",
            "Digite o 2 nº: 2\n",
            "Digite o 3 nº: 3\n",
            "Digite o 4 nº: 1\n",
            "Digite o 5 nº: 2\n",
            "\n",
            "Digitados pelo usuário: (4, 2, 3, 1, 2)\n",
            "\n",
            "Números aleatórios: (39, 10, 45, 22, 30)\n",
            "\n",
            "Contagem: (1, 2, 3, 4, 5, 6, 7, 8, 9, 10)\n",
            "\n",
            "Pares condicionais: (4, 8, '', 10, -50)\n",
            "\n",
            "Números pares de 0 a 10: (0, 2, 4, 6, 8, 10)\n"
          ]
        }
      ]
    },
    {
      "cell_type": "markdown",
      "source": [
        "# Desafios"
      ],
      "metadata": {
        "id": "CPw5oCOq2Om-"
      }
    },
    {
      "cell_type": "code",
      "source": [
        "# DESAFIO 01\n",
        "numeros_extenso = (\n",
        "    'Um',\n",
        "    'Dois',\n",
        "    'Três',\n",
        "    'Quatro',\n",
        "    'Cinco',\n",
        "    'Seis',\n",
        "    'Sete',\n",
        "    'Oito',\n",
        "    'Nove',\n",
        "    'Dez',\n",
        "    'Onze',\n",
        "    'Doze',\n",
        "    'Treze',\n",
        "    'Quatorze',\n",
        "    'Quinze',\n",
        "    'Dezesseis',\n",
        "    'Dezessete',\n",
        "    'Dezoito',\n",
        "    'Dezenove',\n",
        "    'Vinte')\n",
        "\n",
        "num = int(input(\"Digite um numero de 1 á 20: \"))\n",
        "\n",
        "print(numeros_extenso[num-1])"
      ],
      "metadata": {
        "colab": {
          "base_uri": "https://localhost:8080/"
        },
        "id": "ie3o2Tb12S4k",
        "outputId": "df1334f9-1f4b-4c3f-9d11-884fc70c05b7"
      },
      "execution_count": null,
      "outputs": [
        {
          "output_type": "stream",
          "name": "stdout",
          "text": [
            "Digite um numero de 1 á 20: 7\n",
            "Sete\n"
          ]
        }
      ]
    },
    {
      "cell_type": "code",
      "source": [
        "import random\n",
        "\n",
        "\n",
        "t1 = []\n",
        "for i in range(1,6):\n",
        "   n = random.randint(1,100)\n",
        "   t1.append(n)\n",
        "\n",
        "\n",
        "t2 = tuple(t1)\n",
        "print(t2)\n",
        "print(max(t1))\n",
        "print(min(t1))\n"
      ],
      "metadata": {
        "colab": {
          "base_uri": "https://localhost:8080/",
          "height": 228
        },
        "id": "_Q7QO9mI4HK2",
        "outputId": "ed2ac425-4a19-4c2b-ff14-fbda0909b169"
      },
      "execution_count": null,
      "outputs": [
        {
          "output_type": "stream",
          "name": "stdout",
          "text": [
            "(24, 39, 36, 76, 91)\n",
            "91\n",
            "24\n"
          ]
        },
        {
          "output_type": "error",
          "ename": "ValueError",
          "evalue": "5 is not in list",
          "traceback": [
            "\u001b[0;31m---------------------------------------------------------------------------\u001b[0m",
            "\u001b[0;31mValueError\u001b[0m                                Traceback (most recent call last)",
            "\u001b[0;32m/tmp/ipython-input-5-2579472983.py\u001b[0m in \u001b[0;36m<cell line: 0>\u001b[0;34m()\u001b[0m\n\u001b[1;32m     12\u001b[0m \u001b[0mprint\u001b[0m\u001b[0;34m(\u001b[0m\u001b[0mmax\u001b[0m\u001b[0;34m(\u001b[0m\u001b[0mt1\u001b[0m\u001b[0;34m)\u001b[0m\u001b[0;34m)\u001b[0m\u001b[0;34m\u001b[0m\u001b[0;34m\u001b[0m\u001b[0m\n\u001b[1;32m     13\u001b[0m \u001b[0mprint\u001b[0m\u001b[0;34m(\u001b[0m\u001b[0mmin\u001b[0m\u001b[0;34m(\u001b[0m\u001b[0mt1\u001b[0m\u001b[0;34m)\u001b[0m\u001b[0;34m)\u001b[0m\u001b[0;34m\u001b[0m\u001b[0;34m\u001b[0m\u001b[0m\n\u001b[0;32m---> 14\u001b[0;31m \u001b[0mprint\u001b[0m\u001b[0;34m(\u001b[0m\u001b[0mt1\u001b[0m\u001b[0;34m.\u001b[0m\u001b[0mindex\u001b[0m\u001b[0;34m(\u001b[0m\u001b[0;36m5\u001b[0m\u001b[0;34m)\u001b[0m\u001b[0;34m)\u001b[0m\u001b[0;34m\u001b[0m\u001b[0;34m\u001b[0m\u001b[0m\n\u001b[0m",
            "\u001b[0;31mValueError\u001b[0m: 5 is not in list"
          ]
        }
      ]
    },
    {
      "cell_type": "code",
      "source": [
        "# DESAFIO 03\n",
        "\n",
        "num = ()\n",
        "for i in range(1,5):\n",
        "    n = int(input(f\"Digite o {i}º numero\"))\n",
        "\n"
      ],
      "metadata": {
        "id": "gZc_wpL8C9E4"
      },
      "execution_count": null,
      "outputs": []
    },
    {
      "cell_type": "code",
      "source": [
        "# DESAFIO 03\n",
        "\n",
        "tupla = tuple(int(input(f\"Digite o {i}º numero: \")) for i in range(1, 5))\n",
        "print(\"\\nNão digitou 9\" if 9 not in tupla else f\"\\n9 aparece {tupla.count(9)} vezes\")\n",
        "print(\"\\nNão digitou 3\" if 3 not in tupla else f\"\\n9 aparece na posição {tupla.index(3)+1}\")\n",
        "print(\"Pares: \", end=' ')\n",
        "for num in tupla:\n",
        "    if num%2 == 0:\n",
        "        print(num, end=' ')\n"
      ],
      "metadata": {
        "colab": {
          "base_uri": "https://localhost:8080/"
        },
        "id": "2lum32qRD0Vg",
        "outputId": "115797f6-f771-4517-bd3e-5afe7ddbb138"
      },
      "execution_count": null,
      "outputs": [
        {
          "output_type": "stream",
          "name": "stdout",
          "text": [
            "Digite o 1º numero: 4\n",
            "Digite o 2º numero: 5\n",
            "Digite o 3º numero: 6\n",
            "Digite o 4º numero: 2\n",
            "\n",
            "Não digitou 9\n",
            "\n",
            "Não digitou 3\n",
            "Pares:  4 6 2 "
          ]
        }
      ]
    },
    {
      "cell_type": "code",
      "source": [
        "# DESAFIO 04\n",
        "\n",
        "produtos = ('Camiseta', 50, 'Calça', 79, 'Bermuda', 40, 'Blusa', 100)\n",
        "\n",
        "for i, item in enumerate(produtos):\n",
        "   if i%2 == 0:\n",
        "      print(f\"{item}\".ljust(15, '.'), end='')\n",
        "   else:\n",
        "      print(f\"R$ {item:,.2f}\".replace('.',',').rjust(12, '.'))"
      ],
      "metadata": {
        "colab": {
          "base_uri": "https://localhost:8080/"
        },
        "id": "NIDMmvHVJHJe",
        "outputId": "a2f8e5a3-b7d0-49fe-e44d-632ab02163bc"
      },
      "execution_count": null,
      "outputs": [
        {
          "output_type": "stream",
          "name": "stdout",
          "text": [
            "Camiseta...........R$ 50,00\n",
            "Calça..............R$ 79,00\n",
            "Bermuda............R$ 40,00\n",
            "Blusa.............R$ 100,00\n"
          ]
        }
      ]
    }
  ]
}