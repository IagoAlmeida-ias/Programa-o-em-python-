{
  "nbformat": 4,
  "nbformat_minor": 0,
  "metadata": {
    "colab": {
      "provenance": [],
      "authorship_tag": "ABX9TyMf3iNrX0873PAMVvODyGdC",
      "include_colab_link": true
    },
    "kernelspec": {
      "name": "python3",
      "display_name": "Python 3"
    },
    "language_info": {
      "name": "python"
    }
  },
  "cells": [
    {
      "cell_type": "markdown",
      "metadata": {
        "id": "view-in-github",
        "colab_type": "text"
      },
      "source": [
        "<a href=\"https://colab.research.google.com/github/IagoAlmeida-ias/Programa-o-em-python-/blob/main/02_TIPOS_DE_DADOS.ipynb\" target=\"_parent\"><img src=\"https://colab.research.google.com/assets/colab-badge.svg\" alt=\"Open In Colab\"/></a>"
      ]
    },
    {
      "cell_type": "markdown",
      "source": [
        "# TIPOS DE DADOS"
      ],
      "metadata": {
        "id": "4FQu0irmXzRU"
      }
    },
    {
      "cell_type": "markdown",
      "source": [
        "1. É o seu primeiro acesso?\n",
        "Clique no link https://ead.sp.senai.br e preencha o campo \"Usuário\" com o seu CPF. Em até 30 minutos, você receberá um e-mail com as orientações de acesso e cadastro de senha. Lembre-se de verificar também a sua caixa de SPAM.\n",
        "\n",
        "2. Já acessou ao Portal de Educação Online do SENAI-SP?\n",
        "Clique no link https://ead.sp.senai.br e bons estudos!"
      ],
      "metadata": {
        "id": "r4IUFVgJQXeH"
      }
    },
    {
      "cell_type": "code",
      "execution_count": null,
      "metadata": {
        "colab": {
          "base_uri": "https://localhost:8080/"
        },
        "id": "c1XyVzkoXdJn",
        "outputId": "8fdd3369-74c7-4021-9b1e-5907fb20adb4"
      },
      "outputs": [
        {
          "output_type": "stream",
          "name": "stdout",
          "text": [
            "10\n",
            "-1\n",
            "-5.29\n",
            "3.1415\n"
          ]
        }
      ],
      "source": [
        "# TIPOS NUMÉRICOS (int | float)\n",
        "\n",
        "\n",
        "x = 10        # Inteiro\n",
        "y = -1        # Inteiro negativo\n",
        "z = -5.29     # Decimal negativo (separador é ponto e não vírgula)\n",
        "PI = 3.1415   # Decimal\n",
        "\n",
        "\n",
        "print(x)\n",
        "print(y)\n",
        "print(z)\n",
        "print(PI)"
      ]
    },
    {
      "cell_type": "code",
      "source": [
        "\n",
        "# TIPO CARACTER | STRINGS (str)\n",
        "\n",
        "\n",
        "nome = 'Leandro'\n",
        "escola = \"SENAI Ary Torres\"\n",
        "\n",
        "\n",
        "print(nome)\n",
        "print(escola)\n",
        "\n",
        "\n",
        "print()\n",
        "print(escola)\n",
        "print('\\n', escola)\n",
        "print('\\n', escola[10])"
      ],
      "metadata": {
        "colab": {
          "base_uri": "https://localhost:8080/"
        },
        "id": "uuHbMwRKalob",
        "outputId": "4e6abaf1-b410-4180-c90f-9d82c60656a4"
      },
      "execution_count": null,
      "outputs": [
        {
          "output_type": "stream",
          "name": "stdout",
          "text": [
            "Leandro\n",
            "SENAI Ary Torres\n",
            "\n",
            "SENAI Ary Torres\n",
            "\n",
            " SENAI Ary Torres\n",
            "\n",
            " T\n"
          ]
        }
      ]
    },
    {
      "cell_type": "code",
      "source": [
        "# TIPOS LÓGICOS (bool)\n",
        "\n",
        "\n",
        "continuar = True\n",
        "parar = False\n",
        "casado = True\n",
        "\n",
        "\n",
        "print(continuar)\n",
        "print(parar)\n",
        "print(casado)"
      ],
      "metadata": {
        "colab": {
          "base_uri": "https://localhost:8080/"
        },
        "id": "D0XiSommauXj",
        "outputId": "1dc1975a-bf55-4499-96cc-d13563ea314e"
      },
      "execution_count": null,
      "outputs": [
        {
          "output_type": "stream",
          "name": "stdout",
          "text": [
            "True\n",
            "False\n",
            "True\n"
          ]
        }
      ]
    },
    {
      "cell_type": "code",
      "source": [
        "# IDENTIFICAR TIPOS DE VARIÁVEIS/CONSTANTES\n",
        "\n",
        "\n",
        "print(type(x))\n",
        "print(type(PI))\n",
        "print(type(nome))\n",
        "print(type(casado))"
      ],
      "metadata": {
        "colab": {
          "base_uri": "https://localhost:8080/"
        },
        "id": "30Mb1sKXay8S",
        "outputId": "1fa12d28-38cd-4b18-e14d-67535ddc99d4"
      },
      "execution_count": null,
      "outputs": [
        {
          "output_type": "stream",
          "name": "stdout",
          "text": [
            "<class 'int'>\n",
            "<class 'float'>\n",
            "<class 'str'>\n",
            "<class 'bool'>\n"
          ]
        }
      ]
    },
    {
      "cell_type": "code",
      "source": [
        "# DECLARAÇÃO DE VARIÁVEIS\n",
        "\n",
        "\n",
        "texto1 = '2'\n",
        "texto2 = str(2)\n",
        "numero1 = 3\n",
        "numero2 = int(3)\n",
        "decimal1 = float(3)\n",
        "decimal2 = 3.0\n",
        "logico = bool(False)\n",
        "\n",
        "\n",
        "print(texto1)\n",
        "print(texto2)\n",
        "print(numero1)\n",
        "print(numero2)\n",
        "print(decimal1)\n",
        "print(decimal2)\n",
        "print(logico)\n",
        "\n",
        "print()\n",
        "nn = texto1+texto2\n",
        "print(nn)"
      ],
      "metadata": {
        "colab": {
          "base_uri": "https://localhost:8080/"
        },
        "id": "BPdppGxgci_S",
        "outputId": "11893c60-4491-4322-95a2-752b98033a82"
      },
      "execution_count": null,
      "outputs": [
        {
          "output_type": "stream",
          "name": "stdout",
          "text": [
            "2\n",
            "2\n",
            "3\n",
            "3\n",
            "3.0\n",
            "3.0\n",
            "False\n",
            "\n",
            "22\n"
          ]
        }
      ]
    },
    {
      "cell_type": "code",
      "source": [
        "# ANÁLISE DE STRINGS (str)\n",
        "\n",
        "\n",
        "n = '5'\n",
        "\n",
        "\n",
        "print(n.isnumeric())   # Númérico\n",
        "print(n.isalpha())     # Alfabético\n",
        "print(n.isalnum())     # Alfanumérico\n",
        "print(n.isupper())     # Maiúscula\n",
        "print(n.islower())     # Minúscula\n",
        "print(n.istitle())     # Primeira maiúscula\n",
        "print(n.isdecimal())   # Numérico\n",
        "print(n.isspace())     # Espaço"
      ],
      "metadata": {
        "colab": {
          "base_uri": "https://localhost:8080/"
        },
        "id": "VNmljm_idsra",
        "outputId": "e9294526-1d30-45f0-a37a-1d010d63f600"
      },
      "execution_count": null,
      "outputs": [
        {
          "output_type": "stream",
          "name": "stdout",
          "text": [
            "True\n",
            "False\n",
            "True\n",
            "False\n",
            "False\n",
            "False\n",
            "True\n",
            "False\n"
          ]
        }
      ]
    },
    {
      "cell_type": "code",
      "source": [
        "# EXEMPLO\n",
        "\n",
        "\n",
        "num = input(\"Digite um número: \")\n",
        "if num.isnumeric():\n",
        "    num = int(num)\n",
        "else:\n",
        "    print(\"Não é número!\")\n",
        "\n",
        "\n",
        "print(type(num))"
      ],
      "metadata": {
        "colab": {
          "base_uri": "https://localhost:8080/"
        },
        "id": "YRaPJ7ZZeg27",
        "outputId": "b74f6a4c-2fad-40e4-aca2-b1febf0c2656"
      },
      "execution_count": null,
      "outputs": [
        {
          "output_type": "stream",
          "name": "stdout",
          "text": [
            "Digite um número: 5.5\n",
            "Não é número!\n",
            "<class 'str'>\n"
          ]
        }
      ]
    },
    {
      "cell_type": "code",
      "source": [
        "# ENTRADA DE DADOS (input)\n",
        "\n",
        "\n",
        "numeroInteiro = int(input(\"Digite um número inteiro: \"))\n",
        "print(numeroInteiro)\n",
        "\n",
        "\n",
        "numeroDecimal = float(input(\"\\nDigite um número decimal: \")) # Sepador de decimal: . (não vírgula)\n",
        "print(numeroDecimal)\n",
        "\n",
        "\n",
        "valorLogico = bool(input(\"Digite algo: \"))\n",
        "print(valorLogico)\n",
        "\n",
        "\n",
        "# Não há necessidade declarar str() para o input()\n",
        "texto = str(input(\"\\nDigite um valor alfanumérico:\\n\"))\n",
        "print(texto)"
      ],
      "metadata": {
        "colab": {
          "base_uri": "https://localhost:8080/"
        },
        "id": "SNOtQMDlg_RR",
        "outputId": "99b633a8-1629-4a56-e317-aff49eaf95a1"
      },
      "execution_count": null,
      "outputs": [
        {
          "output_type": "stream",
          "name": "stdout",
          "text": [
            "Digite um número inteiro: 5\n",
            "5\n",
            "\n",
            "Digite um número decimal: 5\n",
            "5.0\n",
            "Digite algo: 5\n",
            "True\n",
            "\n",
            "Digite um valor alfanumérico:\n",
            "5\n",
            "5\n"
          ]
        }
      ]
    },
    {
      "cell_type": "code",
      "source": [
        "# CONSTANTES\n",
        "\n",
        "\n",
        "PI = 3.1415\n",
        "GRAVIDADE = 9.81\n",
        "\n",
        "\n",
        "print(\"\\nValor de PI:\", PI, '\\n\\n\\n')\n",
        "print(\"\\nValor da gravidade:\", GRAVIDADE)"
      ],
      "metadata": {
        "colab": {
          "base_uri": "https://localhost:8080/"
        },
        "id": "vIXFr4ZTnznJ",
        "outputId": "5793e728-9dd9-42d5-e1ff-cc86a9b6cd34"
      },
      "execution_count": null,
      "outputs": [
        {
          "output_type": "stream",
          "name": "stdout",
          "text": [
            "\n",
            "Valor de PI: 3.1415 \n",
            "\n",
            "\n",
            "\n",
            "\n",
            "Valor da gravidade: 9.81\n"
          ]
        }
      ]
    },
    {
      "cell_type": "code",
      "source": [
        "# CORES\n",
        "\"\"\"\n",
        "\\033[ESTILO;FONTE;FUNDOm TEXTO \\033[0m\n",
        "\\033[m    \\033[0m\n",
        "\n",
        "\n",
        "Estilos: 0 nenhum | 1 negrito | 3 itálico | 4 sublinhado\n",
        "\"\"\"\n",
        "\n",
        "\n",
        "print(\"\\033[1;33;45m   TEXTO   \\033[0m\")\n",
        "\n",
        "\n",
        "print(\"\\033[30m CINZA\")\n",
        "print(\"\\033[31m VERMELHO\")\n",
        "print(\"\\033[32m VERDE\")\n",
        "print(\"\\033[33m AMARELO\")\n",
        "print(\"\\033[34m CIAN\")\n",
        "print(\"\\033[35m MAGENTA\")\n",
        "print(\"\\033[36m AZUL\")\n",
        "print(\"\\033[37m BRANCO\")\n",
        "\n",
        "\n",
        "print(\"\\033[40m CINZA\")\n",
        "print(\"\\033[41m VERMELHO\")\n",
        "print(\"\\033[42m VERDE\")\n",
        "print(\"\\033[43m AMARELO\")\n",
        "print(\"\\033[44m CIAN\")\n",
        "print(\"\\033[45m MAGENTA\")\n",
        "print(\"\\033[46m AZUL\")\n",
        "print(\"\\033[47m BRANCO\")\n",
        "\n",
        "\n",
        "print(\"\\033[1;2;3;4;33;45m   TEXTO   \\033[0m\")"
      ],
      "metadata": {
        "colab": {
          "base_uri": "https://localhost:8080/"
        },
        "id": "eFLEh76QoI8Q",
        "outputId": "e5f3ef08-cbad-4e1e-bcf1-5e8401697463"
      },
      "execution_count": null,
      "outputs": [
        {
          "output_type": "stream",
          "name": "stdout",
          "text": [
            "\u001b[1;33;45m   TEXTO   \u001b[0m\n",
            "\u001b[30m CINZA\n",
            "\u001b[31m VERMELHO\n",
            "\u001b[32m VERDE\n",
            "\u001b[33m AMARELO\n",
            "\u001b[34m CIAN\n",
            "\u001b[35m MAGENTA\n",
            "\u001b[36m AZUL\n",
            "\u001b[37m BRANCO\n",
            "\u001b[40m CINZA\n",
            "\u001b[41m VERMELHO\n",
            "\u001b[42m VERDE\n",
            "\u001b[43m AMARELO\n",
            "\u001b[44m CIAN\n",
            "\u001b[45m MAGENTA\n",
            "\u001b[46m AZUL\n",
            "\u001b[47m BRANCO\n",
            "\u001b[1;2;3;4;33;45m   TEXTO   \u001b[0m\n"
          ]
        }
      ]
    },
    {
      "cell_type": "code",
      "source": [
        "# EXEMPLO DE APLICAÇÃO\n",
        "\n",
        "\n",
        "print(\"\\033[1;4;45;33m SENAI \\033[0m\")\n",
        "print('Ary')\n",
        "print('Torres')\n"
      ],
      "metadata": {
        "colab": {
          "base_uri": "https://localhost:8080/"
        },
        "id": "nhtreiEQo4oJ",
        "outputId": "4a4da5a7-b3ee-4b8b-98e1-6ee2c4402b68"
      },
      "execution_count": null,
      "outputs": [
        {
          "output_type": "stream",
          "name": "stdout",
          "text": [
            "\u001b[1;4;45;33m SENAI \u001b[0m\n",
            "Ary\n",
            "Torres\n"
          ]
        }
      ]
    },
    {
      "cell_type": "code",
      "source": [
        "# TRABALHAR COM EMOJIS (Win+.)\n",
        "\n",
        "\n",
        "print('👨')\n",
        "print('👽')\n",
        "print('😒')"
      ],
      "metadata": {
        "colab": {
          "base_uri": "https://localhost:8080/"
        },
        "id": "lMa_C2HdrGcg",
        "outputId": "7e376ca9-6f34-4a83-b001-af506b3c4983"
      },
      "execution_count": null,
      "outputs": [
        {
          "output_type": "stream",
          "name": "stdout",
          "text": [
            "👨\n",
            "👽\n",
            "😒\n"
          ]
        }
      ]
    },
    {
      "cell_type": "code",
      "source": [
        "# COLUNAS COM PREENCHIMENTO E ALINHAMENTO\n",
        "\n",
        "\n",
        "print(\" CENTRALIZADO \".center(30, '-'))\n",
        "print(\" DIREITA\".rjust(30, '-'))\n",
        "print(\"ESQUERDA \".ljust(30, '-'))"
      ],
      "metadata": {
        "colab": {
          "base_uri": "https://localhost:8080/"
        },
        "id": "aIp8MkSHru6o",
        "outputId": "017e88f9-c52f-4d51-e149-3a2c9e03e98a"
      },
      "execution_count": null,
      "outputs": [
        {
          "output_type": "stream",
          "name": "stdout",
          "text": [
            "-------- CENTRALIZADO --------\n",
            "---------------------- DIREITA\n",
            "ESQUERDA ---------------------\n"
          ]
        }
      ]
    },
    {
      "cell_type": "code",
      "source": [
        "# ALINHAMENTO PARA F STRINGS\n",
        "\n",
        "\n",
        "print(f\"| {'Unidade':>20} | {'5':^20} |\")\n",
        "print(f\"| {'Unidade':^20} | {'5':^20} |\")\n",
        "print(f\"| {'Unidade':<20} | {'5':^20} |\")"
      ],
      "metadata": {
        "colab": {
          "base_uri": "https://localhost:8080/"
        },
        "id": "YwkwA0Hjs394",
        "outputId": "56842f50-ec2e-400b-d985-4ff489e14755"
      },
      "execution_count": null,
      "outputs": [
        {
          "output_type": "stream",
          "name": "stdout",
          "text": [
            "|              Unidade |          5           |\n",
            "|       Unidade        |          5           |\n",
            "| Unidade              |          5           |\n"
          ]
        }
      ]
    },
    {
      "cell_type": "code",
      "source": [
        "# MULTIPLICAÇÃO DE STRINGS\n",
        "\n",
        "\n",
        "sus = '#'\n",
        "estrela = '*'\n",
        "\n",
        "\n",
        "print(sus*2, estrela*10, sus*2)\n",
        "print('='*16)"
      ],
      "metadata": {
        "colab": {
          "base_uri": "https://localhost:8080/"
        },
        "id": "J8MJJ6CatVFo",
        "outputId": "a76a8898-179f-4b41-c8dc-d389b0d63285"
      },
      "execution_count": null,
      "outputs": [
        {
          "output_type": "stream",
          "name": "stdout",
          "text": [
            "## ********** ##\n",
            "================\n"
          ]
        }
      ]
    },
    {
      "cell_type": "code",
      "source": [
        "# CONCATENAÇÃO (soma, junta textos)\n",
        "texto1 = 'SENAI'\n",
        "texto2 = 'ARY'\n",
        "texto3 = 'TORRES'\n",
        "escola = texto1+' '+texto2+' '+texto3\n",
        "\n",
        "\n",
        "print('\\n\\n', escola)"
      ],
      "metadata": {
        "colab": {
          "base_uri": "https://localhost:8080/"
        },
        "id": "3HYSaE4KucLY",
        "outputId": "104d2581-08c4-4c39-ac2a-9e039fd8184c"
      },
      "execution_count": null,
      "outputs": [
        {
          "output_type": "stream",
          "name": "stdout",
          "text": [
            "\n",
            "\n",
            " SENAI ARY TORRES\n"
          ]
        }
      ]
    },
    {
      "cell_type": "markdown",
      "source": [
        "# Desafios"
      ],
      "metadata": {
        "id": "4Aw8IXjPvJRY"
      }
    },
    {
      "cell_type": "code",
      "source": [
        "\n",
        "# DESAFIO 01\n",
        "\"\"\"\n",
        "Crie um programa para efetuar a leitura de um número inteiro e\n",
        "apresentar o resultado do quadrado desse número\n",
        "\"\"\"\n",
        "\n",
        "numeroInteiro = int(input(\"Digite um número inteiro: \"))\n",
        "print(numeroInteiro**2)"
      ],
      "metadata": {
        "colab": {
          "base_uri": "https://localhost:8080/"
        },
        "id": "e-H3Z_z6vRTu",
        "outputId": "6b65cd58-1715-4a39-aab6-7ba90935dda4"
      },
      "execution_count": null,
      "outputs": [
        {
          "output_type": "stream",
          "name": "stdout",
          "text": [
            "Digite um número inteiro: 5\n",
            "25\n"
          ]
        }
      ]
    },
    {
      "cell_type": "code",
      "source": [
        "\n",
        "# DESAFIO 01 (professor)\n",
        "\n",
        "numero = int(input(\"Digite um número: \"))\n",
        "quadrado = numero**2\n",
        "print(quadrado)"
      ],
      "metadata": {
        "colab": {
          "base_uri": "https://localhost:8080/"
        },
        "id": "LGM6bucowC3w",
        "outputId": "b74490ab-51fa-4c7e-868b-32af26123aaa"
      },
      "execution_count": null,
      "outputs": [
        {
          "output_type": "stream",
          "name": "stdout",
          "text": [
            "Digite um número: 1\n",
            "1\n"
          ]
        }
      ]
    },
    {
      "cell_type": "code",
      "source": [
        "# DESAFIO 01 v2 (professor)\n",
        "\n",
        "numero = int(input(\"Digite um número: \"))\n",
        "print(numero**2)"
      ],
      "metadata": {
        "colab": {
          "base_uri": "https://localhost:8080/"
        },
        "id": "Oh-wpa5z10Nx",
        "outputId": "33aa93c8-14d5-4186-ed44-575ba3a78f6f"
      },
      "execution_count": null,
      "outputs": [
        {
          "output_type": "stream",
          "name": "stdout",
          "text": [
            "Digite um número: 5\n",
            "25\n"
          ]
        }
      ]
    },
    {
      "cell_type": "code",
      "source": [
        "# DESAFIO 01 v3 (professor)\n",
        "\n",
        "print(int(input(\"Digite um número: \"))**2)"
      ],
      "metadata": {
        "colab": {
          "base_uri": "https://localhost:8080/"
        },
        "id": "p-8Ov1aD25PY",
        "outputId": "7eb77180-1ec6-423d-b101-82e7e2797005"
      },
      "execution_count": null,
      "outputs": [
        {
          "output_type": "stream",
          "name": "stdout",
          "text": [
            "Digite um número: 5\n",
            "25\n"
          ]
        }
      ]
    },
    {
      "cell_type": "code",
      "source": [
        "# DESAFIO 01 v4\n",
        "\n",
        "\n",
        "numero = int(input(\"Digite um número: \"))**2\n",
        "print(numero)"
      ],
      "metadata": {
        "colab": {
          "base_uri": "https://localhost:8080/"
        },
        "id": "CfKE90al4Kqn",
        "outputId": "e6b4d819-93d3-4f95-fdda-7048b44f4606"
      },
      "execution_count": null,
      "outputs": [
        {
          "output_type": "stream",
          "name": "stdout",
          "text": [
            "Digite um número: 5\n",
            "25\n"
          ]
        }
      ]
    },
    {
      "cell_type": "code",
      "source": [
        "# DESAFIO 01 v5\n",
        "\n",
        "\n",
        "numero = int(input(\"Digite um número: \"))\n",
        "quadrado = numero**2\n",
        "print(\"\\nO quadrado é\", quadrado, \"!\")"
      ],
      "metadata": {
        "colab": {
          "base_uri": "https://localhost:8080/"
        },
        "id": "-uEd8sOZ4OZI",
        "outputId": "00930b88-7a1e-469a-95d9-2d0e8a8ff697"
      },
      "execution_count": null,
      "outputs": [
        {
          "output_type": "stream",
          "name": "stdout",
          "text": [
            "Digite um número: 5\n",
            "\n",
            "O quadrado é 25\n"
          ]
        }
      ]
    },
    {
      "cell_type": "code",
      "source": [
        "# DESAFIO 01 v6\n",
        "\n",
        "\n",
        "numero = int(input(\"Digite um número: \"))\n",
        "quadrado = numero**2\n",
        "print(\"\\nO quadrado de {} é {}\".format(numero, quadrado))"
      ],
      "metadata": {
        "colab": {
          "base_uri": "https://localhost:8080/"
        },
        "id": "YOf-sYw-5-XR",
        "outputId": "0892f2a1-b278-4222-cb28-ca8c14546e89"
      },
      "execution_count": null,
      "outputs": [
        {
          "output_type": "stream",
          "name": "stdout",
          "text": [
            "Digite um número: 5\n",
            "\n",
            "O quadrado de 5 é 25\n"
          ]
        }
      ]
    },
    {
      "cell_type": "code",
      "source": [
        "# DESAFIO 01 v7\n",
        "\n",
        "\n",
        "numero = int(input(\"Digite um número: \"))\n",
        "quadrado = numero**2\n",
        "nome = 'Iago'\n",
        "print(\"\\nO %s diz que o quadrado de %d é %f\"%(nome,numero, quadrado))"
      ],
      "metadata": {
        "colab": {
          "base_uri": "https://localhost:8080/"
        },
        "id": "gs0mdhSf6pdu",
        "outputId": "4ebf937b-4095-4233-c011-f01de15a9328"
      },
      "execution_count": null,
      "outputs": [
        {
          "output_type": "stream",
          "name": "stdout",
          "text": [
            "Digite um número: 5\n",
            "\n",
            "O Iago diz que o quadrado de 5 é 25.0000002\n"
          ]
        }
      ]
    },
    {
      "cell_type": "code",
      "source": [
        "# DESAFIO 01 v8\n",
        "\n",
        "\n",
        "numero = int(input(\"Digite um número: \"))\n",
        "quadrado = numero**2\n",
        "nome = 'Iago'\n",
        "print(f\"\\n{nome} diz que o quadrado de {numero} é {quadrado}!\")"
      ],
      "metadata": {
        "colab": {
          "base_uri": "https://localhost:8080/"
        },
        "id": "Wwm_IprW76Ee",
        "outputId": "7ef58259-cf8e-4fd9-c65a-de550ed4d294"
      },
      "execution_count": null,
      "outputs": [
        {
          "output_type": "stream",
          "name": "stdout",
          "text": [
            "Digite um número: 5\n",
            "\n",
            "Iago diz que o quadrado de 5 é 25!\n"
          ]
        }
      ]
    },
    {
      "cell_type": "code",
      "source": [
        "# DESAFIO 01 v9\n",
        "\n",
        "\n",
        "numero = int(input(\"Digite um número: \"))\n",
        "nome = 'Iago'\n",
        "print(f\"\\n{nome} diz que o quadrado de {numero}\"\n",
        "      f\" é \\033[1;4;32m{numero**2}\\033[0m!\")"
      ],
      "metadata": {
        "colab": {
          "base_uri": "https://localhost:8080/"
        },
        "id": "RRAIXxlP9HQO",
        "outputId": "0fdd6f56-cffc-4311-c5bf-755e9f8479a3"
      },
      "execution_count": null,
      "outputs": [
        {
          "output_type": "stream",
          "name": "stdout",
          "text": [
            "Digite um número: 4\n",
            "\n",
            "Iago diz que o quadrado de 4 é \u001b[1;4;32m16\u001b[0m!\n"
          ]
        }
      ]
    },
    {
      "cell_type": "code",
      "source": [
        "# DESAFIO 02\n",
        "\n",
        "caractere1 = input(\"Digite um caractere1: \")\n",
        "caractere2 = input(\"Digite um caractere2: \")\n",
        "caracteres = \"O usuário digitou\"'\\n' + caractere1+' e '+caractere2\n",
        "print(caracteres)"
      ],
      "metadata": {
        "colab": {
          "base_uri": "https://localhost:8080/"
        },
        "id": "zq0SQwiX3cRB",
        "outputId": "fe9863c7-a71b-4482-d847-2a4d7ce9f605"
      },
      "execution_count": null,
      "outputs": [
        {
          "output_type": "stream",
          "name": "stdout",
          "text": [
            "Digite um caractere1: L\n",
            "Digite um caractere2: L\n",
            "O usuário digitou\n",
            "L e L\n"
          ]
        }
      ]
    },
    {
      "cell_type": "code",
      "source": [
        "# DESAFIO 02 v2\n",
        "\n",
        "caractere1 = input(\"Digite um caractere1: \")\n",
        "caractere2 = input(\"Digite um caractere2: \")\n",
        "caracteres =  caractere1+' e '+caractere2\n",
        "print(\"\\nO usuário digitou\", caracteres)"
      ],
      "metadata": {
        "colab": {
          "base_uri": "https://localhost:8080/"
        },
        "id": "QcbRdeEc49F8",
        "outputId": "962d6689-321c-45ef-a9d7-38d212b3d2ce"
      },
      "execution_count": null,
      "outputs": [
        {
          "output_type": "stream",
          "name": "stdout",
          "text": [
            "Digite um caractere1: L\n",
            "Digite um caractere2: L\n",
            "\n",
            "O usuário digitou L e L\n"
          ]
        }
      ]
    },
    {
      "cell_type": "code",
      "source": [
        "# DESAFIO 02 v3\n",
        "\n",
        "caractere1 = input(\"Digite um caractere1: \")\n",
        "caractere2 = input(\"Digite um caractere2: \")\n",
        "\n",
        "print(f\"\\nO usuário digitou({caractere1}) e ({caractere2}))\")"
      ],
      "metadata": {
        "id": "EvMUCz_oEoe2"
      },
      "execution_count": null,
      "outputs": []
    },
    {
      "cell_type": "code",
      "source": [
        "# DESAFIO 03\n",
        "\n",
        "numero = int(input(\"Digite um número: \"))\n",
        "sucessor = numero+1\n",
        "antecessor = numero-1\n",
        "print(sucessor)\n",
        "print(antecessor)"
      ],
      "metadata": {
        "colab": {
          "base_uri": "https://localhost:8080/"
        },
        "id": "gbinJOBH7Ms7",
        "outputId": "ea9eaf78-544d-45bd-f69d-97f2d30e7a13"
      },
      "execution_count": null,
      "outputs": [
        {
          "output_type": "stream",
          "name": "stdout",
          "text": [
            "Digite um número: 5\n",
            "6\n",
            "4\n"
          ]
        }
      ]
    },
    {
      "cell_type": "code",
      "source": [
        "# DESAFIO 03 v1\n",
        "\n",
        "numero = int(input(\"Digite um número: \"))\n",
        "print(\"\\nsucessor\",numero+1)\n",
        "print(\"\\nantecessor\",numero-1)"
      ],
      "metadata": {
        "colab": {
          "base_uri": "https://localhost:8080/"
        },
        "id": "TPNrRIMt5Db4",
        "outputId": "e3ef8135-9b68-470f-8457-d669ebbcc726"
      },
      "execution_count": null,
      "outputs": [
        {
          "output_type": "stream",
          "name": "stdout",
          "text": [
            "Digite um número: 5\n",
            "\n",
            "sucessor 6\n",
            "\n",
            "antecessor 4\n"
          ]
        }
      ]
    },
    {
      "cell_type": "code",
      "source": [
        "# DESAFIO 04\n",
        "\n",
        "altura = float(input(\"Digite um número: \"))\n",
        "base = float(input(\"Digite um número: \"))\n",
        "perimetro = 2*(base+altura)\n",
        "area = base*altura\n",
        "print(perimetro)\n",
        "print(area)"
      ],
      "metadata": {
        "colab": {
          "base_uri": "https://localhost:8080/"
        },
        "id": "b2kitpL377WJ",
        "outputId": "75bd63f7-2648-40e0-ed89-653aba6a78cc"
      },
      "execution_count": null,
      "outputs": [
        {
          "output_type": "stream",
          "name": "stdout",
          "text": [
            "Digite um número: 4\n",
            "Digite um número: 6\n",
            "20.0\n",
            "24.0\n"
          ]
        }
      ]
    },
    {
      "cell_type": "code",
      "source": [
        "# DESAFIO 04 v2\n",
        "\n",
        "altura = float(input(\"Digite a altura: \"))\n",
        "base = float(input(\"Digite a base: \"))\n",
        "print(\"perimetro\",2*(base+altura))\n",
        "print(\"area\",base*altura)"
      ],
      "metadata": {
        "colab": {
          "base_uri": "https://localhost:8080/"
        },
        "id": "tpwLkI7Y5gqf",
        "outputId": "d09fe5a0-909b-4a0d-ec6f-364c712e1852"
      },
      "execution_count": null,
      "outputs": [
        {
          "output_type": "stream",
          "name": "stdout",
          "text": [
            "Digite um número: 5\n",
            "Digite um número: 6\n",
            "perimetro 22.0\n",
            "area 30.0\n"
          ]
        }
      ]
    },
    {
      "cell_type": "code",
      "source": [
        "# DESAFIO 05\n",
        "\n",
        "valor = float(input(\"Digite um valor: \"))\n",
        "taxa = float(input(\"Digite a taxa: \"))\n",
        "tempo = float(input(\"Digite o tempo: \"))\n",
        "print(valor + (valor  * (taxa / 100) * tempo))"
      ],
      "metadata": {
        "colab": {
          "base_uri": "https://localhost:8080/"
        },
        "id": "WiJsjq1iALY2",
        "outputId": "d79bbd53-41e7-431c-a8da-86f008769be4"
      },
      "execution_count": null,
      "outputs": [
        {
          "output_type": "stream",
          "name": "stdout",
          "text": [
            "Digite um número: 5.50\n",
            "Digite um número: 3.2\n",
            "Digite um número: 10.50\n",
            "7.348\n"
          ]
        }
      ]
    },
    {
      "cell_type": "code",
      "source": [
        "# DESAFIO 05\n",
        "\n",
        "valor = float(input(\"Digite um valor: \"))\n",
        "taxa = float(input(\"Digite a taxa: \"))\n",
        "tempo = float(input(\"Digite o tempo: \"))\n",
        "\n",
        "pretacao = valor+(valor*(taxa/100)*tempo)\n",
        "\n",
        "print(f\" valor atualizado: R$ {pretacao:,.2f}\")"
      ],
      "metadata": {
        "colab": {
          "base_uri": "https://localhost:8080/"
        },
        "id": "7bB27LX0Y2Ad",
        "outputId": "6f127b61-0347-4886-bb56-951638bd4ad5"
      },
      "execution_count": null,
      "outputs": [
        {
          "output_type": "stream",
          "name": "stdout",
          "text": [
            "Digite um valor: 5\n",
            "Digite a taxa: 5\n",
            "Digite o tempo: 5\n",
            " valor atualizado: R$ 6.25\n"
          ]
        }
      ]
    },
    {
      "cell_type": "code",
      "source": [
        "# Desafio 06\n",
        "\n",
        "nota1 = float(input(\"Digite a 1ª nota: \"))\n",
        "nota2 = float(input(\"Digite a 2ª nota: \"))\n",
        "nota3 = float(input(\"Digite a 3ª nota: \"))\n",
        "media = (nota1+nota2+nota3)/3\n",
        "\n",
        "\n",
        "if media >= 5:\n",
        "    print(\"Aprovado\")\n",
        "else:\n",
        "    print(\"Reprovado\")"
      ],
      "metadata": {
        "colab": {
          "base_uri": "https://localhost:8080/"
        },
        "id": "UDQ3WwH6BGUn",
        "outputId": "05b6f9a7-6ad5-49b5-a1ba-c659f62baa58"
      },
      "execution_count": null,
      "outputs": [
        {
          "output_type": "stream",
          "name": "stdout",
          "text": [
            "Digite a 1ª nota: 9\n",
            "Digite a 2ª nota: 3\n",
            "Digite a 3ª nota: 4\n",
            "Aprovado\n"
          ]
        }
      ]
    },
    {
      "cell_type": "code",
      "source": [
        "# Desafio 06\n",
        "\n",
        "aluno = str(input(\"Digite o nome do aluno: \"))\n",
        "nota1 = float(input(\"Digite a 1ª nota: \"))\n",
        "nota2 = float(input(\"Digite a 2ª nota: \"))\n",
        "nota3 = float(input(\"Digite a 3ª nota: \"))\n",
        "media = (nota1+nota2+nota3)/3\n",
        "\n",
        "if media >= 5:\n",
        "    print(f\"\\nO {aluno} esta Aprovado, por que sua media ficou {media}\")\n",
        "else:\n",
        "    print(f\"\\nO {aluno} esta Reprovado, por que sua media ficou {media}\")"
      ],
      "metadata": {
        "colab": {
          "base_uri": "https://localhost:8080/"
        },
        "id": "TnYU-VnrCNew",
        "outputId": "22986b54-11a3-4c4a-be56-0f6059a0a9a8"
      },
      "execution_count": null,
      "outputs": [
        {
          "output_type": "stream",
          "name": "stdout",
          "text": [
            "Digite o nome do aluno: Ingrid\n",
            "Digite a 1ª nota: 8\n",
            "Digite a 2ª nota: 7.5\n",
            "Digite a 3ª nota: 1\n",
            "\n",
            "O Ingrid esta Aprovado, por que sua media ficou 5.5\n"
          ]
        }
      ]
    },
    {
      "cell_type": "code",
      "source": [
        "# DESAFIO 07\n",
        "\n",
        "a = 3\n",
        "b = 4\n",
        "c = a**2 + b**2\n",
        "print(c**(1/2))"
      ],
      "metadata": {
        "colab": {
          "base_uri": "https://localhost:8080/"
        },
        "id": "h0D0B8NMV4Y8",
        "outputId": "fc8ef7da-0316-4aa6-82bb-84c262b88903"
      },
      "execution_count": null,
      "outputs": [
        {
          "output_type": "stream",
          "name": "stdout",
          "text": [
            "5.0\n"
          ]
        }
      ]
    },
    {
      "cell_type": "code",
      "source": [
        "# DESAFIO 08\n",
        "\n",
        "salario = float(input(\"salario: \"))\n",
        "aumento = float(input(\"percentual em %: \"))\n",
        "\n",
        "print(f\"Salario final: {salario*(aumento/100)+salario:,.2f}\")"
      ],
      "metadata": {
        "colab": {
          "base_uri": "https://localhost:8080/"
        },
        "id": "n_cxvNZl6Eka",
        "outputId": "92ff4ff5-12ed-48c1-b4f4-e55aabbdd1eb"
      },
      "execution_count": null,
      "outputs": [
        {
          "output_type": "stream",
          "name": "stdout",
          "text": [
            "salario: 2000\n",
            "percentual em %: 10\n",
            "Salario final: 2,200.00\n"
          ]
        }
      ]
    },
    {
      "cell_type": "code",
      "source": [
        " #volume = PI * r² * altura\n",
        "\n",
        "raio = float(input(\"Digite a raio: \"))\n",
        "altura = float(input(\"Digite a altura: \"))\n",
        "PI= 3.1415\n",
        "c = (PI*(raio**2)*altura)\n",
        "print(f\" o volume de um objeto cilíndrico é: {c:.4f}\")"
      ],
      "metadata": {
        "colab": {
          "base_uri": "https://localhost:8080/"
        },
        "id": "3Vrj6al37Uij",
        "outputId": "6329a56c-6d0a-4d8c-aae2-244d1f693b65"
      },
      "execution_count": null,
      "outputs": [
        {
          "output_type": "stream",
          "name": "stdout",
          "text": [
            "Digite a raio: 4\n",
            "Digite a altura: 6\n",
            " o volume de um objeto cilíndrico é: 301.5840\n"
          ]
        }
      ]
    },
    {
      "cell_type": "code",
      "source": [
        "sus = ' '\n",
        "estrela = '*'\n",
        "\n",
        "\n",
        "print(f'{sus*8} {estrela} {sus*8}\\n'\n",
        "      f'{sus*7} {estrela*3} {sus*7}\\n'\n",
        "      f'{sus*6} {estrela*5} {sus*6}\\n'\n",
        "      f'{sus*5} {estrela*7} {sus*5}\\n'\n",
        "      f'{sus*4} {estrela*9} {sus*4}\\n'\n",
        "      f'{sus*3} {estrela*11} {sus*3}\\n'\n",
        "      f'{sus*2} {estrela*13} {sus*2}\\n'\n",
        "      f'{sus*1} {estrela*15} {sus*1}\\n'\n",
        "      f' {estrela*17}\\n'\n",
        "      f'{sus*7} {estrela*3} {sus*7}\\n'\n",
        "      f'{sus*7} {estrela*3} {sus*7}\\n'\n",
        "      f'{sus*7} {estrela*3} {sus*7}\\n')"
      ],
      "metadata": {
        "colab": {
          "base_uri": "https://localhost:8080/"
        },
        "id": "oIfo4iXx9q8j",
        "outputId": "5d5b4813-81dd-4383-c2a0-83b979e12627"
      },
      "execution_count": null,
      "outputs": [
        {
          "output_type": "stream",
          "name": "stdout",
          "text": [
            "         *         \n",
            "        ***        \n",
            "       *****       \n",
            "      *******      \n",
            "     *********     \n",
            "    ***********    \n",
            "   *************   \n",
            "  ***************  \n",
            " *****************\n",
            "        ***        \n",
            "        ***        \n",
            "        ***        \n",
            "\n"
          ]
        }
      ]
    },
    {
      "cell_type": "code",
      "source": [
        "sus = ' '\n",
        "estrela = '*'\n",
        "\n",
        "\n",
        "print(f'\\033[32m{sus*8} {estrela} {sus*8}\\n'\n",
        "      f'{sus*7} {estrela*3} {sus*7}\\n'\n",
        "      f'{sus*6} {estrela*5} {sus*6}\\n'\n",
        "      f'{sus*5} {estrela*7} {sus*5}\\n'\n",
        "      f'{sus*4} {estrela*9} {sus*4}\\n'\n",
        "      f'{sus*3} {estrela*11} {sus*3}\\n'\n",
        "      f'{sus*2} {estrela*13} {sus*2}\\n'\n",
        "      f'{sus*1} {estrela*15} {sus*1}\\n'\n",
        "      f' {estrela*17}\\033[0m\\n'\n",
        "      f'\\033[31m{sus*7} {estrela*3} {sus*7}\\n'\n",
        "      f'{sus*7} {estrela*3} {sus*7}\\n'\n",
        "      f'{sus*7} {estrela*3} {sus*7}\\n\\033[0m')"
      ],
      "metadata": {
        "colab": {
          "base_uri": "https://localhost:8080/"
        },
        "id": "lD29bd_MIQlm",
        "outputId": "31defecc-8ae4-490b-a1c7-647c5c3264e0"
      },
      "execution_count": null,
      "outputs": [
        {
          "output_type": "stream",
          "name": "stdout",
          "text": [
            "\u001b[32m         *         \n",
            "        ***        \n",
            "       *****       \n",
            "      *******      \n",
            "     *********     \n",
            "    ***********    \n",
            "   *************   \n",
            "  ***************  \n",
            " *****************\u001b[0m\n",
            "\u001b[31m        ***        \n",
            "        ***        \n",
            "        ***        \n",
            "\u001b[0m\n"
          ]
        }
      ]
    },
    {
      "cell_type": "code",
      "source": [
        "sus = ' '\n",
        "estrela = '\\033[42m \\033[0m'\n",
        "p='\\033[41m \\033[0m'\n",
        "\n",
        "print(f'\\033[32m{sus*8} {estrela} {sus*8}\\n'\n",
        "      f'{sus*7} {estrela*3} {sus*7}\\n'\n",
        "      f'{sus*6} {estrela*5} {sus*6}\\n'\n",
        "      f'{sus*5} {estrela*7} {sus*5}\\n'\n",
        "      f'{sus*4} {estrela*9} {sus*4}\\n'\n",
        "      f'{sus*3} {estrela*11} {sus*3}\\n'\n",
        "      f'{sus*2} {estrela*13} {sus*2}\\n'\n",
        "      f'{sus*1} {estrela*15} {sus*1}\\n'\n",
        "      f' {estrela*17}\\033[0m\\n'\n",
        "      f'\\033[31m{sus*7} {p*3} {sus*7}\\n'\n",
        "      f'{sus*7} {p*3} {sus*7}\\n'\n",
        "      f'{sus*7} {p*3} {sus*7}\\n\\033[0m')"
      ],
      "metadata": {
        "colab": {
          "base_uri": "https://localhost:8080/"
        },
        "id": "kbaWgq6nIwpB",
        "outputId": "ddd759f0-bf52-4e18-c24c-fae59b98a802"
      },
      "execution_count": null,
      "outputs": [
        {
          "output_type": "stream",
          "name": "stdout",
          "text": [
            "\u001b[32m         \u001b[42m \u001b[0m         \n",
            "        \u001b[42m \u001b[0m\u001b[42m \u001b[0m\u001b[42m \u001b[0m        \n",
            "       \u001b[42m \u001b[0m\u001b[42m \u001b[0m\u001b[42m \u001b[0m\u001b[42m \u001b[0m\u001b[42m \u001b[0m       \n",
            "      \u001b[42m \u001b[0m\u001b[42m \u001b[0m\u001b[42m \u001b[0m\u001b[42m \u001b[0m\u001b[42m \u001b[0m\u001b[42m \u001b[0m\u001b[42m \u001b[0m      \n",
            "     \u001b[42m \u001b[0m\u001b[42m \u001b[0m\u001b[42m \u001b[0m\u001b[42m \u001b[0m\u001b[42m \u001b[0m\u001b[42m \u001b[0m\u001b[42m \u001b[0m\u001b[42m \u001b[0m\u001b[42m \u001b[0m     \n",
            "    \u001b[42m \u001b[0m\u001b[42m \u001b[0m\u001b[42m \u001b[0m\u001b[42m \u001b[0m\u001b[42m \u001b[0m\u001b[42m \u001b[0m\u001b[42m \u001b[0m\u001b[42m \u001b[0m\u001b[42m \u001b[0m\u001b[42m \u001b[0m\u001b[42m \u001b[0m    \n",
            "   \u001b[42m \u001b[0m\u001b[42m \u001b[0m\u001b[42m \u001b[0m\u001b[42m \u001b[0m\u001b[42m \u001b[0m\u001b[42m \u001b[0m\u001b[42m \u001b[0m\u001b[42m \u001b[0m\u001b[42m \u001b[0m\u001b[42m \u001b[0m\u001b[42m \u001b[0m\u001b[42m \u001b[0m\u001b[42m \u001b[0m   \n",
            "  \u001b[42m \u001b[0m\u001b[42m \u001b[0m\u001b[42m \u001b[0m\u001b[42m \u001b[0m\u001b[42m \u001b[0m\u001b[42m \u001b[0m\u001b[42m \u001b[0m\u001b[42m \u001b[0m\u001b[42m \u001b[0m\u001b[42m \u001b[0m\u001b[42m \u001b[0m\u001b[42m \u001b[0m\u001b[42m \u001b[0m\u001b[42m \u001b[0m\u001b[42m \u001b[0m  \n",
            " \u001b[42m \u001b[0m\u001b[42m \u001b[0m\u001b[42m \u001b[0m\u001b[42m \u001b[0m\u001b[42m \u001b[0m\u001b[42m \u001b[0m\u001b[42m \u001b[0m\u001b[42m \u001b[0m\u001b[42m \u001b[0m\u001b[42m \u001b[0m\u001b[42m \u001b[0m\u001b[42m \u001b[0m\u001b[42m \u001b[0m\u001b[42m \u001b[0m\u001b[42m \u001b[0m\u001b[42m \u001b[0m\u001b[42m \u001b[0m\u001b[0m\n",
            "\u001b[31m        \u001b[41m \u001b[0m\u001b[41m \u001b[0m\u001b[41m \u001b[0m        \n",
            "        \u001b[41m \u001b[0m\u001b[41m \u001b[0m\u001b[41m \u001b[0m        \n",
            "        \u001b[41m \u001b[0m\u001b[41m \u001b[0m\u001b[41m \u001b[0m        \n",
            "\u001b[0m\n"
          ]
        }
      ]
    },
    {
      "cell_type": "code",
      "source": [
        "print('\\033[42;33m')\n",
        "print(' CARDÁPIO '.center(50, '#'))\n",
        "print('\\n\\033[0m'\"Pastel \".ljust(47, '.')+('R$ 6,50'))\n",
        "print(\"Coxinha \".ljust(42, '.')+('R$ 5,50'))\n",
        "print(\"Resole de queijo \".ljust(42, '.')+('R$ 7,50'))\n"
      ],
      "metadata": {
        "colab": {
          "base_uri": "https://localhost:8080/"
        },
        "id": "_Pq5rIyfJouP",
        "outputId": "dbe34822-20f4-4699-b0bd-0198949c4546"
      },
      "execution_count": null,
      "outputs": [
        {
          "output_type": "stream",
          "name": "stdout",
          "text": [
            "\u001b[42;33m\n",
            "#################### CARDÁPIO ####################\n",
            "\n",
            "\u001b[0mPastel ...................................R$ 6,50\n",
            "Coxinha ..................................R$ 5,50\n",
            "Resole de queijo .........................R$ 7,50\n"
          ]
        }
      ]
    },
    {
      "cell_type": "code",
      "source": [
        "# DESAFIO 12 v2\n",
        "\n",
        "\n",
        "print('\\033[1;33;42m',\" CARDÁPIO \".center(40, '#'),'\\033[0m\\n')\n",
        "\n",
        "\n",
        "\n",
        "print(f\"{'Pastel'.ljust(32, '.')}{'R$ 6,50'.rjust(10, '.')}\")\n",
        "print(f\"{'Coxinha'.ljust(32, '.')}{'R$ 16,50'.rjust(10, '.')}\")\n",
        "print(f\"{'Risoles de queijo'.ljust(32, '.')}{'R$ 156,50'.rjust(10, '.')}\")"
      ],
      "metadata": {
        "colab": {
          "base_uri": "https://localhost:8080/"
        },
        "id": "-InfEIP4Y6hw",
        "outputId": "c1685de0-c64c-4686-a703-4f4e538d6688"
      },
      "execution_count": null,
      "outputs": [
        {
          "output_type": "stream",
          "name": "stdout",
          "text": [
            "\u001b[1;33;42m ############### CARDÁPIO ############### \u001b[0m\n",
            "\n",
            "Pastel.............................R$ 6,50\n",
            "Coxinha...........................R$ 16,50\n",
            "Risoles de queijo................R$ 156,50\n"
          ]
        }
      ]
    },
    {
      "cell_type": "code",
      "source": [
        "# DESAFIO 12 v2\n",
        "produto= input(\"Nome do produto: \")\n",
        "preco= 'R$ '+input(\"Preço do produto R$: \")\n",
        "\n",
        "print('\\033[1;33;42m',\" CARDÁPIO \".center(40, '#'),'\\033[0m\\n')\n",
        "\n",
        "\n",
        "print(f\"{'Pastel'.ljust(32, '.')}{'R$ 6,50'.rjust(10, '.')}\")\n",
        "print(f\"{'Coxinha'.ljust(32, '.')}{'R$ 16,50'.rjust(10, '.')}\")\n",
        "print(f\"{'Risoles de queijo'.ljust(32, '.')}{'R$ 156,50'.rjust(10, '.')}\")\n",
        "print(f\"{produto.ljust(32, '.')}{preco.rjust(10, '.')}\")"
      ],
      "metadata": {
        "colab": {
          "base_uri": "https://localhost:8080/"
        },
        "id": "1NDNi4RKY9x0",
        "outputId": "1408bf71-97c6-4ce1-8d3d-e3293efe9306"
      },
      "execution_count": null,
      "outputs": [
        {
          "output_type": "stream",
          "name": "stdout",
          "text": [
            "Nome do produto: lulu\n",
            "Preço do produto R$: 15,00\n",
            "\u001b[1;33;42m ############### CARDÁPIO ############### \u001b[0m\n",
            "\n",
            "Pastel.............................R$ 6,50\n",
            "Coxinha...........................R$ 16,50\n",
            "Risoles de queijo................R$ 156,50\n",
            "lulu..............................R$ 15,00\n"
          ]
        }
      ]
    }
  ]
}