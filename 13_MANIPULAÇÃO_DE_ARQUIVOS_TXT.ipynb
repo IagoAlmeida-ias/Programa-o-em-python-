{
  "nbformat": 4,
  "nbformat_minor": 0,
  "metadata": {
    "colab": {
      "provenance": [],
      "authorship_tag": "ABX9TyOwN9v1u2c3AeCVH//9T3Ov",
      "include_colab_link": true
    },
    "kernelspec": {
      "name": "python3",
      "display_name": "Python 3"
    },
    "language_info": {
      "name": "python"
    }
  },
  "cells": [
    {
      "cell_type": "markdown",
      "metadata": {
        "id": "view-in-github",
        "colab_type": "text"
      },
      "source": [
        "<a href=\"https://colab.research.google.com/github/IagoAlmeida-ias/Programa-o-em-python-/blob/main/13_MANIPULA%C3%87%C3%83O_DE_ARQUIVOS_TXT.ipynb\" target=\"_parent\"><img src=\"https://colab.research.google.com/assets/colab-badge.svg\" alt=\"Open In Colab\"/></a>"
      ]
    },
    {
      "cell_type": "markdown",
      "source": [
        "# MANIPULAÇÃO DE ARQUIVOS TXT"
      ],
      "metadata": {
        "id": "b1oHb_ZkEzXm"
      }
    },
    {
      "cell_type": "code",
      "execution_count": null,
      "metadata": {
        "id": "QR1Khj69EuGY"
      },
      "outputs": [],
      "source": [
        "# CONECTAR E SINCRONIZAR PASTA DO GOOGLE DRIVE\n",
        "\"\"\"\n",
        "from google.colab import drive\n",
        "drive.mount('/content/drive')\n",
        "\"\"\"\n",
        "caminho = '/content/drive/MyDrive/Colab Notebooks/2511/arquivos'"
      ]
    },
    {
      "cell_type": "code",
      "source": [
        "# EXEMPLO 01 (w write)\n",
        "\n",
        "\n",
        "arq = 'dados.txt'\n",
        "\n",
        "\n",
        "with open(f\"{caminho}/{arq}\", 'w') as arquivo:\n",
        "    arquivo.write(\"Iago Almeida\")"
      ],
      "metadata": {
        "id": "bNqyRbpZIzC4"
      },
      "execution_count": null,
      "outputs": []
    },
    {
      "cell_type": "code",
      "source": [
        "# EXEMPLO 02\n",
        "\n",
        "\n",
        "arq = 'dadosOrcamento.txt'\n",
        "\n",
        "\n",
        "with open(f\"{caminho}/{arq}\", 'w') as arquivo:\n",
        "    arquivo.write(\"\"\"São Paulo, 12 de setembro de 2024\n",
        "\n",
        "Segue valor do orçamento solicitado:\n",
        "\n",
        "\n",
        "100 Peças X: R$ 200,00\n",
        "200 Peças Y: R$ 150,00\n",
        "Total: R$ 350,00\n",
        "\n",
        "\n",
        "Atenciosamente,\n",
        "Fabio\"\"\")"
      ],
      "metadata": {
        "id": "tFSdDmDwMfym"
      },
      "execution_count": null,
      "outputs": []
    },
    {
      "cell_type": "code",
      "source": [
        "# EXEMPLO 03\n",
        "\n",
        "\n",
        "arq = 'dadosAnimais.txt'\n",
        "\n",
        "\n",
        "with open(f\"{caminho}/{arq}\", 'w') as arquivo:\n",
        "    arquivo.write('Cachorro\\n')\n",
        "    arquivo.write('Gato\\n')\n",
        "    arquivo.write('Passarinho\\n')"
      ],
      "metadata": {
        "id": "OCC7oSP0MykG"
      },
      "execution_count": null,
      "outputs": []
    },
    {
      "cell_type": "code",
      "source": [
        "# EXEMPLO 04\n",
        "import random\n",
        "\n",
        "\n",
        "arq = 'dadosNumeros.txt'\n",
        "\n",
        "\n",
        "with open(f\"{caminho}/{arq}\", 'w') as arquivo:\n",
        "    for i in range(6):\n",
        "        numero = random.randint(1, 60)\n",
        "        n = str(numero)+'\\n'\n",
        "        arquivo.write(n)"
      ],
      "metadata": {
        "id": "h1Ce3DHEN9U-"
      },
      "execution_count": null,
      "outputs": []
    },
    {
      "cell_type": "code",
      "source": [
        "# EXEMPLO 05 (a append)\n",
        "\n",
        "\n",
        "arq = 'dadosAnimais.txt'\n",
        "\n",
        "\n",
        "with open(f\"{caminho}/{arq}\", 'a') as arquivo:\n",
        "    arquivo.write('Girafa\\n')\n",
        "    arquivo.write('Cavalo\\n')\n",
        "    arquivo.write('Leão\\n')"
      ],
      "metadata": {
        "id": "t0CUvYTfPB3W"
      },
      "execution_count": null,
      "outputs": []
    },
    {
      "cell_type": "code",
      "source": [
        "# EXEMPLO 06\n",
        "\n",
        "\n",
        "animais = ['Jacaré', 'Onça', 'Papagaio', 'Camelo', 'Anta']\n",
        "\n",
        "\n",
        "arq = 'dadosAnimais.txt'\n",
        "\n",
        "\n",
        "with open(f\"{caminho}/{arq}\", 'a') as arquivo:\n",
        "    for animal in animais:\n",
        "        arquivo.write(f'{animal}\\n')\n",
        "        print(f'Animal {animal} gravado com sucesso!')"
      ],
      "metadata": {
        "colab": {
          "base_uri": "https://localhost:8080/"
        },
        "id": "Sr-fznxRPbWe",
        "outputId": "d1c08350-206a-478a-92eb-8b7270355c74"
      },
      "execution_count": null,
      "outputs": [
        {
          "output_type": "stream",
          "name": "stdout",
          "text": [
            "Animal Jacaré gravado com sucesso!\n",
            "Animal Onça gravado com sucesso!\n",
            "Animal Papagaio gravado com sucesso!\n",
            "Animal Camelo gravado com sucesso!\n",
            "Animal Anta gravado com sucesso!\n"
          ]
        }
      ]
    },
    {
      "cell_type": "code",
      "source": [
        "# EXEMPLO 07 (r read)\n",
        "\n",
        "\n",
        "arq = 'dadosOrcamento.txt'\n",
        "\n",
        "\n",
        "with open(f\"{caminho}/{arq}\", 'r') as arquivo:\n",
        "    print(arquivo.read())"
      ],
      "metadata": {
        "colab": {
          "base_uri": "https://localhost:8080/"
        },
        "id": "oz1Mh_FyPyek",
        "outputId": "d6954438-8cb2-42be-c8a4-af03bde23bc3"
      },
      "execution_count": null,
      "outputs": [
        {
          "output_type": "stream",
          "name": "stdout",
          "text": [
            "São Paulo, 12 de setembro de 2024\n",
            "\n",
            "\n",
            "Segue valor do orçamento solicitado:\n",
            "\n",
            "\n",
            "100 Peças X: R$ 200,00\n",
            "200 Peças Y: R$ 150,00\n",
            "Total: R$ 350,00\n",
            "\n",
            "\n",
            "Atenciosamente,\n",
            "Fabio\n"
          ]
        }
      ]
    },
    {
      "cell_type": "code",
      "source": [
        "# EXEMPLO 08\n",
        "\n",
        "\n",
        "arq = 'dadosOrcamento.txt'\n",
        "\n",
        "\n",
        "with open(f\"{caminho}/{arq}\", 'r') as arquivo:\n",
        "    print(arquivo.readline())\n",
        "    print(arquivo.readline())\n",
        "    print(arquivo.readline())"
      ],
      "metadata": {
        "colab": {
          "base_uri": "https://localhost:8080/"
        },
        "id": "5FrRZgvwQFqG",
        "outputId": "31c932c0-9ce2-4e11-f318-c6c63b97475f"
      },
      "execution_count": null,
      "outputs": [
        {
          "output_type": "stream",
          "name": "stdout",
          "text": [
            "São Paulo, 12 de setembro de 2024\n",
            "\n",
            "\n",
            "\n",
            "Segue valor do orçamento solicitado:\n",
            "\n"
          ]
        }
      ]
    },
    {
      "cell_type": "code",
      "source": [
        "# EXEMPLO 09\n",
        "\n",
        "\n",
        "arq = 'dadosOrcamento.txt'\n",
        "\n",
        "\n",
        "with open(f\"{caminho}/{arq}\", 'r') as arquivo:\n",
        "    texto = arquivo.readline()\n",
        "    print(texto[0:20])"
      ],
      "metadata": {
        "colab": {
          "base_uri": "https://localhost:8080/"
        },
        "id": "HOLqUy5rQzd0",
        "outputId": "eccfdac0-0b80-4c22-9a30-35ff5080832f"
      },
      "execution_count": null,
      "outputs": [
        {
          "output_type": "stream",
          "name": "stdout",
          "text": [
            "São Paulo, 12 de set\n"
          ]
        }
      ]
    },
    {
      "cell_type": "code",
      "source": [
        "# EXEMPLO 10 (verificar tipagem)\n",
        "\n",
        "\n",
        "arq = 'dadosOrcamento.txt'\n",
        "\n",
        "\n",
        "with open(f\"{caminho}/{arq}\", 'r') as arquivo:\n",
        "    print(arquivo.readlines())\n",
        "    print(type(arquivo.readlines()))"
      ],
      "metadata": {
        "colab": {
          "base_uri": "https://localhost:8080/"
        },
        "id": "B6bUF3O3RGc8",
        "outputId": "6eddb56f-f45a-4dde-8ee4-e55edaf51168"
      },
      "execution_count": null,
      "outputs": [
        {
          "output_type": "stream",
          "name": "stdout",
          "text": [
            "['São Paulo, 12 de setembro de 2024\\n', '\\n', 'Segue valor do orçamento solicitado:\\n', '\\n', '\\n', '100 Peças X: R$ 200,00\\n', '200 Peças Y: R$ 150,00\\n', 'Total: R$ 350,00\\n', '\\n', '\\n', 'Atenciosamente,\\n', 'Fabio']\n",
            "<class 'list'>\n"
          ]
        }
      ]
    },
    {
      "cell_type": "code",
      "source": [
        "# EXEMPLO 10\n",
        "\n",
        "\n",
        "arq = 'dadosOrcamento.txt'\n",
        "\n",
        "\n",
        "with open(f\"{caminho}/{arq}\", 'r') as arquivo:\n",
        "    for linha in arquivo:\n",
        "        print(linha.strip('\\n'))"
      ],
      "metadata": {
        "colab": {
          "base_uri": "https://localhost:8080/"
        },
        "id": "YBYtSQTRRVBV",
        "outputId": "568246c5-e6f4-4183-ef5b-d3efa0982056"
      },
      "execution_count": null,
      "outputs": [
        {
          "output_type": "stream",
          "name": "stdout",
          "text": [
            "São Paulo, 12 de setembro de 2024\n",
            "\n",
            "Segue valor do orçamento solicitado:\n",
            "\n",
            "\n",
            "100 Peças X: R$ 200,00\n",
            "200 Peças Y: R$ 150,00\n",
            "Total: R$ 350,00\n",
            "\n",
            "\n",
            "Atenciosamente,\n",
            "Fabio\n"
          ]
        }
      ]
    },
    {
      "cell_type": "markdown",
      "source": [
        "# DESAFIOS"
      ],
      "metadata": {
        "id": "-CYOY_kDRqQr"
      }
    },
    {
      "cell_type": "code",
      "source": [
        "# DESAFIO 01\n",
        "\"\"\"\n",
        "Exibir apenas a linha do total.\n",
        "\"\"\"\n",
        "# EXEMPLO 07 (r read)\n",
        "\n",
        "\n",
        "arq = 'dadosOrcamento.txt'\n",
        "\n",
        "\n",
        "with open(f\"{caminho}/{arq}\", 'r') as arquivo:\n",
        "    for linha in arquivo:\n",
        "        if 'total' in linha.lower():\n",
        "          print(linha.strip('\\n'))"
      ],
      "metadata": {
        "colab": {
          "base_uri": "https://localhost:8080/"
        },
        "id": "rNE3-iSfRt-T",
        "outputId": "ba565412-ace4-4b08-cc1f-e7872e30be58"
      },
      "execution_count": null,
      "outputs": [
        {
          "output_type": "stream",
          "name": "stdout",
          "text": [
            "Total: R$ 350,00\n"
          ]
        }
      ]
    },
    {
      "cell_type": "code",
      "source": [
        "# DESAFIO 02\n",
        "\"\"\"\n",
        "Crie um sistema de login que faça a leitura do arquivo login.txt que está na seguinte disposição:\n",
        "root\n",
        "1234\n",
        "Leandro Toniati\n",
        "Caso digite o login(root) e senha(1234) buscando as informações no arquivo, será apresentada\n",
        "uma mensagem de boas vindas com o nome do usuário, caso contrário informe 'Usuário ou senha não conferem'\n",
        "\"\"\"\n",
        "\n",
        "\n",
        "import getpass\n",
        "arq = 'login.txt'\n",
        "\n",
        "l = input(\"Digite o login: \")\n",
        "s = getpass.getpass(\"Digite a senha: \")\n",
        "with open(f\"{caminho}/{arq}\", 'r') as arquivo:\n",
        "    arq = arquivo.readlines()\n",
        "    user = arq[0].strip('\\n')\n",
        "    user2 = arq[1].strip('\\n')\n",
        "    user3 = arq[2].strip('\\n')\n",
        "    if l == user and s == user2:\n",
        "       print(f\"\\n\\033[32mBoas vindas {user3}\")\n",
        "    else:\n",
        "        print(\"\\n\\033[31mUsuário ou senha não conferem\")\n"
      ],
      "metadata": {
        "colab": {
          "base_uri": "https://localhost:8080/"
        },
        "id": "Dts994r_VV2b",
        "outputId": "ebe841fa-525c-4b0c-8fc1-fde0affb8789"
      },
      "execution_count": null,
      "outputs": [
        {
          "output_type": "stream",
          "name": "stdout",
          "text": [
            "Digite o login: root\n",
            "Digite a senha: ··········\n",
            "\n",
            "\u001b[32mBoas vindas Iago Almeida\n"
          ]
        }
      ]
    },
    {
      "cell_type": "code",
      "source": [
        "# DESAFIO 02 prof\n",
        "\n",
        "import getpass\n",
        "arq = 'login.txt'\n",
        "\n",
        "\n",
        "with open(f\"{caminho}/{arq}\", 'r') as arquivo:\n",
        "    arq = arquivo.readlines()\n",
        "    user = arq[0].strip('\\n')\n",
        "    pw = arq[1].strip('\\n')\n",
        "    nome = arq[2].strip('\\n')\n",
        "\n",
        "\n",
        "login = input(\"Digite seu usuário: \")\n",
        "senha = getpass.getpass(\"Digite a senha: \")\n",
        "\n",
        "\n",
        "if login == user and senha == pw:\n",
        "    print(f\"\\nSeja bem-vindo, {nome}!\")\n",
        "else:\n",
        "    print(\"\\nLogin ou senha incorretos...\")"
      ],
      "metadata": {
        "id": "ZQLf1CQxiU97"
      },
      "execution_count": null,
      "outputs": []
    },
    {
      "cell_type": "code",
      "source": [
        "# DESAFIO 02 v2 prof\n",
        "\n",
        "\n",
        "from google.colab import output\n",
        "import getpass\n",
        "arq = 'login.txt'\n",
        "\n",
        "\n",
        "with open(f\"{caminho}/{arq}\", 'r') as arquivo:\n",
        "    lista = arquivo.readlines()\n",
        "    l = lista[0].strip('\\n')\n",
        "    s = lista[1].strip('\\n')\n",
        "    n = lista[2].strip('\\n')\n",
        "\n",
        "\n",
        "while True:\n",
        "    if input(\"Login: \") != l:\n",
        "        output.clear()\n",
        "        print(\"Usuário não encontrado\")\n",
        "        continue\n",
        "    output.clear()\n",
        "    break\n",
        "\n",
        "\n",
        "print(f\"Olá {n}!\")\n",
        "while True:\n",
        "    if getpass.getpass(\"Senha: \") != s:\n",
        "        output.clear()\n",
        "        print(f\"Olá {n}!\")\n",
        "        print(f\"Senha não confere...\")\n",
        "        continue\n",
        "    output.clear()\n",
        "    break\n",
        "\n",
        "\n",
        "print(f\"Boa tarde, {n}!\\n\\033[32mLogin efetuado com sucesso!\\033[0m\")"
      ],
      "metadata": {
        "colab": {
          "base_uri": "https://localhost:8080/",
          "height": 391
        },
        "collapsed": true,
        "id": "F8mZf6xKidsZ",
        "outputId": "f86f2f58-05b9-460a-821e-3da960ef50d5"
      },
      "execution_count": null,
      "outputs": [
        {
          "output_type": "stream",
          "name": "stdout",
          "text": [
            "Usuário não encontrado\n"
          ]
        },
        {
          "output_type": "error",
          "ename": "KeyboardInterrupt",
          "evalue": "Interrupted by user",
          "traceback": [
            "\u001b[0;31m---------------------------------------------------------------------------\u001b[0m",
            "\u001b[0;31mKeyboardInterrupt\u001b[0m                         Traceback (most recent call last)",
            "\u001b[0;32m/tmp/ipython-input-65-740550784.py\u001b[0m in \u001b[0;36m<cell line: 0>\u001b[0;34m()\u001b[0m\n\u001b[1;32m     15\u001b[0m \u001b[0;34m\u001b[0m\u001b[0m\n\u001b[1;32m     16\u001b[0m \u001b[0;32mwhile\u001b[0m \u001b[0;32mTrue\u001b[0m\u001b[0;34m:\u001b[0m\u001b[0;34m\u001b[0m\u001b[0;34m\u001b[0m\u001b[0m\n\u001b[0;32m---> 17\u001b[0;31m     \u001b[0;32mif\u001b[0m \u001b[0minput\u001b[0m\u001b[0;34m(\u001b[0m\u001b[0;34m\"Login: \"\u001b[0m\u001b[0;34m)\u001b[0m \u001b[0;34m!=\u001b[0m \u001b[0ml\u001b[0m\u001b[0;34m:\u001b[0m\u001b[0;34m\u001b[0m\u001b[0;34m\u001b[0m\u001b[0m\n\u001b[0m\u001b[1;32m     18\u001b[0m         \u001b[0moutput\u001b[0m\u001b[0;34m.\u001b[0m\u001b[0mclear\u001b[0m\u001b[0;34m(\u001b[0m\u001b[0;34m)\u001b[0m\u001b[0;34m\u001b[0m\u001b[0;34m\u001b[0m\u001b[0m\n\u001b[1;32m     19\u001b[0m         \u001b[0mprint\u001b[0m\u001b[0;34m(\u001b[0m\u001b[0;34m\"Usuário não encontrado\"\u001b[0m\u001b[0;34m)\u001b[0m\u001b[0;34m\u001b[0m\u001b[0;34m\u001b[0m\u001b[0m\n",
            "\u001b[0;32m/usr/local/lib/python3.11/dist-packages/ipykernel/kernelbase.py\u001b[0m in \u001b[0;36mraw_input\u001b[0;34m(self, prompt)\u001b[0m\n\u001b[1;32m   1175\u001b[0m                 \u001b[0;34m\"raw_input was called, but this frontend does not support input requests.\"\u001b[0m\u001b[0;34m\u001b[0m\u001b[0;34m\u001b[0m\u001b[0m\n\u001b[1;32m   1176\u001b[0m             )\n\u001b[0;32m-> 1177\u001b[0;31m         return self._input_request(\n\u001b[0m\u001b[1;32m   1178\u001b[0m             \u001b[0mstr\u001b[0m\u001b[0;34m(\u001b[0m\u001b[0mprompt\u001b[0m\u001b[0;34m)\u001b[0m\u001b[0;34m,\u001b[0m\u001b[0;34m\u001b[0m\u001b[0;34m\u001b[0m\u001b[0m\n\u001b[1;32m   1179\u001b[0m             \u001b[0mself\u001b[0m\u001b[0;34m.\u001b[0m\u001b[0m_parent_ident\u001b[0m\u001b[0;34m[\u001b[0m\u001b[0;34m\"shell\"\u001b[0m\u001b[0;34m]\u001b[0m\u001b[0;34m,\u001b[0m\u001b[0;34m\u001b[0m\u001b[0;34m\u001b[0m\u001b[0m\n",
            "\u001b[0;32m/usr/local/lib/python3.11/dist-packages/ipykernel/kernelbase.py\u001b[0m in \u001b[0;36m_input_request\u001b[0;34m(self, prompt, ident, parent, password)\u001b[0m\n\u001b[1;32m   1217\u001b[0m             \u001b[0;32mexcept\u001b[0m \u001b[0mKeyboardInterrupt\u001b[0m\u001b[0;34m:\u001b[0m\u001b[0;34m\u001b[0m\u001b[0;34m\u001b[0m\u001b[0m\n\u001b[1;32m   1218\u001b[0m                 \u001b[0;31m# re-raise KeyboardInterrupt, to truncate traceback\u001b[0m\u001b[0;34m\u001b[0m\u001b[0;34m\u001b[0m\u001b[0m\n\u001b[0;32m-> 1219\u001b[0;31m                 \u001b[0;32mraise\u001b[0m \u001b[0mKeyboardInterrupt\u001b[0m\u001b[0;34m(\u001b[0m\u001b[0;34m\"Interrupted by user\"\u001b[0m\u001b[0;34m)\u001b[0m \u001b[0;32mfrom\u001b[0m \u001b[0;32mNone\u001b[0m\u001b[0;34m\u001b[0m\u001b[0;34m\u001b[0m\u001b[0m\n\u001b[0m\u001b[1;32m   1220\u001b[0m             \u001b[0;32mexcept\u001b[0m \u001b[0mException\u001b[0m\u001b[0;34m:\u001b[0m\u001b[0;34m\u001b[0m\u001b[0;34m\u001b[0m\u001b[0m\n\u001b[1;32m   1221\u001b[0m                 \u001b[0mself\u001b[0m\u001b[0;34m.\u001b[0m\u001b[0mlog\u001b[0m\u001b[0;34m.\u001b[0m\u001b[0mwarning\u001b[0m\u001b[0;34m(\u001b[0m\u001b[0;34m\"Invalid Message:\"\u001b[0m\u001b[0;34m,\u001b[0m \u001b[0mexc_info\u001b[0m\u001b[0;34m=\u001b[0m\u001b[0;32mTrue\u001b[0m\u001b[0;34m)\u001b[0m\u001b[0;34m\u001b[0m\u001b[0;34m\u001b[0m\u001b[0m\n",
            "\u001b[0;31mKeyboardInterrupt\u001b[0m: Interrupted by user"
          ]
        }
      ]
    },
    {
      "cell_type": "code",
      "source": [
        "# DESAFIO 02 v3\n",
        "\n",
        "\n",
        "import getpass\n",
        "arq = 'login.txt'\n",
        "\n",
        "\n",
        "with open(f\"{caminho}/{arq}\", 'r') as arquivo:\n",
        "    lista = arquivo.readlines()\n",
        "\n",
        "\n",
        "tentativas = 1\n",
        "verifica = True\n",
        "while verifica:\n",
        "    if tentativas > 3:\n",
        "        print(\"Você excedeu o número de tentativas...\")\n",
        "        break\n",
        "    login       = input(\"Login: \")\n",
        "    senha       = getpass.getpass(\"Senha: \")\n",
        "    usuario     = lista[0].strip('\\n')\n",
        "    senhaUser   = lista[1].strip('\\n')\n",
        "    nomeUser    = lista[2].strip('\\n')\n",
        "    if login == usuario and senha == senhaUser:\n",
        "        print(f\"\\nSeja bem-vindo, {nomeUser}!\")\n",
        "        verifica = False\n",
        "    else:\n",
        "        print(f\"Login ou Senha incorretos\")\n",
        "        print(f\"Tentativa ({tentativas}/3)\\n\\n\")\n",
        "    tentativas+=1"
      ],
      "metadata": {
        "colab": {
          "base_uri": "https://localhost:8080/"
        },
        "id": "axdQqGMskQAz",
        "outputId": "51ea153a-287a-4b12-8c68-b1f496f556ea"
      },
      "execution_count": null,
      "outputs": [
        {
          "output_type": "stream",
          "name": "stdout",
          "text": [
            "Login: p\n",
            "Senha: ··········\n",
            "Login ou Senha incorretos\n",
            "Tentativa (1/3)\n",
            "\n",
            "\n",
            "Login: p\n",
            "Senha: ··········\n",
            "Login ou Senha incorretos\n",
            "Tentativa (2/3)\n",
            "\n",
            "\n",
            "Login: p\n",
            "Senha: ··········\n",
            "Login ou Senha incorretos\n",
            "Tentativa (3/3)\n",
            "\n",
            "\n",
            "Você excedeu o número de tentativas...\n"
          ]
        }
      ]
    }
  ]
}