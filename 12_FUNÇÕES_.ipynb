{
  "nbformat": 4,
  "nbformat_minor": 0,
  "metadata": {
    "colab": {
      "provenance": [],
      "authorship_tag": "ABX9TyMhsJq4hpfq7svfnJmBKXzT",
      "include_colab_link": true
    },
    "kernelspec": {
      "name": "python3",
      "display_name": "Python 3"
    },
    "language_info": {
      "name": "python"
    }
  },
  "cells": [
    {
      "cell_type": "markdown",
      "metadata": {
        "id": "view-in-github",
        "colab_type": "text"
      },
      "source": [
        "<a href=\"https://colab.research.google.com/github/IagoAlmeida-ias/Programa-o-em-python-/blob/main/12_FUN%C3%87%C3%95ES_.ipynb\" target=\"_parent\"><img src=\"https://colab.research.google.com/assets/colab-badge.svg\" alt=\"Open In Colab\"/></a>"
      ]
    },
    {
      "cell_type": "markdown",
      "source": [
        "# 12 FUNÇÕES"
      ],
      "metadata": {
        "id": "cDytRiRajyKZ"
      }
    },
    {
      "cell_type": "code",
      "execution_count": null,
      "metadata": {
        "colab": {
          "base_uri": "https://localhost:8080/"
        },
        "id": "21vON9e_jwqD",
        "outputId": "ac64d48b-0228-4774-fa91-5e22064a7bca"
      },
      "outputs": [
        {
          "output_type": "stream",
          "name": "stdout",
          "text": [
            "10\n"
          ]
        }
      ],
      "source": [
        "# ESCOPO DE VARIÁVEIS\n",
        "\n",
        "\n",
        "# VARIÁVEL LOCAL (Função sem argumento e sem retorno)\n",
        "\n",
        "\n",
        "def funcaoLocal():\n",
        "    variavelLocal = 10\n",
        "    print(variavelLocal)\n",
        "\n",
        "\n",
        "funcaoLocal()\n",
        "# print(variavelLocal) # Gera erro\n"
      ]
    },
    {
      "cell_type": "code",
      "source": [
        "# VARIÁVEL GLOBAL (Função sem argumento e sem retorno)\n",
        "\n",
        "\n",
        "variavelGlobal = 5\n",
        "numero = 500\n",
        "\n",
        "\n",
        "def funcaoGlobal():\n",
        "    global variavelGlobal, numero\n",
        "    variavelGlobal += 1\n",
        "    print(variavelGlobal, numero)\n",
        "\n",
        "\n",
        "print(variavelGlobal)\n",
        "funcaoGlobal()\n",
        "print(variavelGlobal)\n",
        "funcaoGlobal()"
      ],
      "metadata": {
        "colab": {
          "base_uri": "https://localhost:8080/"
        },
        "id": "f1PxmrZGmhFp",
        "outputId": "dc8f90a4-ea2c-4a82-ea4b-8bc24dd8767b"
      },
      "execution_count": null,
      "outputs": [
        {
          "output_type": "stream",
          "name": "stdout",
          "text": [
            "5\n",
            "6 500\n",
            "6\n",
            "7 500\n"
          ]
        }
      ]
    },
    {
      "cell_type": "code",
      "source": [
        "# FUNÇÃO SEM ARGUMENTO/PARÂMETRO\n",
        "\n",
        "\n",
        "def saudacao():\n",
        "    print(\"Olá, mundo!\")\n",
        "\n",
        "\n",
        "saudacao()"
      ],
      "metadata": {
        "colab": {
          "base_uri": "https://localhost:8080/"
        },
        "id": "apVquo2Inbop",
        "outputId": "091619b9-cd11-4b12-90d8-1cc06ec6be06"
      },
      "execution_count": null,
      "outputs": [
        {
          "output_type": "stream",
          "name": "stdout",
          "text": [
            "Olá, mundo!\n"
          ]
        }
      ]
    },
    {
      "cell_type": "code",
      "source": [
        "# FUNÇÃO COM PARÂMETRO\n",
        "\n",
        "\n",
        "def soma(x, y):\n",
        "    resultado = x+y\n",
        "    print(resultado)\n",
        "\n",
        "\n",
        "soma(4, 3)\n",
        "# print(soma(20, 10)-soma(5, 2)) # GERA ERRO!!!!!\n"
      ],
      "metadata": {
        "colab": {
          "base_uri": "https://localhost:8080/"
        },
        "id": "VwqVxMCGorHY",
        "outputId": "7f2c6de5-261c-419e-c861-ee50f98e66f2"
      },
      "execution_count": null,
      "outputs": [
        {
          "output_type": "stream",
          "name": "stdout",
          "text": [
            "7\n"
          ]
        }
      ]
    },
    {
      "cell_type": "code",
      "source": [
        "# FUNÇÃO COM PARÂMETRO E RETORNO\n",
        "\n",
        "\n",
        "def soma(x, y):\n",
        "    resultado = x+y\n",
        "    return resultado\n",
        "\n",
        "\n",
        "print(soma(4, 3)-soma(1, 1))"
      ],
      "metadata": {
        "colab": {
          "base_uri": "https://localhost:8080/"
        },
        "id": "8K_H4s3qpcVZ",
        "outputId": "7d2ed308-f823-4702-b576-f4cce99fd87a"
      },
      "execution_count": null,
      "outputs": [
        {
          "output_type": "stream",
          "name": "stdout",
          "text": [
            "5\n"
          ]
        }
      ]
    },
    {
      "cell_type": "code",
      "source": [
        "# FUNÇÃO COM PARÂMETRO, RETORNO E VALOR PADRÃO\n",
        "\n",
        "\n",
        "def divisao(x=10, y=2):\n",
        "    resultado = x/y\n",
        "    return resultado\n",
        "\n",
        "\n",
        "print(divisao(3))"
      ],
      "metadata": {
        "colab": {
          "base_uri": "https://localhost:8080/"
        },
        "id": "WoYV1KSqqGvj",
        "outputId": "054de873-0c88-45f1-a327-76fb2a23dd80"
      },
      "execution_count": null,
      "outputs": [
        {
          "output_type": "stream",
          "name": "stdout",
          "text": [
            "1.5\n"
          ]
        }
      ]
    },
    {
      "cell_type": "code",
      "source": [
        "# EMPACOTAMENTO DE DADOS\n",
        "\n",
        "\n",
        "def mult(*numeros):\n",
        "    # print(type(numeros))\n",
        "    calculo=1\n",
        "    for i in numeros:\n",
        "        calculo*=i\n",
        "    return calculo\n",
        "\n",
        "\n",
        "print(mult(2, 5, 100))"
      ],
      "metadata": {
        "colab": {
          "base_uri": "https://localhost:8080/"
        },
        "id": "IhuFsPL_RzZK",
        "outputId": "3e48771b-a51a-4f2d-a2b9-7ef59f99c3f3"
      },
      "execution_count": null,
      "outputs": [
        {
          "output_type": "stream",
          "name": "stdout",
          "text": [
            "1000\n"
          ]
        }
      ]
    },
    {
      "cell_type": "markdown",
      "source": [
        "# Desafios"
      ],
      "metadata": {
        "id": "rM6MD2HQVvmS"
      }
    },
    {
      "cell_type": "code",
      "source": [
        "# DESAFIO 01\n",
        "\n",
        "def soma(*numeros):\n",
        "    # print(type(numeros))\n",
        "    calculo=0\n",
        "    for i in numeros:\n",
        "        calculo+=i\n",
        "    return calculo\n",
        "\n",
        "\n",
        "print(soma(2, 5, 100))"
      ],
      "metadata": {
        "colab": {
          "base_uri": "https://localhost:8080/"
        },
        "id": "gKn3G1HPV133",
        "outputId": "9eb60868-4119-49ab-af3e-67cdcc3e647c"
      },
      "execution_count": null,
      "outputs": [
        {
          "output_type": "stream",
          "name": "stdout",
          "text": [
            "107\n"
          ]
        }
      ]
    },
    {
      "cell_type": "code",
      "source": [
        "# DESAFIO 02\n",
        "\n",
        "num = int(input(\"Digite um numero de 1 a 10: \"))\n",
        "\n",
        "def funcaoGlobal():\n",
        "   global num\n",
        "   for i in range(1,11):\n",
        "      resultado = num*i\n",
        "      print(resultado, end=' ')\n",
        "\n",
        "funcaoGlobal()"
      ],
      "metadata": {
        "colab": {
          "base_uri": "https://localhost:8080/"
        },
        "id": "3P7aw9UUWrfR",
        "outputId": "25f467d9-f6a1-4718-81b7-670f8dbf180d"
      },
      "execution_count": null,
      "outputs": [
        {
          "output_type": "stream",
          "name": "stdout",
          "text": [
            "Digite um numero de 1 a 10: 8\n",
            "8 16 24 32 40 48 56 64 72 80 "
          ]
        }
      ]
    },
    {
      "cell_type": "code",
      "source": [
        "# DESAFIO 02 v1 prof\n",
        "\n",
        "def tabuada(numero):\n",
        "    for i in range(1, 11):\n",
        "        print(f\"{i} x {numero} = {i*numero}\")\n",
        "\n",
        "\n",
        "tabuada(int(input(\"Digite um nº para ver sua tabuada: \")))"
      ],
      "metadata": {
        "colab": {
          "base_uri": "https://localhost:8080/"
        },
        "id": "_vIPTKy_j9Qe",
        "outputId": "f0d33d53-3fcd-4ba3-b865-3f1cbd0b6c8b"
      },
      "execution_count": null,
      "outputs": [
        {
          "output_type": "stream",
          "name": "stdout",
          "text": [
            "Digite um nº para ver sua tabuada: 5\n",
            "1 x 5 = 5\n",
            "2 x 5 = 10\n",
            "3 x 5 = 15\n",
            "4 x 5 = 20\n",
            "5 x 5 = 25\n",
            "6 x 5 = 30\n",
            "7 x 5 = 35\n",
            "8 x 5 = 40\n",
            "9 x 5 = 45\n",
            "10 x 5 = 50\n"
          ]
        }
      ]
    },
    {
      "cell_type": "code",
      "source": [
        "# DESAFIO 02 v2 prof\n",
        "\n",
        "def tabuada():\n",
        "    numero = int(input(\"Digite um nº para ver sua tabuada: \"))\n",
        "    for i in range(1, 11):\n",
        "        print(f\"{i} x {numero} = {i*numero}\")\n",
        "\n",
        "\n",
        "tabuada()"
      ],
      "metadata": {
        "colab": {
          "base_uri": "https://localhost:8080/"
        },
        "id": "qDrB8HcNkSK1",
        "outputId": "0d3a89e9-e4c2-425e-e8d3-8cfbdeb96607"
      },
      "execution_count": null,
      "outputs": [
        {
          "output_type": "stream",
          "name": "stdout",
          "text": [
            "Digite um nº para ver sua tabuada: 5\n",
            "1 x 5 = 5\n",
            "2 x 5 = 10\n",
            "3 x 5 = 15\n",
            "4 x 5 = 20\n",
            "5 x 5 = 25\n",
            "6 x 5 = 30\n",
            "7 x 5 = 35\n",
            "8 x 5 = 40\n",
            "9 x 5 = 45\n",
            "10 x 5 = 50\n"
          ]
        }
      ]
    },
    {
      "cell_type": "code",
      "source": [
        "# DESAFIO 03\n",
        "\n",
        "\n",
        "from datetime import datetime\n",
        "from pytz import timezone\n",
        "\n",
        "# Define o fuso horário desejado\n",
        "fuso_horario = timezone('America/Sao_Paulo')\n",
        "\n",
        "\n",
        "# Obtém a hora atual já no fuso horário definido\n",
        "hora_atual_sp = datetime.now(fuso_horario)\n",
        "\n",
        "\n",
        "# Formata apenas a hora (HH)\n",
        "hora_formatada = int(hora_atual_sp.strftime('%H'))\n",
        "\n",
        "\n",
        "# Exibe a hora local\n",
        "print(hora_formatada)\n",
        "\n",
        "no = input(\"Digite seu nome: \")\n",
        "def saud():\n",
        "    global no\n",
        "    if hora_formatada >= 6 and hora_formatada < 12:\n",
        "        print('Bom dia', no)\n",
        "\n",
        "    elif hora_formatada >= 12 and hora_formatada < 18:\n",
        "        print('Boa tarde', no)\n",
        "\n",
        "    elif hora_formatada >= 18 and hora_formatada < 00:\n",
        "        print('Boa noite', no)\n",
        "    else:\n",
        "        print('Boa madrugada', no)\n",
        "\n",
        "saud()"
      ],
      "metadata": {
        "colab": {
          "base_uri": "https://localhost:8080/"
        },
        "id": "6fDB2R7Hd56u",
        "outputId": "781e390b-c056-4408-b569-2e597b111176"
      },
      "execution_count": null,
      "outputs": [
        {
          "output_type": "stream",
          "name": "stdout",
          "text": [
            "20\n",
            "Digite seu nome: iago\n",
            "Boa madrugada iago\n"
          ]
        }
      ]
    },
    {
      "cell_type": "code",
      "source": [
        "# DESAFIO 03 v2\n",
        "\n",
        "\n",
        "def saud():\n",
        "    from datetime import datetime\n",
        "    from pytz import timezone\n",
        "    fuso_horario = timezone('America/Sao_Paulo')\n",
        "    hora_atual_sp = datetime.now(fuso_horario)\n",
        "    hora_formatada = int(hora_atual_sp.strftime('%H'))\n",
        "    no = input(\"Digite seu nome: \")\n",
        "    if hora_formatada >= 6 and hora_formatada < 12:\n",
        "            print('Bom dia', no)\n",
        "\n",
        "    elif hora_formatada >= 12 and hora_formatada < 18:\n",
        "            print('Boa tarde', no)\n",
        "\n",
        "    elif hora_formatada >= 18 and hora_formatada < 24:\n",
        "            print('Boa noite', no)\n",
        "    else:\n",
        "            print('Boa madrugada', no)\n",
        "\n",
        "saud()"
      ],
      "metadata": {
        "colab": {
          "base_uri": "https://localhost:8080/"
        },
        "id": "mZIoMzcRjQT2",
        "outputId": "5344093b-d2d1-4fea-e0e2-7a9eebbf2a08"
      },
      "execution_count": null,
      "outputs": [
        {
          "output_type": "stream",
          "name": "stdout",
          "text": [
            "20\n",
            "Digite seu nome: iago\n",
            "Boa noite iago\n"
          ]
        }
      ]
    },
    {
      "cell_type": "code",
      "source": [
        "k# DESAFIO 03 v3 forma facil\n",
        "\n",
        "import time\n",
        "from google.colab import output\n",
        "def saud():\n",
        "    ho = int(input(\"Digite a hora: \"))\n",
        "    no = input(\"Digite seu nome: \")\n",
        "    output.clear()\n",
        "    if ho >= 6 and ho < 12:\n",
        "        print('Bom dia', no)\n",
        "\n",
        "    elif ho >= 12 and ho < 18:\n",
        "        print('Boa tarde', no)\n",
        "\n",
        "    elif ho >= 18 and ho < 24:\n",
        "        print('Boa noite', no)\n",
        "    else:\n",
        "        print('Boa madrugada', no)\n",
        "\n",
        "saud()"
      ],
      "metadata": {
        "colab": {
          "base_uri": "https://localhost:8080/"
        },
        "id": "bRFOvFA0lgLE",
        "outputId": "92c13a00-dab6-4dea-be26-0deac49cad85"
      },
      "execution_count": null,
      "outputs": [
        {
          "output_type": "stream",
          "name": "stdout",
          "text": [
            "Boa noite iago\n"
          ]
        }
      ]
    },
    {
      "cell_type": "code",
      "source": [
        "\n",
        "\n",
        "import time\n",
        "from google.colab import output\n",
        "def ped():\n",
        "   while True:\n",
        "        s = input(\"\"\"\n",
        "        Digite seu sexo:\n",
        "\n",
        "        Digite M (para masculino)\n",
        "        Digite F (para feminino)\n",
        "        \"\"\")\n",
        "        if s != 'm' and s != 'f':\n",
        "            print(\"\\nDeixa de besteira, só vale M e F!\")\n",
        "            continue\n",
        "        output.clear()\n",
        "        t = input(\"\"\"\n",
        "        Digite [s]\n",
        "        Sedentário (pouco ou nenhum exercício)\n",
        "\n",
        "        Digite [L]\n",
        "        Levemente ativo (exercício leve 1-3 dias/semana)\n",
        "\n",
        "        Digite [m]\n",
        "        Moderadamente ativo (exercício moderado 3-5 dias/semana)\n",
        "\n",
        "        Digite [a]\n",
        "        Altamente ativo (exercício pesado 6-7 dias/semana)\n",
        "\n",
        "        Digite [AM]\n",
        "        Muito ativo (exercício muito pesado/treino duas vezes ao dia)\n",
        "        \"\"\")\n",
        "        if t != 's' and t != 'l' and t != 'm' and t != 'a' and t != 'am':\n",
        "            print(\"\\nDeixa de besteira, só vale S, L, M, A e AM!\")\n",
        "            continue\n",
        "        output.clear()\n",
        "        s.lower\n",
        "        t.lower\n",
        "        p = int(input(\"Digite o seu peso: \")) #### 0,034  #### TMB = 66 + (13,7 x peso em kg) + (5 x altura em cm) - (6,8 x idade em anos)\n",
        "        a = int(input(\"Digite sua Altura sem o ponto '.': \"))\n",
        "        i = int(input(\"Digite sua idade: \"))\n",
        "        output.clear()\n",
        "        if s == 'm':\n",
        "            if t == 's':\n",
        "              print(f\"\\nO seu metabolismo basal é: {(66 + (13.7 * p) + (5 * a) - (6.8 * i))*1.2:,.2f}\"\n",
        "                    f\"\\nO quanto de agua: {p*0.034}\")\n",
        "              break\n",
        "            elif t == 'l':\n",
        "               print(f\"\\nO seu metabolismo basal é: {(66 + (13.7 * p) + (5 * a) - (6.8 * i))*1.375:,.2f}\"\n",
        "                     f\"\\nO quanto de agua: {p*0.034}\")\n",
        "               break\n",
        "            elif t == 'm':\n",
        "              print(f\"\\nO seu metabolismo basal é: {(66 + (13.7 * p) + (5 * a) - (6.8 * i))*1.55:,.2f}\"\n",
        "                    f\"\\nO quanto de agua: {p*0.034}\")\n",
        "              break\n",
        "            elif t == 'a':\n",
        "             print(f\"\\nO seu metabolismo basal é: {(66 + (13.7 * p) + (5 * a) - (6.8 * i))*1.725:,.2f}\"\n",
        "                   f\"\\nO quanto de agua: {p*0.034}\")\n",
        "             break\n",
        "            else:\n",
        "              print(f\"\\nO seu metabolismo basal é: {(66 + (13.7 * p) + (5 * a) - (6.8 * i))* 1.9:,.2f}\"\n",
        "                    f\"\\nO quanto de agua: {p*0.034}\")\n",
        "              break\n",
        "        if s == 'f':\n",
        "            if t == 's':\n",
        "              print(f\"\\nO seu metabolismo basal é: {(655 + (9.6 * p) + (1.8 * a) - (4.7 * i))*1.2:,.2f}\"\n",
        "                    f\"\\nO quanto de agua: {p*0.034}\")\n",
        "              break\n",
        "            elif t == 'l':\n",
        "               print(f\"\\nO seu metabolismo basal é: {(655 + (9.6 * p) + (1.8* a) - (4.7 * i))*1.375:,.2f}\"\n",
        "                     f\"\\nO quanto de agua: {p*0.034}\")\n",
        "               break\n",
        "            elif t == 'm':\n",
        "               print(f\"\\nO seu metabolismo basal é: {(655 + (9.6 * p) + (1.8 * a) - (4.7 * i))*1.55:,.2f}\"\n",
        "                     f\"\\nO quanto de agua: {p*0.034}\")\n",
        "               break\n",
        "            elif t == 'a':\n",
        "               print(f\"\\nO seu metabolismo basal é: {(655 + (9.6 * p) + (1.8* a) - (4.7 * i))*1.725:,.2f}\"\n",
        "                     f\"\\nO quanto de agua: {p*0.034}\")\n",
        "               break\n",
        "            else:\n",
        "               print(f\"\\nO seu metabolismo basal é: {(655 + (9.6 * p) + (1.8 * a) - (4.7 * i))* 1.9:,.2f}\"\n",
        "                     f\"\\nO quanto de agua: {p*0.034}\")\n",
        "               break\n",
        "\n",
        "ped()"
      ],
      "metadata": {
        "colab": {
          "base_uri": "https://localhost:8080/"
        },
        "id": "NITdz_EwMagw",
        "outputId": "64202d2e-eadc-415c-ddb7-19c98029559e"
      },
      "execution_count": null,
      "outputs": [
        {
          "output_type": "stream",
          "name": "stdout",
          "text": [
            "\n",
            "        Digite [s]\n",
            "        Sedentário (pouco ou nenhum exercício)\n",
            "\n",
            "        Digite [L]\n",
            "        Levemente ativo (exercício leve 1-3 dias/semana)\n",
            "\n",
            "        Digite [m]\n",
            "        Moderadamente ativo (exercício moderado 3-5 dias/semana)\n",
            "\n",
            "        Digite [a]\n",
            "        Altamente ativo (exercício pesado 6-7 dias/semana)\n",
            "\n",
            "        Digite [AM]\n",
            "        Muito ativo (exercício muito pesado/treino duas vezes ao dia)\n",
            "        s\n",
            "\n",
            "continuando\n"
          ]
        }
      ]
    }
  ]
}