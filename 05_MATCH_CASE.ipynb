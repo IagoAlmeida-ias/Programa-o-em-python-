{
  "nbformat": 4,
  "nbformat_minor": 0,
  "metadata": {
    "colab": {
      "provenance": [],
      "authorship_tag": "ABX9TyMCzR4vlf/B4rWczS2g1Vas",
      "include_colab_link": true
    },
    "kernelspec": {
      "name": "python3",
      "display_name": "Python 3"
    },
    "language_info": {
      "name": "python"
    }
  },
  "cells": [
    {
      "cell_type": "markdown",
      "metadata": {
        "id": "view-in-github",
        "colab_type": "text"
      },
      "source": [
        "<a href=\"https://colab.research.google.com/github/IagoAlmeida-ias/Programa-o-em-python-/blob/main/05_MATCH_CASE.ipynb\" target=\"_parent\"><img src=\"https://colab.research.google.com/assets/colab-badge.svg\" alt=\"Open In Colab\"/></a>"
      ]
    },
    {
      "cell_type": "markdown",
      "source": [
        "# 05 MATCH CASE"
      ],
      "metadata": {
        "id": "xjq7WynIeZUu"
      }
    },
    {
      "cell_type": "code",
      "execution_count": null,
      "metadata": {
        "colab": {
          "base_uri": "https://localhost:8080/"
        },
        "id": "Tr6Y2DT5eWjS",
        "outputId": "6540400a-e3dd-4279-b03e-3d0184f687a1"
      },
      "outputs": [
        {
          "output_type": "stream",
          "name": "stdout",
          "text": [
            "\n",
            "ESCOLHA UMA OPÇÃO:\n",
            "\n",
            "\n",
            "[1] Opção 1\n",
            "[2] Opção 2\n",
            "[3] Opção 3\n",
            "4\n",
            "Opção inválida...\n"
          ]
        }
      ],
      "source": [
        "# OPÇÃO ÚNICA\n",
        "\n",
        "\n",
        "operacao = input(\"\"\"\n",
        "ESCOLHA UMA OPÇÃO:\n",
        "\n",
        "\n",
        "[1] Opção 1\n",
        "[2] Opção 2\n",
        "[3] Opção 3\n",
        "\"\"\")\n",
        "\n",
        "\n",
        "match operacao:\n",
        "    case '1':\n",
        "        print(\"Opção 1 foi escolhida...\")\n",
        "    case '2':\n",
        "        print(\"Opção 2 foi escolhida...\")\n",
        "    case '3':\n",
        "        print(\"Opção 3 foi escolhida...\")\n",
        "    case _:\n",
        "        print(\"Opção inválida...\")"
      ]
    },
    {
      "cell_type": "code",
      "source": [
        "# OPÇÃO MULTIPLA\n",
        "\n",
        "\n",
        "operacao = input(\"\"\"\n",
        "ESCOLHA UMA OPÇÃO:\n",
        "\n",
        "\n",
        "[1] Opção 1\n",
        "[2] Opção 2\n",
        "[3] Opção 3\n",
        "\"\"\")\n",
        "\n",
        "\n",
        "match operacao:\n",
        "    case '1' | '2':\n",
        "        print(\"Opção 1 ou 2 escolhida...\")\n",
        "    case '3':\n",
        "        print(\"Opção 3 foi escolhida...\")\n",
        "    case _:\n",
        "        print(\"Opção inválida...\")"
      ],
      "metadata": {
        "colab": {
          "base_uri": "https://localhost:8080/"
        },
        "id": "4qZT9aEJfkcO",
        "outputId": "1c9ae83a-2c4c-4bd9-f795-a09e7bb648aa"
      },
      "execution_count": null,
      "outputs": [
        {
          "output_type": "stream",
          "name": "stdout",
          "text": [
            "\n",
            "ESCOLHA UMA OPÇÃO:\n",
            "\n",
            "\n",
            "[1] Opção 1\n",
            "[2] Opção 2\n",
            "[3] Opção 3\n",
            "2\n",
            "Opção 1 ou 2 escolhida...\n"
          ]
        }
      ]
    },
    {
      "cell_type": "code",
      "source": [
        "# OPÇÃO MÚLTIPLA COM CASE _ IF\n",
        "\n",
        "\n",
        "numero = int(input(\"Digite um número: \"))\n",
        "\n",
        "\n",
        "match numero:\n",
        "    case 1 | 3 | 5 | 7 | 9:\n",
        "        print(\"É ímpar entre 0 e 10\")\n",
        "    case _ if numero < 0:\n",
        "        print(\"É negativo\")\n",
        "    case _:\n",
        "        print(\"Um número qualquer...\")"
      ],
      "metadata": {
        "colab": {
          "base_uri": "https://localhost:8080/"
        },
        "id": "X31pw01pgogb",
        "outputId": "97d4bb8f-147a-4b14-fad6-7c1a2a9cf91b"
      },
      "execution_count": null,
      "outputs": [
        {
          "output_type": "stream",
          "name": "stdout",
          "text": [
            "Digite um número: -9\n",
            "É negativo\n"
          ]
        }
      ]
    },
    {
      "cell_type": "code",
      "source": [
        "numero = int(input(\"Digite um número: \"))\n",
        "ultimo_numero = str(numero)[-1]\n",
        "\n",
        "\n",
        "match ultimo_numero:\n",
        "    case '1' | '3' | '5' | '7' | '9':\n",
        "        print(f\"\\nO número {numero} é \\033[31mÍMPAR\\033[0m. ☝\")\n",
        "    case _:\n",
        "        print(f\"\\nO número {numero} é \\033[32mPAR\\033[0m. ✌\")"
      ],
      "metadata": {
        "colab": {
          "base_uri": "https://localhost:8080/"
        },
        "id": "g4VvZ48EhMPj",
        "outputId": "fb46449b-6bf0-4a12-e629-529ccdb3291c"
      },
      "execution_count": null,
      "outputs": [
        {
          "output_type": "stream",
          "name": "stdout",
          "text": [
            "Digite um número: 5\n",
            "\n",
            "O número 5 é \u001b[31mÍMPAR\u001b[0m. ☝\n"
          ]
        }
      ]
    },
    {
      "cell_type": "markdown",
      "source": [
        "# DESAFIOS"
      ],
      "metadata": {
        "id": "Yhc5Ai35h2ze"
      }
    },
    {
      "cell_type": "code",
      "source": [
        "n1 = int(input(\"Digite a nota: \"))\n",
        "\n",
        "match n1:\n",
        "    case 0 | 1 | 2 | 3 | 4 :\n",
        "        print(\"Nota Baixa\")\n",
        "    case 5 | 7:\n",
        "        print(\"Nota Média\")\n",
        "    case 8 | 9 :\n",
        "        print(\"Nota Alta\")\n",
        "    case 10:\n",
        "        print(\"Nota Excelente\")\n",
        "    case _:\n",
        "        print(\"\\033[31mNota esta errada↑↑↑\")"
      ],
      "metadata": {
        "colab": {
          "base_uri": "https://localhost:8080/"
        },
        "id": "enSPnR9Gh7K_",
        "outputId": "94a015c1-2f9e-42a3-aeac-121d429be892"
      },
      "execution_count": null,
      "outputs": [
        {
          "output_type": "stream",
          "name": "stdout",
          "text": [
            "Digite a nota: 3\n",
            "Nota esta errada\n"
          ]
        }
      ]
    },
    {
      "cell_type": "code",
      "source": [
        "\n",
        "# DESAFIO 02\n",
        "\n",
        "n1 = float(input(\"Digite a nota: \"))\n",
        "\n",
        "match n1:\n",
        "    case _ if n1 <5:\n",
        "        print(\"Nota Baixa\")\n",
        "    case _ if n1 >=5 and n1 <=6.9:\n",
        "        print(\"Nota Média\")\n",
        "    case _ if n1 >=7 and n1 <=9.9:\n",
        "        print(\"Nota Alta\")\n",
        "    case 10:\n",
        "        print(\"Nota Excelente\")\n",
        "    case _:\n",
        "        print(\"\\033[31mNota esta errada↑↑↑\")"
      ],
      "metadata": {
        "colab": {
          "base_uri": "https://localhost:8080/"
        },
        "id": "Qz_VvWdSjbyV",
        "outputId": "e9ad2172-4b0b-4325-c7d0-fa0ce087bf30"
      },
      "execution_count": null,
      "outputs": [
        {
          "output_type": "stream",
          "name": "stdout",
          "text": [
            "Digite a nota: 6.8\n",
            "Nota Média\n"
          ]
        }
      ]
    },
    {
      "cell_type": "code",
      "source": [
        "# DESAFIO 03\n",
        "n1 = int(input(\"\"\"\n",
        "EScolha um:\n",
        "\n",
        "[1] domingo\n",
        "[2] segunda\n",
        "[3] terça\n",
        "[4] quarta\n",
        "[5] quinta\n",
        "[6] sexta\n",
        "[7] sabado\n",
        "\n",
        "\"\"\"))\n",
        "match n1:\n",
        "    case 1:\n",
        "        print(\"domingo\")\n",
        "    case 2:\n",
        "        print(\"segunda\")\n",
        "    case 3:\n",
        "        print(\"terça\")\n",
        "    case 4:\n",
        "        print(\"quarta\")\n",
        "    case 5:\n",
        "        print(\"quinta\")\n",
        "    case 6:\n",
        "        print(\"sexta\")\n",
        "    case 7:\n",
        "        print(\"sabado\")\n",
        "    case _:\n",
        "        print(f\"\\033[31m↑↑↑{n1} não estava nas opcões de escolhas\")"
      ],
      "metadata": {
        "colab": {
          "base_uri": "https://localhost:8080/"
        },
        "id": "pRAQ45nDjqU7",
        "outputId": "7e88775a-d4ff-46cc-dd81-593f79474bc5"
      },
      "execution_count": null,
      "outputs": [
        {
          "output_type": "stream",
          "name": "stdout",
          "text": [
            "\n",
            "EScolha um:\n",
            "\n",
            "[1] domingo\n",
            "[2] segunda\n",
            "[3] terça\n",
            "[4] quarta\n",
            "[5] quinta\n",
            "[6] sexta\n",
            "[7] sabado\n",
            "\n",
            "8\n",
            "8 não estava nas opcões de escolhas\n"
          ]
        }
      ]
    },
    {
      "cell_type": "code",
      "source": [
        "# DESAFIO 04\n",
        "\n",
        "n1 = int(input(\"Digite a nota: \"))\n",
        "n2 = int(input(\"Digite a nota: \"))\n",
        "n = input(\"\"\"\n",
        "Escolha a operação\n",
        "\n",
        "[+] adição\n",
        "[-] subtração\n",
        "[*] multiplicação\n",
        "[/] divisão\n",
        "\n",
        "\"\"\")\n",
        "\n",
        "match n:\n",
        "    case '+':\n",
        "        print(f\"\\033[32m{n1} + {n2} é igual a: {n1+n2} \")\n",
        "    case '-':\n",
        "        print(f\"\\033[32m{n1} - {n2} é igual a: {n1-n2} \")\n",
        "    case '*':\n",
        "        print(f\"\\033[32m{n1} * {n2} é igual a: {n1*n2} \")\n",
        "    case '/':\n",
        "        print(f\"\\033[32m{n1} / {n2} é igual a: {n1/n2:,.1f} \")\n",
        "    case _ :\n",
        "        print(f\"\\033[31m↑↑↑↑{n}Não é uma operação\")"
      ],
      "metadata": {
        "id": "oZ19NoLJlR-s",
        "colab": {
          "base_uri": "https://localhost:8080/"
        },
        "outputId": "b71d9235-520a-4af5-d890-472ac6550c8e"
      },
      "execution_count": null,
      "outputs": [
        {
          "output_type": "stream",
          "name": "stdout",
          "text": [
            "Digite a nota: 7\n",
            "Digite a nota: 10\n",
            "\n",
            "Escolha a operação\n",
            "\n",
            "[+] adição\n",
            "[-] subtração\n",
            "[*] multiplicação\n",
            "[/] divisão\n",
            "\n",
            "/\n",
            "\u001b[32m10 / 7 é igual a: 1.4 \n"
          ]
        }
      ]
    },
    {
      "cell_type": "code",
      "source": [
        "# DESAFIO 04 v2\n",
        "\n",
        "n1 = float(input(\"Digite a numero 1: \"))\n",
        "\n",
        "n = input(\"\"\"\n",
        "Escolha a operação\n",
        "\n",
        "[+] adição\n",
        "[-] subtração\n",
        "[*] multiplicação\n",
        "[/] divisão\n",
        "\n",
        "\"\"\")\n",
        "n2 = float(input(\"Digite a numero 2: \"))\n",
        "match n:\n",
        "    case '+':\n",
        "        print(f\"\\033[32m{n1} + {n2} é igual a: {n1+n2} \")\n",
        "    case '-':\n",
        "        print(f\"\\033[32m{n1} - {n2} é igual a: {n1-n2} \")\n",
        "    case '*':\n",
        "        print(f\"\\033[32m{n1} * {n2} é igual a: {n1*n2} \")\n",
        "    case '/' if n2 == 0:\n",
        "        print(f\"não pode fazer a divisão\")\n",
        "    case '/':\n",
        "        print(f\"\\033[32m{n1} / {n2} é igual a: {n1/n2:,.1f} \")\n",
        "    case _ :\n",
        "        print(f\"\\033[31m↑↑↑↑{n}Não é uma operação\")"
      ],
      "metadata": {
        "colab": {
          "base_uri": "https://localhost:8080/"
        },
        "id": "OWNeVFmja-ZD",
        "outputId": "e6970be2-6b45-4d75-a8ce-2b6224b584ea"
      },
      "execution_count": null,
      "outputs": [
        {
          "output_type": "stream",
          "name": "stdout",
          "text": [
            "Digite a numero 1: 5\n",
            "\n",
            "Escolha a operação\n",
            "\n",
            "[+] adição\n",
            "[-] subtração\n",
            "[*] multiplicação\n",
            "[/] divisão\n",
            "\n",
            "*\n",
            "Digite a numero 2: 9\n",
            "\u001b[32m5.0 * 9.0 é igual a: 45.0 \n"
          ]
        }
      ]
    },
    {
      "cell_type": "code",
      "source": [
        "# DESAFIO 05\n",
        "\n",
        "letra = input(\"Escreva uma letra: \").upper()\n",
        "\n",
        "match letra:\n",
        "    case 'A' | 'E' | 'I' | 'O' |'U':\n",
        "        print(f\"\\033[32m{letra} é uma vogal\")\n",
        "    case _ if letra.isalpha() :\n",
        "        print(f\"\\033[33{letra} é uma consoante\")\n",
        "    case _ :\n",
        "        print(f\"\\033[31m{letra} não esta no alfabeto \")"
      ],
      "metadata": {
        "colab": {
          "base_uri": "https://localhost:8080/"
        },
        "id": "KsikdmszPp_n",
        "outputId": "7bc51631-05ca-4421-f6c4-e02e29b18faa"
      },
      "execution_count": null,
      "outputs": [
        {
          "output_type": "stream",
          "name": "stdout",
          "text": [
            "Escreva uma letra: a\n",
            "A é uma vogal\n"
          ]
        }
      ]
    },
    {
      "cell_type": "code",
      "source": [
        "# DESAFIO 06\n",
        "letra = input(\"Escreva uma letra: \").lower()\n",
        "\n",
        "match letra:\n",
        "    case 'a' | 'e' | 'i' | 'o' |'u':\n",
        "        print(f\"\\033[32{letra} é uma vogal\")\n",
        "    case _ if letra.isalpha() :\n",
        "        print(f\"\\033[33m{letra} é uma consoante\")\n",
        "    case _ :\n",
        "        print(f\"\\033[31m{letra} não esta no alfabeto \")"
      ],
      "metadata": {
        "colab": {
          "base_uri": "https://localhost:8080/"
        },
        "id": "ySmWRF8bSHXk",
        "outputId": "80a11996-93c2-4642-8db2-5cfa092b3353"
      },
      "execution_count": null,
      "outputs": [
        {
          "output_type": "stream",
          "name": "stdout",
          "text": [
            "Escreva uma letra: p\n",
            "\u001b[33mp é uma consoante\n"
          ]
        }
      ]
    },
    {
      "cell_type": "code",
      "source": [
        "# DESAFIO 06 V2\n",
        "letra = input(\"Escreva uma letra: \").lower()\n",
        "\n",
        "match letra:\n",
        "    case 'a' | 'e' | 'i' | 'o' |'u':\n",
        "        print(f\"\\033[32{letra} é uma vogal\")\n",
        "    case _ if letra.isalpha() :\n",
        "        print(f\"\\033[33m{letra} é uma consoante\")\n",
        "    case _ if letra.isnumeric():\n",
        "        print(f\"\\033[31m{letra} é um numero inteiro\")\n",
        "    case _ if letra.isspace():\n",
        "        print(f\"\\033[31m{letra} é um Espaço\")\n",
        "    case _ :\n",
        "        print(f\"\\033[31m{letra} é um caracter especial\")"
      ],
      "metadata": {
        "colab": {
          "base_uri": "https://localhost:8080/"
        },
        "id": "iRN4Rr0fX6dT",
        "outputId": "7022b2e3-0afe-424d-c4ea-87842b78bc5c"
      },
      "execution_count": null,
      "outputs": [
        {
          "output_type": "stream",
          "name": "stdout",
          "text": [
            "Escreva uma letra: 2.3\n",
            "\u001b[31m2.3 é um caractere especial\n"
          ]
        }
      ]
    },
    {
      "cell_type": "code",
      "source": [
        "# DESAFIO 07\n",
        "\n",
        "valor = float(input(\"Escreva o valor: R$ \"))\n",
        "mo = input(\"\"\"\n",
        "[D] Dólar\n",
        "[E] Euro\n",
        "[L] Libra\n",
        "\n",
        "\"\"\").upper()\n",
        "\n",
        "match mo:\n",
        "    case 'D':\n",
        "        print(f\"Novo saldo é de:\\033[32m $ {valor*0.18:,.2f}\")\n",
        "    case 'E':\n",
        "        print(f\"Novo saldo é de:\\033[32m € {valor*0.16:,.2f}\")\n",
        "    case 'L':\n",
        "        print(f\"Novo saldo é de:\\033[32m £ {valor*0.13:,.2f}\")\n",
        "    case _ :\n",
        "        print(f\"\\033[31m↑↑↑ {mo} foi uma escolha direrente das opões \")\n"
      ],
      "metadata": {
        "colab": {
          "base_uri": "https://localhost:8080/"
        },
        "id": "jGqEHt_fSeci",
        "outputId": "5e6ca66e-57f3-4799-e795-186e1d654f3a"
      },
      "execution_count": null,
      "outputs": [
        {
          "output_type": "stream",
          "name": "stdout",
          "text": [
            "Escreva o valor: R$ 5\n",
            "\n",
            "[D] Dólar\n",
            "[E] Euro\n",
            "[L] Libra\n",
            "\n",
            "p\n",
            "\u001b[31m↑↑↑ P foi uma escolha direrente das opões \n"
          ]
        }
      ]
    },
    {
      "cell_type": "code",
      "source": [
        "# DESAFIO 07 v2\n",
        "\n",
        "\n",
        "dolar = 0.18\n",
        "euro = 0.16\n",
        "libra = 0.13\n",
        "\n",
        "\n",
        "print(\"\"\"\n",
        "___________________________\n",
        "\n",
        "\n",
        "🤑\\033[1;32m  CONVERSÃO DE MOEDAS \\033[0m 💲\n",
        "___________________________\n",
        "\"\"\")\n",
        "\n",
        "\n",
        "valor = float(input(\"Digite um valor em R$ para conversão: \\n\\n\"))\n",
        "conversao = input(\"\\nEscolha a moeda: D (Dólar) E (Euro) L (Libra) \\n\\n\").lower()\n",
        "\n",
        "\n",
        "match conversao:\n",
        "    case 'd':\n",
        "        print(f\"\\n$ {(valor*dolar):,.2f}\")\n",
        "    case 'e':\n",
        "        print(f\"\\n€ {(valor*euro):,.2f}\")\n",
        "    case 'l':\n",
        "        print(f\"\\n£ {(valor*libra):,.2f}\")\n",
        "    case _:\n",
        "        print(\"\\n\\033[31mConversão inválida...\")"
      ],
      "metadata": {
        "colab": {
          "base_uri": "https://localhost:8080/"
        },
        "id": "bpRjBuiNpd3r",
        "outputId": "a265209e-0b63-4953-ad9f-95068264ae29"
      },
      "execution_count": null,
      "outputs": [
        {
          "output_type": "stream",
          "name": "stdout",
          "text": [
            "\n",
            "___________________________\n",
            "\n",
            "\n",
            "🤑\u001b[1;32m  CONVERSÃO DE MOEDAS \u001b[0m 💲\n",
            "___________________________\n",
            "\n",
            "Digite um valor em R$ para conversão: \n",
            "\n",
            "11111\n",
            "\n",
            "Escolha a moeda: D (Dólar) E (Euro) L (Libra) \n",
            "\n",
            "d\n",
            "\n",
            "$ 1,999.98\n"
          ]
        }
      ]
    }
  ]
}